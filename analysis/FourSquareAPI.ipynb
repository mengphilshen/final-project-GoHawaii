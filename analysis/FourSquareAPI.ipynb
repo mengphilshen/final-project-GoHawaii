{
  "nbformat": 4,
  "nbformat_minor": 0,
  "metadata": {
    "colab": {
      "name": "FourSquareAPI.ipynb",
      "provenance": [],
      "toc_visible": true,
      "authorship_tag": "ABX9TyOdMh58OFxX/y0b0dgN2Huz",
      "include_colab_link": true
    },
    "kernelspec": {
      "name": "python3",
      "display_name": "Python 3"
    }
  },
  "cells": [
    {
      "cell_type": "markdown",
      "metadata": {
        "id": "view-in-github",
        "colab_type": "text"
      },
      "source": [
        "<a href=\"https://colab.research.google.com/github/mengphilshen/final-project-GoHawaii/blob/main/FourSquareAPI.ipynb\" target=\"_parent\"><img src=\"https://colab.research.google.com/assets/colab-badge.svg\" alt=\"Open In Colab\"/></a>"
      ]
    },
    {
      "cell_type": "markdown",
      "metadata": {
        "id": "emcn9OlI9i3R"
      },
      "source": [
        "# Introduction"
      ]
    },
    {
      "cell_type": "markdown",
      "metadata": {
        "id": "jMOop_aq9xiq"
      },
      "source": [
        "## Data Import"
      ]
    },
    {
      "cell_type": "code",
      "metadata": {
        "id": "dHxyTg0w9q0Z"
      },
      "source": [
        "# import modules\n",
        "import pandas as pd\n",
        "import requests\n",
        "import folium"
      ],
      "execution_count": null,
      "outputs": []
    },
    {
      "cell_type": "code",
      "metadata": {
        "id": "TLsyN2FVW-dB",
        "colab": {
          "base_uri": "https://localhost:8080/"
        },
        "outputId": "cf47e595-7a66-4636-cf1e-7699472ec6b7"
      },
      "source": [
        "# mount Google drive\n",
        "from google.colab import drive\n",
        "drive.mount('/content/drive')"
      ],
      "execution_count": null,
      "outputs": [
        {
          "output_type": "stream",
          "text": [
            "Mounted at /content/drive\n"
          ],
          "name": "stdout"
        }
      ]
    },
    {
      "cell_type": "code",
      "metadata": {
        "id": "vqccL4lHaipV"
      },
      "source": [
        "# helper function\n",
        "def get_category_type(row):\n",
        "    try:\n",
        "        categories_list = row['categories']\n",
        "    except:\n",
        "        categories_list = row['venue.categories']\n",
        "        \n",
        "    if len(categories_list) == 0:\n",
        "        return None\n",
        "    else:\n",
        "        return categories_list[0]['name']"
      ],
      "execution_count": null,
      "outputs": []
    },
    {
      "cell_type": "code",
      "metadata": {
        "id": "0sKRbtVR9Y9W"
      },
      "source": [
        "# set credentials\n",
        "client_id = 'Z4NHD5IUOAKVJFVGPM2QAHX4BKFQ3HBR3SDHKQVBC0DHPF5X'\n",
        "client_secret = 'QVVE0H14JUI51DTBHJG3FSBXPR1YHR5QUB3U0FTCF3KDPWHC'\n",
        "version = '20191231'"
      ],
      "execution_count": null,
      "outputs": []
    },
    {
      "cell_type": "code",
      "metadata": {
        "id": "QvPJstmlWkUn"
      },
      "source": [
        "# load Hawaii_neighbourhoods dataset\n",
        "neighbourhoods0 = pd.read_csv(\"/content/drive/My Drive/CIS550_Project/Data/Airbnb_Hawaii/Hawaii_neighbourhoods.csv\")"
      ],
      "execution_count": null,
      "outputs": []
    },
    {
      "cell_type": "code",
      "metadata": {
        "id": "1CToUwUQWqNm",
        "colab": {
          "base_uri": "https://localhost:8080/",
          "height": 1000
        },
        "outputId": "1a671592-c0db-4fbe-fa4e-f77f0fbd3796"
      },
      "source": [
        "neighbourhoods0"
      ],
      "execution_count": null,
      "outputs": [
        {
          "output_type": "execute_result",
          "data": {
            "text/html": [
              "<div>\n",
              "<style scoped>\n",
              "    .dataframe tbody tr th:only-of-type {\n",
              "        vertical-align: middle;\n",
              "    }\n",
              "\n",
              "    .dataframe tbody tr th {\n",
              "        vertical-align: top;\n",
              "    }\n",
              "\n",
              "    .dataframe thead th {\n",
              "        text-align: right;\n",
              "    }\n",
              "</style>\n",
              "<table border=\"1\" class=\"dataframe\">\n",
              "  <thead>\n",
              "    <tr style=\"text-align: right;\">\n",
              "      <th></th>\n",
              "      <th>neighbourhood_group</th>\n",
              "      <th>neighbourhood</th>\n",
              "      <th>latitude</th>\n",
              "      <th>longitude</th>\n",
              "    </tr>\n",
              "  </thead>\n",
              "  <tbody>\n",
              "    <tr>\n",
              "      <th>0</th>\n",
              "      <td>Hawaii</td>\n",
              "      <td>Hamakua</td>\n",
              "      <td>19.34</td>\n",
              "      <td>-155.30</td>\n",
              "    </tr>\n",
              "    <tr>\n",
              "      <th>1</th>\n",
              "      <td>Hawaii</td>\n",
              "      <td>Kau</td>\n",
              "      <td>19.34</td>\n",
              "      <td>-155.30</td>\n",
              "    </tr>\n",
              "    <tr>\n",
              "      <th>2</th>\n",
              "      <td>Hawaii</td>\n",
              "      <td>North Hilo</td>\n",
              "      <td>19.34</td>\n",
              "      <td>-155.30</td>\n",
              "    </tr>\n",
              "    <tr>\n",
              "      <th>3</th>\n",
              "      <td>Hawaii</td>\n",
              "      <td>North Kohala</td>\n",
              "      <td>19.34</td>\n",
              "      <td>-155.30</td>\n",
              "    </tr>\n",
              "    <tr>\n",
              "      <th>4</th>\n",
              "      <td>Hawaii</td>\n",
              "      <td>North Kona</td>\n",
              "      <td>19.34</td>\n",
              "      <td>-155.30</td>\n",
              "    </tr>\n",
              "    <tr>\n",
              "      <th>5</th>\n",
              "      <td>Hawaii</td>\n",
              "      <td>Puna</td>\n",
              "      <td>19.34</td>\n",
              "      <td>-155.30</td>\n",
              "    </tr>\n",
              "    <tr>\n",
              "      <th>6</th>\n",
              "      <td>Hawaii</td>\n",
              "      <td>South Hilo</td>\n",
              "      <td>19.34</td>\n",
              "      <td>-155.30</td>\n",
              "    </tr>\n",
              "    <tr>\n",
              "      <th>7</th>\n",
              "      <td>Hawaii</td>\n",
              "      <td>South Kohala</td>\n",
              "      <td>19.34</td>\n",
              "      <td>-155.30</td>\n",
              "    </tr>\n",
              "    <tr>\n",
              "      <th>8</th>\n",
              "      <td>Hawaii</td>\n",
              "      <td>South Kona</td>\n",
              "      <td>19.34</td>\n",
              "      <td>-155.30</td>\n",
              "    </tr>\n",
              "    <tr>\n",
              "      <th>9</th>\n",
              "      <td>Honolulu</td>\n",
              "      <td>Central Oahu</td>\n",
              "      <td>21.28</td>\n",
              "      <td>-157.59</td>\n",
              "    </tr>\n",
              "    <tr>\n",
              "      <th>10</th>\n",
              "      <td>Honolulu</td>\n",
              "      <td>East Honolulu</td>\n",
              "      <td>21.28</td>\n",
              "      <td>-157.59</td>\n",
              "    </tr>\n",
              "    <tr>\n",
              "      <th>11</th>\n",
              "      <td>Honolulu</td>\n",
              "      <td>Ewa</td>\n",
              "      <td>21.28</td>\n",
              "      <td>-157.59</td>\n",
              "    </tr>\n",
              "    <tr>\n",
              "      <th>12</th>\n",
              "      <td>Honolulu</td>\n",
              "      <td>Koolauloa</td>\n",
              "      <td>21.28</td>\n",
              "      <td>-157.59</td>\n",
              "    </tr>\n",
              "    <tr>\n",
              "      <th>13</th>\n",
              "      <td>Honolulu</td>\n",
              "      <td>Koolaupoko</td>\n",
              "      <td>21.28</td>\n",
              "      <td>-157.59</td>\n",
              "    </tr>\n",
              "    <tr>\n",
              "      <th>14</th>\n",
              "      <td>Honolulu</td>\n",
              "      <td>North Shore Oahu</td>\n",
              "      <td>21.28</td>\n",
              "      <td>-157.59</td>\n",
              "    </tr>\n",
              "    <tr>\n",
              "      <th>15</th>\n",
              "      <td>Honolulu</td>\n",
              "      <td>Primary Urban Center</td>\n",
              "      <td>21.28</td>\n",
              "      <td>-157.59</td>\n",
              "    </tr>\n",
              "    <tr>\n",
              "      <th>16</th>\n",
              "      <td>Honolulu</td>\n",
              "      <td>Waianae</td>\n",
              "      <td>21.28</td>\n",
              "      <td>-157.59</td>\n",
              "    </tr>\n",
              "    <tr>\n",
              "      <th>17</th>\n",
              "      <td>Kauai</td>\n",
              "      <td>Hanapepe-Eleele</td>\n",
              "      <td>22.05</td>\n",
              "      <td>-159.30</td>\n",
              "    </tr>\n",
              "    <tr>\n",
              "      <th>18</th>\n",
              "      <td>Kauai</td>\n",
              "      <td>Kapaa-Wailua</td>\n",
              "      <td>22.05</td>\n",
              "      <td>-159.30</td>\n",
              "    </tr>\n",
              "    <tr>\n",
              "      <th>19</th>\n",
              "      <td>Kauai</td>\n",
              "      <td>Koloa-Poipu</td>\n",
              "      <td>22.05</td>\n",
              "      <td>-159.30</td>\n",
              "    </tr>\n",
              "    <tr>\n",
              "      <th>20</th>\n",
              "      <td>Kauai</td>\n",
              "      <td>Lihue</td>\n",
              "      <td>22.05</td>\n",
              "      <td>-159.30</td>\n",
              "    </tr>\n",
              "    <tr>\n",
              "      <th>21</th>\n",
              "      <td>Kauai</td>\n",
              "      <td>North Shore Kauai</td>\n",
              "      <td>22.05</td>\n",
              "      <td>-159.30</td>\n",
              "    </tr>\n",
              "    <tr>\n",
              "      <th>22</th>\n",
              "      <td>Kauai</td>\n",
              "      <td>Waimea-Kekaha</td>\n",
              "      <td>22.05</td>\n",
              "      <td>-159.30</td>\n",
              "    </tr>\n",
              "    <tr>\n",
              "      <th>23</th>\n",
              "      <td>Maui</td>\n",
              "      <td>Hana</td>\n",
              "      <td>20.48</td>\n",
              "      <td>-156.20</td>\n",
              "    </tr>\n",
              "    <tr>\n",
              "      <th>24</th>\n",
              "      <td>Maui</td>\n",
              "      <td>Kahoolawe</td>\n",
              "      <td>20.48</td>\n",
              "      <td>-156.20</td>\n",
              "    </tr>\n",
              "    <tr>\n",
              "      <th>25</th>\n",
              "      <td>Maui</td>\n",
              "      <td>Kihei-Makena</td>\n",
              "      <td>20.48</td>\n",
              "      <td>-156.20</td>\n",
              "    </tr>\n",
              "    <tr>\n",
              "      <th>26</th>\n",
              "      <td>Maui</td>\n",
              "      <td>Lahaina</td>\n",
              "      <td>20.48</td>\n",
              "      <td>-156.20</td>\n",
              "    </tr>\n",
              "    <tr>\n",
              "      <th>27</th>\n",
              "      <td>Maui</td>\n",
              "      <td>Lanai</td>\n",
              "      <td>20.48</td>\n",
              "      <td>-156.20</td>\n",
              "    </tr>\n",
              "    <tr>\n",
              "      <th>28</th>\n",
              "      <td>Maui</td>\n",
              "      <td>Makawao-Pukalani-Kula</td>\n",
              "      <td>20.48</td>\n",
              "      <td>-156.20</td>\n",
              "    </tr>\n",
              "    <tr>\n",
              "      <th>29</th>\n",
              "      <td>Maui</td>\n",
              "      <td>Molokai</td>\n",
              "      <td>20.48</td>\n",
              "      <td>-156.20</td>\n",
              "    </tr>\n",
              "    <tr>\n",
              "      <th>30</th>\n",
              "      <td>Maui</td>\n",
              "      <td>Paia-Haiku</td>\n",
              "      <td>20.48</td>\n",
              "      <td>-156.20</td>\n",
              "    </tr>\n",
              "    <tr>\n",
              "      <th>31</th>\n",
              "      <td>Maui</td>\n",
              "      <td>Wailuku-Kahului</td>\n",
              "      <td>20.48</td>\n",
              "      <td>-156.20</td>\n",
              "    </tr>\n",
              "  </tbody>\n",
              "</table>\n",
              "</div>"
            ],
            "text/plain": [
              "   neighbourhood_group          neighbourhood  latitude  longitude\n",
              "0               Hawaii                Hamakua     19.34    -155.30\n",
              "1               Hawaii                    Kau     19.34    -155.30\n",
              "2               Hawaii             North Hilo     19.34    -155.30\n",
              "3               Hawaii           North Kohala     19.34    -155.30\n",
              "4               Hawaii             North Kona     19.34    -155.30\n",
              "5               Hawaii                   Puna     19.34    -155.30\n",
              "6               Hawaii             South Hilo     19.34    -155.30\n",
              "7               Hawaii           South Kohala     19.34    -155.30\n",
              "8               Hawaii             South Kona     19.34    -155.30\n",
              "9             Honolulu           Central Oahu     21.28    -157.59\n",
              "10            Honolulu          East Honolulu     21.28    -157.59\n",
              "11            Honolulu                    Ewa     21.28    -157.59\n",
              "12            Honolulu              Koolauloa     21.28    -157.59\n",
              "13            Honolulu             Koolaupoko     21.28    -157.59\n",
              "14            Honolulu       North Shore Oahu     21.28    -157.59\n",
              "15            Honolulu   Primary Urban Center     21.28    -157.59\n",
              "16            Honolulu                Waianae     21.28    -157.59\n",
              "17               Kauai        Hanapepe-Eleele     22.05    -159.30\n",
              "18               Kauai           Kapaa-Wailua     22.05    -159.30\n",
              "19               Kauai            Koloa-Poipu     22.05    -159.30\n",
              "20               Kauai                  Lihue     22.05    -159.30\n",
              "21               Kauai      North Shore Kauai     22.05    -159.30\n",
              "22               Kauai          Waimea-Kekaha     22.05    -159.30\n",
              "23                Maui                   Hana     20.48    -156.20\n",
              "24                Maui              Kahoolawe     20.48    -156.20\n",
              "25                Maui           Kihei-Makena     20.48    -156.20\n",
              "26                Maui                Lahaina     20.48    -156.20\n",
              "27                Maui                  Lanai     20.48    -156.20\n",
              "28                Maui  Makawao-Pukalani-Kula     20.48    -156.20\n",
              "29                Maui                Molokai     20.48    -156.20\n",
              "30                Maui             Paia-Haiku     20.48    -156.20\n",
              "31                Maui        Wailuku-Kahului     20.48    -156.20"
            ]
          },
          "metadata": {
            "tags": []
          },
          "execution_count": 8
        }
      ]
    },
    {
      "cell_type": "code",
      "metadata": {
        "id": "_UqBo1gJatag",
        "colab": {
          "base_uri": "https://localhost:8080/",
          "height": 173
        },
        "outputId": "af0fd5d6-c00e-478f-9ee9-dce0c6a8a386"
      },
      "source": [
        "# select unique values\n",
        "neighbourhoods1 = neighbourhoods0.drop('neighbourhood', axis=1).drop_duplicates()\n",
        "neighbourhoods1"
      ],
      "execution_count": null,
      "outputs": [
        {
          "output_type": "execute_result",
          "data": {
            "text/html": [
              "<div>\n",
              "<style scoped>\n",
              "    .dataframe tbody tr th:only-of-type {\n",
              "        vertical-align: middle;\n",
              "    }\n",
              "\n",
              "    .dataframe tbody tr th {\n",
              "        vertical-align: top;\n",
              "    }\n",
              "\n",
              "    .dataframe thead th {\n",
              "        text-align: right;\n",
              "    }\n",
              "</style>\n",
              "<table border=\"1\" class=\"dataframe\">\n",
              "  <thead>\n",
              "    <tr style=\"text-align: right;\">\n",
              "      <th></th>\n",
              "      <th>neighbourhood_group</th>\n",
              "      <th>latitude</th>\n",
              "      <th>longitude</th>\n",
              "    </tr>\n",
              "  </thead>\n",
              "  <tbody>\n",
              "    <tr>\n",
              "      <th>0</th>\n",
              "      <td>Hawaii</td>\n",
              "      <td>19.34</td>\n",
              "      <td>-155.30</td>\n",
              "    </tr>\n",
              "    <tr>\n",
              "      <th>9</th>\n",
              "      <td>Honolulu</td>\n",
              "      <td>21.28</td>\n",
              "      <td>-157.59</td>\n",
              "    </tr>\n",
              "    <tr>\n",
              "      <th>17</th>\n",
              "      <td>Kauai</td>\n",
              "      <td>22.05</td>\n",
              "      <td>-159.30</td>\n",
              "    </tr>\n",
              "    <tr>\n",
              "      <th>23</th>\n",
              "      <td>Maui</td>\n",
              "      <td>20.48</td>\n",
              "      <td>-156.20</td>\n",
              "    </tr>\n",
              "  </tbody>\n",
              "</table>\n",
              "</div>"
            ],
            "text/plain": [
              "   neighbourhood_group  latitude  longitude\n",
              "0               Hawaii     19.34    -155.30\n",
              "9             Honolulu     21.28    -157.59\n",
              "17               Kauai     22.05    -159.30\n",
              "23                Maui     20.48    -156.20"
            ]
          },
          "metadata": {
            "tags": []
          },
          "execution_count": 13
        }
      ]
    },
    {
      "cell_type": "markdown",
      "metadata": {
        "id": "fhRClFDmnWZa"
      },
      "source": [
        "## Search by City"
      ]
    },
    {
      "cell_type": "code",
      "metadata": {
        "id": "duPnUoeUncWX"
      },
      "source": [
        "# specify parameters\n",
        "city = \"Honolulu\""
      ],
      "execution_count": null,
      "outputs": []
    },
    {
      "cell_type": "code",
      "metadata": {
        "id": "WzkPvQrnk5n7"
      },
      "source": [
        "# fetch data from API\n",
        "url  = 'https://api.foursquare.com/v2/venues/explore?client_id={}&client_secret={}&near={}&v={}'.format(client_id, client_secret, city, version)\n",
        "results = requests.get(url).json()"
      ],
      "execution_count": null,
      "outputs": []
    },
    {
      "cell_type": "code",
      "metadata": {
        "id": "6ZMfPdTYnwub",
        "colab": {
          "base_uri": "https://localhost:8080/"
        },
        "outputId": "118c7573-7944-4a76-99b7-337f26a65ee9"
      },
      "source": [
        "# extract data from JSON\n",
        "venues = results['response']['groups'][0]['items']\n",
        "venues[0]"
      ],
      "execution_count": null,
      "outputs": [
        {
          "output_type": "execute_result",
          "data": {
            "text/plain": [
              "{'reasons': {'count': 0,\n",
              "  'items': [{'reasonName': 'globalInteractionReason',\n",
              "    'summary': 'This spot is popular',\n",
              "    'type': 'general'}]},\n",
              " 'referralId': 'e-0-4b05ababf964a520b7e022e3-0',\n",
              " 'venue': {'categories': [{'icon': {'prefix': 'https://ss3.4sqi.net/img/categories_v2/travel/touristinformation_',\n",
              "     'suffix': '.png'},\n",
              "    'id': '4f4530164b9074f6e4fb00ff',\n",
              "    'name': 'Tourist Information Center',\n",
              "    'pluralName': 'Tourist Information Centers',\n",
              "    'primary': True,\n",
              "    'shortName': 'Tourist Information'}],\n",
              "  'id': '4b05ababf964a520b7e022e3',\n",
              "  'location': {'address': '2270 Kalakaua Ave',\n",
              "   'cc': 'US',\n",
              "   'city': 'Honolulu',\n",
              "   'country': 'United States',\n",
              "   'crossStreet': 'Seaside Ave',\n",
              "   'formattedAddress': ['2270 Kalakaua Ave (Seaside Ave)',\n",
              "    'Honolulu, HI 96815',\n",
              "    'United States'],\n",
              "   'labeledLatLngs': [{'label': 'display',\n",
              "     'lat': 21.278592972965924,\n",
              "     'lng': -157.8278959377229}],\n",
              "   'lat': 21.278592972965924,\n",
              "   'lng': -157.8278959377229,\n",
              "   'postalCode': '96815',\n",
              "   'state': 'HI'},\n",
              "  'name': 'Hawaii Visitors & Convention Bureau',\n",
              "  'photos': {'count': 0, 'groups': []},\n",
              "  'venuePage': {'id': '54880485'}}}"
            ]
          },
          "metadata": {
            "tags": []
          },
          "execution_count": 30
        }
      ]
    },
    {
      "cell_type": "code",
      "metadata": {
        "id": "XAkqYfJvn272",
        "colab": {
          "base_uri": "https://localhost:8080/"
        },
        "outputId": "14c98dab-3db7-49c6-aefa-d4421f48720e"
      },
      "source": [
        "# normalize JSON to dataframe\n",
        "nearby0 = pd.json_normalize(venues)\n",
        "nearby0.info()"
      ],
      "execution_count": null,
      "outputs": [
        {
          "output_type": "stream",
          "text": [
            "<class 'pandas.core.frame.DataFrame'>\n",
            "RangeIndex: 30 entries, 0 to 29\n",
            "Data columns (total 28 columns):\n",
            " #   Column                               Non-Null Count  Dtype  \n",
            "---  ------                               --------------  -----  \n",
            " 0   referralId                           30 non-null     object \n",
            " 1   reasons.count                        30 non-null     int64  \n",
            " 2   reasons.items                        30 non-null     object \n",
            " 3   venue.id                             30 non-null     object \n",
            " 4   venue.name                           30 non-null     object \n",
            " 5   venue.location.address               27 non-null     object \n",
            " 6   venue.location.crossStreet           13 non-null     object \n",
            " 7   venue.location.lat                   30 non-null     float64\n",
            " 8   venue.location.lng                   30 non-null     float64\n",
            " 9   venue.location.labeledLatLngs        29 non-null     object \n",
            " 10  venue.location.postalCode            29 non-null     object \n",
            " 11  venue.location.cc                    30 non-null     object \n",
            " 12  venue.location.city                  30 non-null     object \n",
            " 13  venue.location.state                 30 non-null     object \n",
            " 14  venue.location.country               30 non-null     object \n",
            " 15  venue.location.formattedAddress      30 non-null     object \n",
            " 16  venue.categories                     30 non-null     object \n",
            " 17  venue.photos.count                   30 non-null     int64  \n",
            " 18  venue.photos.groups                  30 non-null     object \n",
            " 19  venue.venuePage.id                   2 non-null      object \n",
            " 20  venue.location.neighborhood          5 non-null      object \n",
            " 21  venue.delivery.id                    7 non-null      object \n",
            " 22  venue.delivery.url                   7 non-null      object \n",
            " 23  venue.delivery.provider.name         7 non-null      object \n",
            " 24  venue.delivery.provider.icon.prefix  7 non-null      object \n",
            " 25  venue.delivery.provider.icon.sizes   7 non-null      object \n",
            " 26  venue.delivery.provider.icon.name    7 non-null      object \n",
            " 27  flags.outsideRadius                  5 non-null      object \n",
            "dtypes: float64(2), int64(2), object(24)\n",
            "memory usage: 6.7+ KB\n"
          ],
          "name": "stdout"
        }
      ]
    },
    {
      "cell_type": "code",
      "metadata": {
        "id": "PetOYpBooN-u",
        "colab": {
          "base_uri": "https://localhost:8080/",
          "height": 411
        },
        "outputId": "d74af30f-3221-4cb3-9fa3-e2f9d2f127d0"
      },
      "source": [
        "nearby0.head()"
      ],
      "execution_count": null,
      "outputs": [
        {
          "output_type": "execute_result",
          "data": {
            "text/html": [
              "<div>\n",
              "<style scoped>\n",
              "    .dataframe tbody tr th:only-of-type {\n",
              "        vertical-align: middle;\n",
              "    }\n",
              "\n",
              "    .dataframe tbody tr th {\n",
              "        vertical-align: top;\n",
              "    }\n",
              "\n",
              "    .dataframe thead th {\n",
              "        text-align: right;\n",
              "    }\n",
              "</style>\n",
              "<table border=\"1\" class=\"dataframe\">\n",
              "  <thead>\n",
              "    <tr style=\"text-align: right;\">\n",
              "      <th></th>\n",
              "      <th>referralId</th>\n",
              "      <th>reasons.count</th>\n",
              "      <th>reasons.items</th>\n",
              "      <th>venue.id</th>\n",
              "      <th>venue.name</th>\n",
              "      <th>venue.location.address</th>\n",
              "      <th>venue.location.crossStreet</th>\n",
              "      <th>venue.location.lat</th>\n",
              "      <th>venue.location.lng</th>\n",
              "      <th>venue.location.labeledLatLngs</th>\n",
              "      <th>venue.location.postalCode</th>\n",
              "      <th>venue.location.cc</th>\n",
              "      <th>venue.location.city</th>\n",
              "      <th>venue.location.state</th>\n",
              "      <th>venue.location.country</th>\n",
              "      <th>venue.location.formattedAddress</th>\n",
              "      <th>venue.categories</th>\n",
              "      <th>venue.photos.count</th>\n",
              "      <th>venue.photos.groups</th>\n",
              "      <th>venue.venuePage.id</th>\n",
              "      <th>venue.location.neighborhood</th>\n",
              "      <th>venue.delivery.id</th>\n",
              "      <th>venue.delivery.url</th>\n",
              "      <th>venue.delivery.provider.name</th>\n",
              "      <th>venue.delivery.provider.icon.prefix</th>\n",
              "      <th>venue.delivery.provider.icon.sizes</th>\n",
              "      <th>venue.delivery.provider.icon.name</th>\n",
              "      <th>flags.outsideRadius</th>\n",
              "    </tr>\n",
              "  </thead>\n",
              "  <tbody>\n",
              "    <tr>\n",
              "      <th>0</th>\n",
              "      <td>e-0-4b05ababf964a520b7e022e3-0</td>\n",
              "      <td>0</td>\n",
              "      <td>[{'summary': 'This spot is popular', 'type': '...</td>\n",
              "      <td>4b05ababf964a520b7e022e3</td>\n",
              "      <td>Hawaii Visitors &amp; Convention Bureau</td>\n",
              "      <td>2270 Kalakaua Ave</td>\n",
              "      <td>Seaside Ave</td>\n",
              "      <td>21.278593</td>\n",
              "      <td>-157.827896</td>\n",
              "      <td>[{'label': 'display', 'lat': 21.27859297296592...</td>\n",
              "      <td>96815</td>\n",
              "      <td>US</td>\n",
              "      <td>Honolulu</td>\n",
              "      <td>HI</td>\n",
              "      <td>United States</td>\n",
              "      <td>[2270 Kalakaua Ave (Seaside Ave), Honolulu, HI...</td>\n",
              "      <td>[{'id': '4f4530164b9074f6e4fb00ff', 'name': 'T...</td>\n",
              "      <td>0</td>\n",
              "      <td>[]</td>\n",
              "      <td>54880485</td>\n",
              "      <td>NaN</td>\n",
              "      <td>NaN</td>\n",
              "      <td>NaN</td>\n",
              "      <td>NaN</td>\n",
              "      <td>NaN</td>\n",
              "      <td>NaN</td>\n",
              "      <td>NaN</td>\n",
              "      <td>NaN</td>\n",
              "    </tr>\n",
              "    <tr>\n",
              "      <th>1</th>\n",
              "      <td>e-0-57c008f5498e258e1f1a6649-1</td>\n",
              "      <td>0</td>\n",
              "      <td>[{'summary': 'This spot is popular', 'type': '...</td>\n",
              "      <td>57c008f5498e258e1f1a6649</td>\n",
              "      <td>Kona Coffee Purveyors | b.patisserie</td>\n",
              "      <td>2330 Kalakaua Ave</td>\n",
              "      <td>facing Kuhio Ave &amp; Nahua St</td>\n",
              "      <td>21.279083</td>\n",
              "      <td>-157.825689</td>\n",
              "      <td>[{'label': 'display', 'lat': 21.27908273226474...</td>\n",
              "      <td>96815</td>\n",
              "      <td>US</td>\n",
              "      <td>Honolulu</td>\n",
              "      <td>HI</td>\n",
              "      <td>United States</td>\n",
              "      <td>[2330 Kalakaua Ave (facing Kuhio Ave &amp; Nahua S...</td>\n",
              "      <td>[{'id': '4bf58dd8d48988d16d941735', 'name': 'C...</td>\n",
              "      <td>0</td>\n",
              "      <td>[]</td>\n",
              "      <td>NaN</td>\n",
              "      <td>Waikiki</td>\n",
              "      <td>1905882</td>\n",
              "      <td>https://www.grubhub.com/restaurant/kona-coffee...</td>\n",
              "      <td>grubhub</td>\n",
              "      <td>https://fastly.4sqi.net/img/general/cap/</td>\n",
              "      <td>[40, 50]</td>\n",
              "      <td>/delivery_provider_grubhub_20180129.png</td>\n",
              "      <td>NaN</td>\n",
              "    </tr>\n",
              "    <tr>\n",
              "      <th>2</th>\n",
              "      <td>e-0-4af59763f964a5200efa21e3-2</td>\n",
              "      <td>0</td>\n",
              "      <td>[{'summary': 'This spot is popular', 'type': '...</td>\n",
              "      <td>4af59763f964a5200efa21e3</td>\n",
              "      <td>Halekulani</td>\n",
              "      <td>2199 Kalia Rd</td>\n",
              "      <td>Lewers Street</td>\n",
              "      <td>21.278178</td>\n",
              "      <td>-157.832036</td>\n",
              "      <td>[{'label': 'display', 'lat': 21.27817764241634...</td>\n",
              "      <td>96815</td>\n",
              "      <td>US</td>\n",
              "      <td>Honolulu</td>\n",
              "      <td>HI</td>\n",
              "      <td>United States</td>\n",
              "      <td>[2199 Kalia Rd (Lewers Street), Honolulu, HI 9...</td>\n",
              "      <td>[{'id': '4bf58dd8d48988d1fa931735', 'name': 'H...</td>\n",
              "      <td>0</td>\n",
              "      <td>[]</td>\n",
              "      <td>NaN</td>\n",
              "      <td>NaN</td>\n",
              "      <td>NaN</td>\n",
              "      <td>NaN</td>\n",
              "      <td>NaN</td>\n",
              "      <td>NaN</td>\n",
              "      <td>NaN</td>\n",
              "      <td>NaN</td>\n",
              "      <td>NaN</td>\n",
              "    </tr>\n",
              "    <tr>\n",
              "      <th>3</th>\n",
              "      <td>e-0-4b1d63b3f964a520d80f24e3-3</td>\n",
              "      <td>0</td>\n",
              "      <td>[{'summary': 'This spot is popular', 'type': '...</td>\n",
              "      <td>4b1d63b3f964a520d80f24e3</td>\n",
              "      <td>USS Arizona Memorial</td>\n",
              "      <td>1 Arizona Memorial Pl</td>\n",
              "      <td>NaN</td>\n",
              "      <td>21.364930</td>\n",
              "      <td>-157.950008</td>\n",
              "      <td>[{'label': 'display', 'lat': 21.36493008797309...</td>\n",
              "      <td>96818</td>\n",
              "      <td>US</td>\n",
              "      <td>Honolulu</td>\n",
              "      <td>HI</td>\n",
              "      <td>United States</td>\n",
              "      <td>[1 Arizona Memorial Pl, Honolulu, HI 96818, Un...</td>\n",
              "      <td>[{'id': '4deefb944765f83613cdba6e', 'name': 'H...</td>\n",
              "      <td>0</td>\n",
              "      <td>[]</td>\n",
              "      <td>NaN</td>\n",
              "      <td>NaN</td>\n",
              "      <td>NaN</td>\n",
              "      <td>NaN</td>\n",
              "      <td>NaN</td>\n",
              "      <td>NaN</td>\n",
              "      <td>NaN</td>\n",
              "      <td>NaN</td>\n",
              "      <td>True</td>\n",
              "    </tr>\n",
              "    <tr>\n",
              "      <th>4</th>\n",
              "      <td>e-0-4b64d3acf964a5201dd32ae3-4</td>\n",
              "      <td>0</td>\n",
              "      <td>[{'summary': 'This spot is popular', 'type': '...</td>\n",
              "      <td>4b64d3acf964a5201dd32ae3</td>\n",
              "      <td>Lana'i Lookout</td>\n",
              "      <td>NaN</td>\n",
              "      <td>NaN</td>\n",
              "      <td>21.276488</td>\n",
              "      <td>-157.685543</td>\n",
              "      <td>[{'label': 'display', 'lat': 21.27648750147807...</td>\n",
              "      <td>96825</td>\n",
              "      <td>US</td>\n",
              "      <td>Honolulu</td>\n",
              "      <td>HI</td>\n",
              "      <td>United States</td>\n",
              "      <td>[Honolulu, HI 96825, United States]</td>\n",
              "      <td>[{'id': '4bf58dd8d48988d165941735', 'name': 'S...</td>\n",
              "      <td>0</td>\n",
              "      <td>[]</td>\n",
              "      <td>NaN</td>\n",
              "      <td>NaN</td>\n",
              "      <td>NaN</td>\n",
              "      <td>NaN</td>\n",
              "      <td>NaN</td>\n",
              "      <td>NaN</td>\n",
              "      <td>NaN</td>\n",
              "      <td>NaN</td>\n",
              "      <td>True</td>\n",
              "    </tr>\n",
              "  </tbody>\n",
              "</table>\n",
              "</div>"
            ],
            "text/plain": [
              "                       referralId  ...  flags.outsideRadius\n",
              "0  e-0-4b05ababf964a520b7e022e3-0  ...                  NaN\n",
              "1  e-0-57c008f5498e258e1f1a6649-1  ...                  NaN\n",
              "2  e-0-4af59763f964a5200efa21e3-2  ...                  NaN\n",
              "3  e-0-4b1d63b3f964a520d80f24e3-3  ...                 True\n",
              "4  e-0-4b64d3acf964a5201dd32ae3-4  ...                 True\n",
              "\n",
              "[5 rows x 28 columns]"
            ]
          },
          "metadata": {
            "tags": []
          },
          "execution_count": 118
        }
      ]
    },
    {
      "cell_type": "code",
      "metadata": {
        "id": "P6Dv73Gcgelc"
      },
      "source": [
        "# duplicate dataframe\n",
        "nearby1 = nearby0.copy()"
      ],
      "execution_count": null,
      "outputs": []
    },
    {
      "cell_type": "code",
      "metadata": {
        "id": "lJb_q2A6ggD7",
        "colab": {
          "base_uri": "https://localhost:8080/"
        },
        "outputId": "cfb5dd5b-140d-4057-e074-d4f7abe1341d"
      },
      "source": [
        "# filter columns,consider only required columns\n",
        "filtered_columns = ['venue.name', 'venue.categories'] + [col for col in nearby1.columns if col.startswith('venue.location.')] + ['venue.id']\n",
        "nearby2 = nearby1.loc[:, filtered_columns]\n",
        "nearby2.info()"
      ],
      "execution_count": null,
      "outputs": [
        {
          "output_type": "stream",
          "text": [
            "<class 'pandas.core.frame.DataFrame'>\n",
            "RangeIndex: 30 entries, 0 to 29\n",
            "Data columns (total 15 columns):\n",
            " #   Column                           Non-Null Count  Dtype  \n",
            "---  ------                           --------------  -----  \n",
            " 0   venue.name                       30 non-null     object \n",
            " 1   venue.categories                 30 non-null     object \n",
            " 2   venue.location.address           27 non-null     object \n",
            " 3   venue.location.crossStreet       13 non-null     object \n",
            " 4   venue.location.lat               30 non-null     float64\n",
            " 5   venue.location.lng               30 non-null     float64\n",
            " 6   venue.location.labeledLatLngs    29 non-null     object \n",
            " 7   venue.location.postalCode        29 non-null     object \n",
            " 8   venue.location.cc                30 non-null     object \n",
            " 9   venue.location.city              30 non-null     object \n",
            " 10  venue.location.state             30 non-null     object \n",
            " 11  venue.location.country           30 non-null     object \n",
            " 12  venue.location.formattedAddress  30 non-null     object \n",
            " 13  venue.location.neighborhood      5 non-null      object \n",
            " 14  venue.id                         30 non-null     object \n",
            "dtypes: float64(2), object(13)\n",
            "memory usage: 3.6+ KB\n"
          ],
          "name": "stdout"
        }
      ]
    },
    {
      "cell_type": "code",
      "metadata": {
        "id": "eLnTAXWbisoi"
      },
      "source": [
        "# filter the category for each row\n",
        "nearby2['venue.categories'] = nearby2.apply(get_category_type, axis=1)"
      ],
      "execution_count": null,
      "outputs": []
    },
    {
      "cell_type": "code",
      "metadata": {
        "id": "PfZC5sDkitee",
        "colab": {
          "base_uri": "https://localhost:8080/"
        },
        "outputId": "40ae0491-4df8-4f0f-f16d-d638df2285d9"
      },
      "source": [
        "# clean columns\n",
        "nearby2.columns = [col.split('.')[-1] for col in nearby2.columns]\n",
        "nearby2.info()"
      ],
      "execution_count": null,
      "outputs": [
        {
          "output_type": "stream",
          "text": [
            "<class 'pandas.core.frame.DataFrame'>\n",
            "RangeIndex: 30 entries, 0 to 29\n",
            "Data columns (total 15 columns):\n",
            " #   Column            Non-Null Count  Dtype  \n",
            "---  ------            --------------  -----  \n",
            " 0   name              30 non-null     object \n",
            " 1   categories        30 non-null     object \n",
            " 2   address           27 non-null     object \n",
            " 3   crossStreet       13 non-null     object \n",
            " 4   lat               30 non-null     float64\n",
            " 5   lng               30 non-null     float64\n",
            " 6   labeledLatLngs    29 non-null     object \n",
            " 7   postalCode        29 non-null     object \n",
            " 8   cc                30 non-null     object \n",
            " 9   city              30 non-null     object \n",
            " 10  state             30 non-null     object \n",
            " 11  country           30 non-null     object \n",
            " 12  formattedAddress  30 non-null     object \n",
            " 13  neighborhood      5 non-null      object \n",
            " 14  id                30 non-null     object \n",
            "dtypes: float64(2), object(13)\n",
            "memory usage: 3.6+ KB\n"
          ],
          "name": "stdout"
        }
      ]
    },
    {
      "cell_type": "code",
      "metadata": {
        "id": "n3fbxDcaizN6",
        "colab": {
          "base_uri": "https://localhost:8080/",
          "height": 411
        },
        "outputId": "6356eefc-eea8-47b1-cae6-05746a40f34d"
      },
      "source": [
        "nearby2.head()"
      ],
      "execution_count": null,
      "outputs": [
        {
          "output_type": "execute_result",
          "data": {
            "text/html": [
              "<div>\n",
              "<style scoped>\n",
              "    .dataframe tbody tr th:only-of-type {\n",
              "        vertical-align: middle;\n",
              "    }\n",
              "\n",
              "    .dataframe tbody tr th {\n",
              "        vertical-align: top;\n",
              "    }\n",
              "\n",
              "    .dataframe thead th {\n",
              "        text-align: right;\n",
              "    }\n",
              "</style>\n",
              "<table border=\"1\" class=\"dataframe\">\n",
              "  <thead>\n",
              "    <tr style=\"text-align: right;\">\n",
              "      <th></th>\n",
              "      <th>name</th>\n",
              "      <th>categories</th>\n",
              "      <th>address</th>\n",
              "      <th>crossStreet</th>\n",
              "      <th>lat</th>\n",
              "      <th>lng</th>\n",
              "      <th>labeledLatLngs</th>\n",
              "      <th>postalCode</th>\n",
              "      <th>cc</th>\n",
              "      <th>city</th>\n",
              "      <th>state</th>\n",
              "      <th>country</th>\n",
              "      <th>formattedAddress</th>\n",
              "      <th>neighborhood</th>\n",
              "      <th>id</th>\n",
              "    </tr>\n",
              "  </thead>\n",
              "  <tbody>\n",
              "    <tr>\n",
              "      <th>0</th>\n",
              "      <td>Hawaii Visitors &amp; Convention Bureau</td>\n",
              "      <td>Tourist Information Center</td>\n",
              "      <td>2270 Kalakaua Ave</td>\n",
              "      <td>Seaside Ave</td>\n",
              "      <td>21.278593</td>\n",
              "      <td>-157.827896</td>\n",
              "      <td>[{'label': 'display', 'lat': 21.27859297296592...</td>\n",
              "      <td>96815</td>\n",
              "      <td>US</td>\n",
              "      <td>Honolulu</td>\n",
              "      <td>HI</td>\n",
              "      <td>United States</td>\n",
              "      <td>[2270 Kalakaua Ave (Seaside Ave), Honolulu, HI...</td>\n",
              "      <td>NaN</td>\n",
              "      <td>4b05ababf964a520b7e022e3</td>\n",
              "    </tr>\n",
              "    <tr>\n",
              "      <th>1</th>\n",
              "      <td>Kona Coffee Purveyors | b.patisserie</td>\n",
              "      <td>Café</td>\n",
              "      <td>2330 Kalakaua Ave</td>\n",
              "      <td>facing Kuhio Ave &amp; Nahua St</td>\n",
              "      <td>21.279083</td>\n",
              "      <td>-157.825689</td>\n",
              "      <td>[{'label': 'display', 'lat': 21.27908273226474...</td>\n",
              "      <td>96815</td>\n",
              "      <td>US</td>\n",
              "      <td>Honolulu</td>\n",
              "      <td>HI</td>\n",
              "      <td>United States</td>\n",
              "      <td>[2330 Kalakaua Ave (facing Kuhio Ave &amp; Nahua S...</td>\n",
              "      <td>Waikiki</td>\n",
              "      <td>57c008f5498e258e1f1a6649</td>\n",
              "    </tr>\n",
              "    <tr>\n",
              "      <th>2</th>\n",
              "      <td>Halekulani</td>\n",
              "      <td>Hotel</td>\n",
              "      <td>2199 Kalia Rd</td>\n",
              "      <td>Lewers Street</td>\n",
              "      <td>21.278178</td>\n",
              "      <td>-157.832036</td>\n",
              "      <td>[{'label': 'display', 'lat': 21.27817764241634...</td>\n",
              "      <td>96815</td>\n",
              "      <td>US</td>\n",
              "      <td>Honolulu</td>\n",
              "      <td>HI</td>\n",
              "      <td>United States</td>\n",
              "      <td>[2199 Kalia Rd (Lewers Street), Honolulu, HI 9...</td>\n",
              "      <td>NaN</td>\n",
              "      <td>4af59763f964a5200efa21e3</td>\n",
              "    </tr>\n",
              "    <tr>\n",
              "      <th>3</th>\n",
              "      <td>USS Arizona Memorial</td>\n",
              "      <td>Historic Site</td>\n",
              "      <td>1 Arizona Memorial Pl</td>\n",
              "      <td>NaN</td>\n",
              "      <td>21.364930</td>\n",
              "      <td>-157.950008</td>\n",
              "      <td>[{'label': 'display', 'lat': 21.36493008797309...</td>\n",
              "      <td>96818</td>\n",
              "      <td>US</td>\n",
              "      <td>Honolulu</td>\n",
              "      <td>HI</td>\n",
              "      <td>United States</td>\n",
              "      <td>[1 Arizona Memorial Pl, Honolulu, HI 96818, Un...</td>\n",
              "      <td>NaN</td>\n",
              "      <td>4b1d63b3f964a520d80f24e3</td>\n",
              "    </tr>\n",
              "    <tr>\n",
              "      <th>4</th>\n",
              "      <td>Lana'i Lookout</td>\n",
              "      <td>Scenic Lookout</td>\n",
              "      <td>NaN</td>\n",
              "      <td>NaN</td>\n",
              "      <td>21.276488</td>\n",
              "      <td>-157.685543</td>\n",
              "      <td>[{'label': 'display', 'lat': 21.27648750147807...</td>\n",
              "      <td>96825</td>\n",
              "      <td>US</td>\n",
              "      <td>Honolulu</td>\n",
              "      <td>HI</td>\n",
              "      <td>United States</td>\n",
              "      <td>[Honolulu, HI 96825, United States]</td>\n",
              "      <td>NaN</td>\n",
              "      <td>4b64d3acf964a5201dd32ae3</td>\n",
              "    </tr>\n",
              "  </tbody>\n",
              "</table>\n",
              "</div>"
            ],
            "text/plain": [
              "                                   name  ...                        id\n",
              "0   Hawaii Visitors & Convention Bureau  ...  4b05ababf964a520b7e022e3\n",
              "1  Kona Coffee Purveyors | b.patisserie  ...  57c008f5498e258e1f1a6649\n",
              "2                            Halekulani  ...  4af59763f964a5200efa21e3\n",
              "3                  USS Arizona Memorial  ...  4b1d63b3f964a520d80f24e3\n",
              "4                        Lana'i Lookout  ...  4b64d3acf964a5201dd32ae3\n",
              "\n",
              "[5 rows x 15 columns]"
            ]
          },
          "metadata": {
            "tags": []
          },
          "execution_count": 123
        }
      ]
    },
    {
      "cell_type": "markdown",
      "metadata": {
        "id": "v-OmznBWe3C7"
      },
      "source": [
        "## Search by Location"
      ]
    },
    {
      "cell_type": "code",
      "metadata": {
        "id": "Blacs46h3kaz"
      },
      "source": [
        "# helper function\n",
        "def get_nearby_venues(latitude, longitude, radius, limit):\n",
        "  # fetch data from API\n",
        "  url  = 'https://api.foursquare.com/v2/venues/explore?client_id={}&client_secret={}&ll={},{}&v={}&radius={}&limit={}'.format(client_id, client_secret, latitude, longitude, version, radius, limit)\n",
        "  results = requests.get(url).json()\n",
        "  # extract data from JSON\n",
        "  venues = results['response']['groups'][0]['items']\n",
        "  return venues"
      ],
      "execution_count": null,
      "outputs": []
    },
    {
      "cell_type": "markdown",
      "metadata": {
        "id": "7mkcVuRG6KEj"
      },
      "source": [
        "### Hawaii"
      ]
    },
    {
      "cell_type": "code",
      "metadata": {
        "id": "gdCh5A3C6SFj"
      },
      "source": [
        "# fetch data from API\n",
        "venues_hawaii = get_nearby_venues(19.34, -155.30, 60000, 5000)"
      ],
      "execution_count": null,
      "outputs": []
    },
    {
      "cell_type": "code",
      "metadata": {
        "id": "bb_Dpcz48Sbu",
        "colab": {
          "base_uri": "https://localhost:8080/"
        },
        "outputId": "77d4d455-abad-4da5-edac-104e59ae07a8"
      },
      "source": [
        "venues_hawaii[0]"
      ],
      "execution_count": null,
      "outputs": [
        {
          "output_type": "execute_result",
          "data": {
            "text/plain": [
              "{'reasons': {'count': 0,\n",
              "  'items': [{'reasonName': 'globalInteractionReason',\n",
              "    'summary': 'This spot is popular',\n",
              "    'type': 'general'}]},\n",
              " 'referralId': 'e-0-4be894da88ed2d7ff911cc1d-0',\n",
              " 'venue': {'categories': [{'icon': {'prefix': 'https://ss3.4sqi.net/img/categories_v2/parks_outdoors/hikingtrail_',\n",
              "     'suffix': '.png'},\n",
              "    'id': '52e81612bcbc57f1066b7a21',\n",
              "    'name': 'National Park',\n",
              "    'pluralName': 'National Parks',\n",
              "    'primary': True,\n",
              "    'shortName': 'National Park'}],\n",
              "  'id': '4be894da88ed2d7ff911cc1d',\n",
              "  'location': {'address': '1 Crater Rim Dr',\n",
              "   'cc': 'US',\n",
              "   'city': 'Volcano',\n",
              "   'country': 'United States',\n",
              "   'distance': 10898,\n",
              "   'formattedAddress': ['1 Crater Rim Dr',\n",
              "    'Volcano, HI 96718',\n",
              "    'United States'],\n",
              "   'labeledLatLngs': [{'label': 'display',\n",
              "     'lat': 19.429178614915262,\n",
              "     'lng': -155.25717583721595}],\n",
              "   'lat': 19.429178614915262,\n",
              "   'lng': -155.25717583721595,\n",
              "   'postalCode': '96718',\n",
              "   'state': 'HI'},\n",
              "  'name': \"Hawai'i Volcanoes National Park (Hawaiʻi Volcanoes National Park)\",\n",
              "  'photos': {'count': 0, 'groups': []}}}"
            ]
          },
          "metadata": {
            "tags": []
          },
          "execution_count": 46
        }
      ]
    },
    {
      "cell_type": "code",
      "metadata": {
        "id": "RtRNniQx8ZiP",
        "colab": {
          "base_uri": "https://localhost:8080/"
        },
        "outputId": "6421aba2-f395-4da2-f378-430d4d0baa79"
      },
      "source": [
        "# normalize JSON to dataframe\n",
        "nearby_hawaii0 = pd.json_normalize(venues_maui)\n",
        "nearby_hawaii0.info()"
      ],
      "execution_count": null,
      "outputs": [
        {
          "output_type": "stream",
          "text": [
            "<class 'pandas.core.frame.DataFrame'>\n",
            "RangeIndex: 14 entries, 0 to 13\n",
            "Data columns (total 20 columns):\n",
            " #   Column                           Non-Null Count  Dtype  \n",
            "---  ------                           --------------  -----  \n",
            " 0   referralId                       14 non-null     object \n",
            " 1   reasons.count                    14 non-null     int64  \n",
            " 2   reasons.items                    14 non-null     object \n",
            " 3   venue.id                         14 non-null     object \n",
            " 4   venue.name                       14 non-null     object \n",
            " 5   venue.location.lat               14 non-null     float64\n",
            " 6   venue.location.lng               14 non-null     float64\n",
            " 7   venue.location.labeledLatLngs    14 non-null     object \n",
            " 8   venue.location.distance          14 non-null     int64  \n",
            " 9   venue.location.postalCode        12 non-null     object \n",
            " 10  venue.location.cc                14 non-null     object \n",
            " 11  venue.location.city              12 non-null     object \n",
            " 12  venue.location.state             12 non-null     object \n",
            " 13  venue.location.country           14 non-null     object \n",
            " 14  venue.location.formattedAddress  14 non-null     object \n",
            " 15  venue.categories                 14 non-null     object \n",
            " 16  venue.photos.count               14 non-null     int64  \n",
            " 17  venue.photos.groups              14 non-null     object \n",
            " 18  venue.location.address           8 non-null      object \n",
            " 19  venue.location.crossStreet       5 non-null      object \n",
            "dtypes: float64(2), int64(3), object(15)\n",
            "memory usage: 2.3+ KB\n"
          ],
          "name": "stdout"
        }
      ]
    },
    {
      "cell_type": "code",
      "metadata": {
        "id": "62nDvArpGd2D"
      },
      "source": [
        "# duplicate dataframe\n",
        "nearby_hawaii1 = nearby_hawaii0.copy()"
      ],
      "execution_count": null,
      "outputs": []
    },
    {
      "cell_type": "code",
      "metadata": {
        "id": "_ofIt_hAGn0M",
        "colab": {
          "base_uri": "https://localhost:8080/"
        },
        "outputId": "b26dbb10-5eeb-4f11-a0a7-273e56ef886f"
      },
      "source": [
        "# filter columns,consider only required columns\n",
        "filtered_columns = ['venue.id', 'venue.name', 'venue.categories'] + [col for col in nearby_hawaii1.columns if col.startswith('venue.location.')]\n",
        "nearby_hawaii2 = nearby_hawaii1.loc[:, filtered_columns]\n",
        "nearby_hawaii2.info()"
      ],
      "execution_count": null,
      "outputs": [
        {
          "output_type": "stream",
          "text": [
            "<class 'pandas.core.frame.DataFrame'>\n",
            "RangeIndex: 14 entries, 0 to 13\n",
            "Data columns (total 15 columns):\n",
            " #   Column                           Non-Null Count  Dtype  \n",
            "---  ------                           --------------  -----  \n",
            " 0   venue.id                         14 non-null     object \n",
            " 1   venue.name                       14 non-null     object \n",
            " 2   venue.categories                 14 non-null     object \n",
            " 3   venue.location.lat               14 non-null     float64\n",
            " 4   venue.location.lng               14 non-null     float64\n",
            " 5   venue.location.labeledLatLngs    14 non-null     object \n",
            " 6   venue.location.distance          14 non-null     int64  \n",
            " 7   venue.location.postalCode        12 non-null     object \n",
            " 8   venue.location.cc                14 non-null     object \n",
            " 9   venue.location.city              12 non-null     object \n",
            " 10  venue.location.state             12 non-null     object \n",
            " 11  venue.location.country           14 non-null     object \n",
            " 12  venue.location.formattedAddress  14 non-null     object \n",
            " 13  venue.location.address           8 non-null      object \n",
            " 14  venue.location.crossStreet       5 non-null      object \n",
            "dtypes: float64(2), int64(1), object(12)\n",
            "memory usage: 1.8+ KB\n"
          ],
          "name": "stdout"
        }
      ]
    },
    {
      "cell_type": "code",
      "metadata": {
        "id": "t6yteZRXZzlP",
        "colab": {
          "base_uri": "https://localhost:8080/",
          "height": 394
        },
        "outputId": "0a4d6829-a54c-4608-abac-1c02a51c3ae4"
      },
      "source": [
        "# add an island column\n",
        "nearby_hawaii2['venue.island'] = 'Hawaii'\n",
        "nearby_hawaii2['venue.county'] = 'Hawaii'\n",
        "nearby_hawaii2.head()"
      ],
      "execution_count": null,
      "outputs": [
        {
          "output_type": "execute_result",
          "data": {
            "text/html": [
              "<div>\n",
              "<style scoped>\n",
              "    .dataframe tbody tr th:only-of-type {\n",
              "        vertical-align: middle;\n",
              "    }\n",
              "\n",
              "    .dataframe tbody tr th {\n",
              "        vertical-align: top;\n",
              "    }\n",
              "\n",
              "    .dataframe thead th {\n",
              "        text-align: right;\n",
              "    }\n",
              "</style>\n",
              "<table border=\"1\" class=\"dataframe\">\n",
              "  <thead>\n",
              "    <tr style=\"text-align: right;\">\n",
              "      <th></th>\n",
              "      <th>venue.id</th>\n",
              "      <th>venue.name</th>\n",
              "      <th>venue.categories</th>\n",
              "      <th>venue.location.lat</th>\n",
              "      <th>venue.location.lng</th>\n",
              "      <th>venue.location.labeledLatLngs</th>\n",
              "      <th>venue.location.distance</th>\n",
              "      <th>venue.location.postalCode</th>\n",
              "      <th>venue.location.cc</th>\n",
              "      <th>venue.location.city</th>\n",
              "      <th>venue.location.state</th>\n",
              "      <th>venue.location.country</th>\n",
              "      <th>venue.location.formattedAddress</th>\n",
              "      <th>venue.location.address</th>\n",
              "      <th>venue.location.crossStreet</th>\n",
              "      <th>venue.island</th>\n",
              "      <th>venue.county</th>\n",
              "    </tr>\n",
              "  </thead>\n",
              "  <tbody>\n",
              "    <tr>\n",
              "      <th>0</th>\n",
              "      <td>4fc565dbe4b0829fe1507460</td>\n",
              "      <td>Lelekea Beach</td>\n",
              "      <td>[{'id': '4bf58dd8d48988d1e2941735', 'name': 'B...</td>\n",
              "      <td>20.651087</td>\n",
              "      <td>-156.079459</td>\n",
              "      <td>[{'label': 'display', 'lat': 20.651087, 'lng':...</td>\n",
              "      <td>22815</td>\n",
              "      <td>96713</td>\n",
              "      <td>US</td>\n",
              "      <td>Hāna</td>\n",
              "      <td>HI</td>\n",
              "      <td>United States</td>\n",
              "      <td>[Hāna, HI 96713, United States]</td>\n",
              "      <td>NaN</td>\n",
              "      <td>NaN</td>\n",
              "      <td>Hawaii</td>\n",
              "      <td>Hawaii</td>\n",
              "    </tr>\n",
              "    <tr>\n",
              "      <th>1</th>\n",
              "      <td>50f5e39ee4b0255d39ffc198</td>\n",
              "      <td>Haukini Bay</td>\n",
              "      <td>[{'id': '4bf58dd8d48988d1e2941735', 'name': 'B...</td>\n",
              "      <td>20.624844</td>\n",
              "      <td>-156.210364</td>\n",
              "      <td>[{'label': 'display', 'lat': 20.62484351951365...</td>\n",
              "      <td>16159</td>\n",
              "      <td>96790</td>\n",
              "      <td>US</td>\n",
              "      <td>Kula</td>\n",
              "      <td>HI</td>\n",
              "      <td>United States</td>\n",
              "      <td>[Kula, HI 96790, United States]</td>\n",
              "      <td>NaN</td>\n",
              "      <td>NaN</td>\n",
              "      <td>Hawaii</td>\n",
              "      <td>Hawaii</td>\n",
              "    </tr>\n",
              "    <tr>\n",
              "      <th>2</th>\n",
              "      <td>4e4e09abbd4101d0d7a0c8b7</td>\n",
              "      <td>Cold Stone Creamery</td>\n",
              "      <td>[{'id': '4bf58dd8d48988d1c9941735', 'name': 'I...</td>\n",
              "      <td>20.444210</td>\n",
              "      <td>-156.163382</td>\n",
              "      <td>[{'label': 'display', 'lat': 20.44421, 'lng': ...</td>\n",
              "      <td>5518</td>\n",
              "      <td>96740</td>\n",
              "      <td>US</td>\n",
              "      <td>Kailua-Kona</td>\n",
              "      <td>HI</td>\n",
              "      <td>United States</td>\n",
              "      <td>[75-1027 Henry St, Kailua-Kona, HI 96740, Unit...</td>\n",
              "      <td>75-1027 Henry St</td>\n",
              "      <td>NaN</td>\n",
              "      <td>Hawaii</td>\n",
              "      <td>Hawaii</td>\n",
              "    </tr>\n",
              "    <tr>\n",
              "      <th>3</th>\n",
              "      <td>501a833fe4b0a724be572f34</td>\n",
              "      <td>Alenuihaha Channel</td>\n",
              "      <td>[{'id': '4bf58dd8d48988d12d951735', 'name': 'B...</td>\n",
              "      <td>20.390015</td>\n",
              "      <td>-156.246970</td>\n",
              "      <td>[{'label': 'display', 'lat': 20.39001493552374...</td>\n",
              "      <td>11151</td>\n",
              "      <td>NaN</td>\n",
              "      <td>US</td>\n",
              "      <td>NaN</td>\n",
              "      <td>NaN</td>\n",
              "      <td>United States</td>\n",
              "      <td>[United States]</td>\n",
              "      <td>NaN</td>\n",
              "      <td>NaN</td>\n",
              "      <td>Hawaii</td>\n",
              "      <td>Hawaii</td>\n",
              "    </tr>\n",
              "    <tr>\n",
              "      <th>4</th>\n",
              "      <td>57eb1a3d498e11e2a0e8c6a4</td>\n",
              "      <td>Pokowai Sea Arch</td>\n",
              "      <td>[{'id': '4bf58dd8d48988d165941735', 'name': 'S...</td>\n",
              "      <td>20.622090</td>\n",
              "      <td>-156.213070</td>\n",
              "      <td>[{'label': 'display', 'lat': 20.62209, 'lng': ...</td>\n",
              "      <td>15875</td>\n",
              "      <td>96790</td>\n",
              "      <td>US</td>\n",
              "      <td>Kula</td>\n",
              "      <td>HI</td>\n",
              "      <td>United States</td>\n",
              "      <td>[Kula, HI 96790, United States]</td>\n",
              "      <td>NaN</td>\n",
              "      <td>NaN</td>\n",
              "      <td>Hawaii</td>\n",
              "      <td>Hawaii</td>\n",
              "    </tr>\n",
              "  </tbody>\n",
              "</table>\n",
              "</div>"
            ],
            "text/plain": [
              "                   venue.id           venue.name  ... venue.island  venue.county\n",
              "0  4fc565dbe4b0829fe1507460        Lelekea Beach  ...       Hawaii        Hawaii\n",
              "1  50f5e39ee4b0255d39ffc198          Haukini Bay  ...       Hawaii        Hawaii\n",
              "2  4e4e09abbd4101d0d7a0c8b7  Cold Stone Creamery  ...       Hawaii        Hawaii\n",
              "3  501a833fe4b0a724be572f34   Alenuihaha Channel  ...       Hawaii        Hawaii\n",
              "4  57eb1a3d498e11e2a0e8c6a4     Pokowai Sea Arch  ...       Hawaii        Hawaii\n",
              "\n",
              "[5 rows x 17 columns]"
            ]
          },
          "metadata": {
            "tags": []
          },
          "execution_count": 89
        }
      ]
    },
    {
      "cell_type": "markdown",
      "metadata": {
        "id": "SkE6H-by-tg3"
      },
      "source": [
        "### Oahu"
      ]
    },
    {
      "cell_type": "code",
      "metadata": {
        "id": "RVF0gFnd-zNg"
      },
      "source": [
        "# fetch data from API\n",
        "venues_oahu = get_nearby_venues(21.28, -157.59, 25000, 5000)"
      ],
      "execution_count": null,
      "outputs": []
    },
    {
      "cell_type": "code",
      "metadata": {
        "id": "RNzk7hMC_Eo1",
        "colab": {
          "base_uri": "https://localhost:8080/"
        },
        "outputId": "df8e8eba-7f4c-40ab-a381-8588adb26fb8"
      },
      "source": [
        "venues_oahu[0]"
      ],
      "execution_count": null,
      "outputs": [
        {
          "output_type": "execute_result",
          "data": {
            "text/plain": [
              "{'reasons': {'count': 0,\n",
              "  'items': [{'reasonName': 'globalInteractionReason',\n",
              "    'summary': 'This spot is popular',\n",
              "    'type': 'general'}]},\n",
              " 'referralId': 'e-0-4b9c5ab1f964a5201d6236e3-0',\n",
              " 'venue': {'categories': [{'icon': {'prefix': 'https://ss3.4sqi.net/img/categories_v2/parks_outdoors/lighthouse_',\n",
              "     'suffix': '.png'},\n",
              "    'id': '4bf58dd8d48988d15d941735',\n",
              "    'name': 'Lighthouse',\n",
              "    'pluralName': 'Lighthouses',\n",
              "    'primary': True,\n",
              "    'shortName': 'Lighthouse'}],\n",
              "  'id': '4b9c5ab1f964a5201d6236e3',\n",
              "  'location': {'address': 'Makapuu Lighthouse Rd',\n",
              "   'cc': 'US',\n",
              "   'city': 'Honolulu',\n",
              "   'country': 'United States',\n",
              "   'distance': 7123,\n",
              "   'formattedAddress': ['Makapuu Lighthouse Rd',\n",
              "    'Honolulu, HI 96825',\n",
              "    'United States'],\n",
              "   'labeledLatLngs': [{'label': 'display',\n",
              "     'lat': 21.30921836573366,\n",
              "     'lng': -157.65110493534797}],\n",
              "   'lat': 21.30921836573366,\n",
              "   'lng': -157.65110493534797,\n",
              "   'postalCode': '96825',\n",
              "   'state': 'HI'},\n",
              "  'name': 'Makapu‘u Lighthouse',\n",
              "  'photos': {'count': 0, 'groups': []}}}"
            ]
          },
          "metadata": {
            "tags": []
          },
          "execution_count": 52
        }
      ]
    },
    {
      "cell_type": "code",
      "metadata": {
        "id": "1BowDRhr_JEu",
        "colab": {
          "base_uri": "https://localhost:8080/"
        },
        "outputId": "dfe1c224-021e-4868-a74d-0512a36e8b5a"
      },
      "source": [
        "# normalize JSON to dataframe\n",
        "nearby_oahu0 = pd.json_normalize(venues_oahu)\n",
        "nearby_oahu0.info()"
      ],
      "execution_count": null,
      "outputs": [
        {
          "output_type": "stream",
          "text": [
            "<class 'pandas.core.frame.DataFrame'>\n",
            "RangeIndex: 100 entries, 0 to 99\n",
            "Data columns (total 28 columns):\n",
            " #   Column                               Non-Null Count  Dtype  \n",
            "---  ------                               --------------  -----  \n",
            " 0   referralId                           100 non-null    object \n",
            " 1   reasons.count                        100 non-null    int64  \n",
            " 2   reasons.items                        100 non-null    object \n",
            " 3   venue.id                             100 non-null    object \n",
            " 4   venue.name                           100 non-null    object \n",
            " 5   venue.location.address               88 non-null     object \n",
            " 6   venue.location.lat                   100 non-null    float64\n",
            " 7   venue.location.lng                   100 non-null    float64\n",
            " 8   venue.location.labeledLatLngs        99 non-null     object \n",
            " 9   venue.location.distance              100 non-null    int64  \n",
            " 10  venue.location.postalCode            91 non-null     object \n",
            " 11  venue.location.cc                    100 non-null    object \n",
            " 12  venue.location.city                  98 non-null     object \n",
            " 13  venue.location.state                 100 non-null    object \n",
            " 14  venue.location.country               100 non-null    object \n",
            " 15  venue.location.formattedAddress      100 non-null    object \n",
            " 16  venue.categories                     100 non-null    object \n",
            " 17  venue.photos.count                   100 non-null    int64  \n",
            " 18  venue.photos.groups                  100 non-null    object \n",
            " 19  venue.location.crossStreet           35 non-null     object \n",
            " 20  venue.location.neighborhood          12 non-null     object \n",
            " 21  venue.venuePage.id                   9 non-null      object \n",
            " 22  venue.delivery.id                    29 non-null     object \n",
            " 23  venue.delivery.url                   29 non-null     object \n",
            " 24  venue.delivery.provider.name         29 non-null     object \n",
            " 25  venue.delivery.provider.icon.prefix  29 non-null     object \n",
            " 26  venue.delivery.provider.icon.sizes   29 non-null     object \n",
            " 27  venue.delivery.provider.icon.name    29 non-null     object \n",
            "dtypes: float64(2), int64(3), object(23)\n",
            "memory usage: 22.0+ KB\n"
          ],
          "name": "stdout"
        }
      ]
    },
    {
      "cell_type": "code",
      "metadata": {
        "id": "6qCRdwHkPj_9",
        "colab": {
          "base_uri": "https://localhost:8080/",
          "height": 428
        },
        "outputId": "be3c4e1c-b468-4de3-a3be-40823a11ab26"
      },
      "source": [
        "nearby_oahu0.head()"
      ],
      "execution_count": null,
      "outputs": [
        {
          "output_type": "execute_result",
          "data": {
            "text/html": [
              "<div>\n",
              "<style scoped>\n",
              "    .dataframe tbody tr th:only-of-type {\n",
              "        vertical-align: middle;\n",
              "    }\n",
              "\n",
              "    .dataframe tbody tr th {\n",
              "        vertical-align: top;\n",
              "    }\n",
              "\n",
              "    .dataframe thead th {\n",
              "        text-align: right;\n",
              "    }\n",
              "</style>\n",
              "<table border=\"1\" class=\"dataframe\">\n",
              "  <thead>\n",
              "    <tr style=\"text-align: right;\">\n",
              "      <th></th>\n",
              "      <th>referralId</th>\n",
              "      <th>reasons.count</th>\n",
              "      <th>reasons.items</th>\n",
              "      <th>venue.id</th>\n",
              "      <th>venue.name</th>\n",
              "      <th>venue.location.address</th>\n",
              "      <th>venue.location.lat</th>\n",
              "      <th>venue.location.lng</th>\n",
              "      <th>venue.location.labeledLatLngs</th>\n",
              "      <th>venue.location.distance</th>\n",
              "      <th>venue.location.postalCode</th>\n",
              "      <th>venue.location.cc</th>\n",
              "      <th>venue.location.city</th>\n",
              "      <th>venue.location.state</th>\n",
              "      <th>venue.location.country</th>\n",
              "      <th>venue.location.formattedAddress</th>\n",
              "      <th>venue.categories</th>\n",
              "      <th>venue.photos.count</th>\n",
              "      <th>venue.photos.groups</th>\n",
              "      <th>venue.location.crossStreet</th>\n",
              "      <th>venue.location.neighborhood</th>\n",
              "      <th>venue.venuePage.id</th>\n",
              "      <th>venue.delivery.id</th>\n",
              "      <th>venue.delivery.url</th>\n",
              "      <th>venue.delivery.provider.name</th>\n",
              "      <th>venue.delivery.provider.icon.prefix</th>\n",
              "      <th>venue.delivery.provider.icon.sizes</th>\n",
              "      <th>venue.delivery.provider.icon.name</th>\n",
              "    </tr>\n",
              "  </thead>\n",
              "  <tbody>\n",
              "    <tr>\n",
              "      <th>0</th>\n",
              "      <td>e-0-4b9c5ab1f964a5201d6236e3-0</td>\n",
              "      <td>0</td>\n",
              "      <td>[{'summary': 'This spot is popular', 'type': '...</td>\n",
              "      <td>4b9c5ab1f964a5201d6236e3</td>\n",
              "      <td>Makapu‘u Lighthouse</td>\n",
              "      <td>Makapuu Lighthouse Rd</td>\n",
              "      <td>21.309218</td>\n",
              "      <td>-157.651105</td>\n",
              "      <td>[{'label': 'display', 'lat': 21.30921836573366...</td>\n",
              "      <td>7123</td>\n",
              "      <td>96825</td>\n",
              "      <td>US</td>\n",
              "      <td>Honolulu</td>\n",
              "      <td>HI</td>\n",
              "      <td>United States</td>\n",
              "      <td>[Makapuu Lighthouse Rd, Honolulu, HI 96825, Un...</td>\n",
              "      <td>[{'id': '4bf58dd8d48988d15d941735', 'name': 'L...</td>\n",
              "      <td>0</td>\n",
              "      <td>[]</td>\n",
              "      <td>NaN</td>\n",
              "      <td>NaN</td>\n",
              "      <td>NaN</td>\n",
              "      <td>NaN</td>\n",
              "      <td>NaN</td>\n",
              "      <td>NaN</td>\n",
              "      <td>NaN</td>\n",
              "      <td>NaN</td>\n",
              "      <td>NaN</td>\n",
              "    </tr>\n",
              "    <tr>\n",
              "      <th>1</th>\n",
              "      <td>e-0-4e5135f26284416669a6dd71-1</td>\n",
              "      <td>0</td>\n",
              "      <td>[{'summary': 'This spot is popular', 'type': '...</td>\n",
              "      <td>4e5135f26284416669a6dd71</td>\n",
              "      <td>Makapu'u Point Lighthouse Trail</td>\n",
              "      <td>NaN</td>\n",
              "      <td>21.305453</td>\n",
              "      <td>-157.655084</td>\n",
              "      <td>[{'label': 'display', 'lat': 21.30545310149249...</td>\n",
              "      <td>7321</td>\n",
              "      <td>96825</td>\n",
              "      <td>US</td>\n",
              "      <td>Honolulu</td>\n",
              "      <td>HI</td>\n",
              "      <td>United States</td>\n",
              "      <td>[Honolulu, HI 96825, United States]</td>\n",
              "      <td>[{'id': '4bf58dd8d48988d159941735', 'name': 'T...</td>\n",
              "      <td>0</td>\n",
              "      <td>[]</td>\n",
              "      <td>within Ka Iwi State Scenic Shoreline</td>\n",
              "      <td>NaN</td>\n",
              "      <td>NaN</td>\n",
              "      <td>NaN</td>\n",
              "      <td>NaN</td>\n",
              "      <td>NaN</td>\n",
              "      <td>NaN</td>\n",
              "      <td>NaN</td>\n",
              "      <td>NaN</td>\n",
              "    </tr>\n",
              "    <tr>\n",
              "      <th>2</th>\n",
              "      <td>e-0-4bf1ca3852bda5936efab1b7-2</td>\n",
              "      <td>0</td>\n",
              "      <td>[{'summary': 'This spot is popular', 'type': '...</td>\n",
              "      <td>4bf1ca3852bda5936efab1b7</td>\n",
              "      <td>Makapu‘u Beach Park (Makapuu Beach Park)</td>\n",
              "      <td>41-095 Kalanianaole Hwy</td>\n",
              "      <td>21.313181</td>\n",
              "      <td>-157.661057</td>\n",
              "      <td>[{'label': 'display', 'lat': 21.31318090753942...</td>\n",
              "      <td>8243</td>\n",
              "      <td>96795</td>\n",
              "      <td>US</td>\n",
              "      <td>Waimānalo</td>\n",
              "      <td>HI</td>\n",
              "      <td>United States</td>\n",
              "      <td>[41-095 Kalanianaole Hwy, Waimānalo, HI 96795,...</td>\n",
              "      <td>[{'id': '4bf58dd8d48988d1e3941735', 'name': 'S...</td>\n",
              "      <td>0</td>\n",
              "      <td>[]</td>\n",
              "      <td>NaN</td>\n",
              "      <td>NaN</td>\n",
              "      <td>NaN</td>\n",
              "      <td>NaN</td>\n",
              "      <td>NaN</td>\n",
              "      <td>NaN</td>\n",
              "      <td>NaN</td>\n",
              "      <td>NaN</td>\n",
              "      <td>NaN</td>\n",
              "    </tr>\n",
              "    <tr>\n",
              "      <th>3</th>\n",
              "      <td>e-0-4b367db6f964a520a33625e3-3</td>\n",
              "      <td>0</td>\n",
              "      <td>[{'summary': 'This spot is popular', 'type': '...</td>\n",
              "      <td>4b367db6f964a520a33625e3</td>\n",
              "      <td>Makapu‘u Lookout</td>\n",
              "      <td>41-10001 Hawaii 72</td>\n",
              "      <td>21.309118</td>\n",
              "      <td>-157.657171</td>\n",
              "      <td>[{'label': 'display', 'lat': 21.30911776117945...</td>\n",
              "      <td>7683</td>\n",
              "      <td>NaN</td>\n",
              "      <td>US</td>\n",
              "      <td>Waimānalo</td>\n",
              "      <td>HI</td>\n",
              "      <td>United States</td>\n",
              "      <td>[41-10001 Hawaii 72, Waimānalo, HI, United Sta...</td>\n",
              "      <td>[{'id': '4bf58dd8d48988d165941735', 'name': 'S...</td>\n",
              "      <td>0</td>\n",
              "      <td>[]</td>\n",
              "      <td>NaN</td>\n",
              "      <td>NaN</td>\n",
              "      <td>NaN</td>\n",
              "      <td>NaN</td>\n",
              "      <td>NaN</td>\n",
              "      <td>NaN</td>\n",
              "      <td>NaN</td>\n",
              "      <td>NaN</td>\n",
              "      <td>NaN</td>\n",
              "    </tr>\n",
              "    <tr>\n",
              "      <th>4</th>\n",
              "      <td>e-0-4b3675cff964a520f53525e3-4</td>\n",
              "      <td>0</td>\n",
              "      <td>[{'summary': 'This spot is popular', 'type': '...</td>\n",
              "      <td>4b3675cff964a520f53525e3</td>\n",
              "      <td>Sandy Beach Park</td>\n",
              "      <td>8808 Kalanianaole Hwy</td>\n",
              "      <td>21.286018</td>\n",
              "      <td>-157.672158</td>\n",
              "      <td>[{'label': 'display', 'lat': 21.28601791634979...</td>\n",
              "      <td>8548</td>\n",
              "      <td>96825</td>\n",
              "      <td>US</td>\n",
              "      <td>Honolulu</td>\n",
              "      <td>HI</td>\n",
              "      <td>United States</td>\n",
              "      <td>[8808 Kalanianaole Hwy, Honolulu, HI 96825, Un...</td>\n",
              "      <td>[{'id': '4bf58dd8d48988d1e2941735', 'name': 'B...</td>\n",
              "      <td>0</td>\n",
              "      <td>[]</td>\n",
              "      <td>NaN</td>\n",
              "      <td>NaN</td>\n",
              "      <td>NaN</td>\n",
              "      <td>NaN</td>\n",
              "      <td>NaN</td>\n",
              "      <td>NaN</td>\n",
              "      <td>NaN</td>\n",
              "      <td>NaN</td>\n",
              "      <td>NaN</td>\n",
              "    </tr>\n",
              "  </tbody>\n",
              "</table>\n",
              "</div>"
            ],
            "text/plain": [
              "                       referralId  ...  venue.delivery.provider.icon.name\n",
              "0  e-0-4b9c5ab1f964a5201d6236e3-0  ...                                NaN\n",
              "1  e-0-4e5135f26284416669a6dd71-1  ...                                NaN\n",
              "2  e-0-4bf1ca3852bda5936efab1b7-2  ...                                NaN\n",
              "3  e-0-4b367db6f964a520a33625e3-3  ...                                NaN\n",
              "4  e-0-4b3675cff964a520f53525e3-4  ...                                NaN\n",
              "\n",
              "[5 rows x 28 columns]"
            ]
          },
          "metadata": {
            "tags": []
          },
          "execution_count": 79
        }
      ]
    },
    {
      "cell_type": "code",
      "metadata": {
        "id": "EhH8s7x-HYCX"
      },
      "source": [
        "# duplicate dataframe\n",
        "nearby_oahu1 = nearby_oahu0.copy()"
      ],
      "execution_count": null,
      "outputs": []
    },
    {
      "cell_type": "code",
      "metadata": {
        "id": "MW6Rc5PlHdM9",
        "colab": {
          "base_uri": "https://localhost:8080/"
        },
        "outputId": "7d8f2d4a-798e-4be6-9e86-7e4425863c6f"
      },
      "source": [
        "# filter columns,consider only required columns\n",
        "filtered_columns = ['venue.id', 'venue.name', 'venue.categories'] + [col for col in nearby_oahu1.columns if col.startswith('venue.location.')]\n",
        "nearby_oahu2 = nearby_oahu1.loc[:, filtered_columns]\n",
        "nearby_oahu2.info()"
      ],
      "execution_count": null,
      "outputs": [
        {
          "output_type": "stream",
          "text": [
            "<class 'pandas.core.frame.DataFrame'>\n",
            "RangeIndex: 100 entries, 0 to 99\n",
            "Data columns (total 16 columns):\n",
            " #   Column                           Non-Null Count  Dtype  \n",
            "---  ------                           --------------  -----  \n",
            " 0   venue.id                         100 non-null    object \n",
            " 1   venue.name                       100 non-null    object \n",
            " 2   venue.categories                 100 non-null    object \n",
            " 3   venue.location.address           88 non-null     object \n",
            " 4   venue.location.lat               100 non-null    float64\n",
            " 5   venue.location.lng               100 non-null    float64\n",
            " 6   venue.location.labeledLatLngs    99 non-null     object \n",
            " 7   venue.location.distance          100 non-null    int64  \n",
            " 8   venue.location.postalCode        91 non-null     object \n",
            " 9   venue.location.cc                100 non-null    object \n",
            " 10  venue.location.city              98 non-null     object \n",
            " 11  venue.location.state             100 non-null    object \n",
            " 12  venue.location.country           100 non-null    object \n",
            " 13  venue.location.formattedAddress  100 non-null    object \n",
            " 14  venue.location.crossStreet       35 non-null     object \n",
            " 15  venue.location.neighborhood      12 non-null     object \n",
            "dtypes: float64(2), int64(1), object(13)\n",
            "memory usage: 12.6+ KB\n"
          ],
          "name": "stdout"
        }
      ]
    },
    {
      "cell_type": "code",
      "metadata": {
        "id": "2jKtt7u-byYN",
        "colab": {
          "base_uri": "https://localhost:8080/",
          "height": 428
        },
        "outputId": "065ed0a4-02ca-4297-ce7c-3310b9d033b5"
      },
      "source": [
        "# add an island column\n",
        "nearby_oahu2['venue.island'] = 'Oahu'\n",
        "nearby_oahu2['venue.county'] = 'Honolulu'\n",
        "nearby_oahu2.head()"
      ],
      "execution_count": null,
      "outputs": [
        {
          "output_type": "execute_result",
          "data": {
            "text/html": [
              "<div>\n",
              "<style scoped>\n",
              "    .dataframe tbody tr th:only-of-type {\n",
              "        vertical-align: middle;\n",
              "    }\n",
              "\n",
              "    .dataframe tbody tr th {\n",
              "        vertical-align: top;\n",
              "    }\n",
              "\n",
              "    .dataframe thead th {\n",
              "        text-align: right;\n",
              "    }\n",
              "</style>\n",
              "<table border=\"1\" class=\"dataframe\">\n",
              "  <thead>\n",
              "    <tr style=\"text-align: right;\">\n",
              "      <th></th>\n",
              "      <th>venue.id</th>\n",
              "      <th>venue.name</th>\n",
              "      <th>venue.categories</th>\n",
              "      <th>venue.location.address</th>\n",
              "      <th>venue.location.lat</th>\n",
              "      <th>venue.location.lng</th>\n",
              "      <th>venue.location.labeledLatLngs</th>\n",
              "      <th>venue.location.distance</th>\n",
              "      <th>venue.location.postalCode</th>\n",
              "      <th>venue.location.cc</th>\n",
              "      <th>venue.location.city</th>\n",
              "      <th>venue.location.state</th>\n",
              "      <th>venue.location.country</th>\n",
              "      <th>venue.location.formattedAddress</th>\n",
              "      <th>venue.location.crossStreet</th>\n",
              "      <th>venue.location.neighborhood</th>\n",
              "      <th>venue.island</th>\n",
              "      <th>venue.county</th>\n",
              "    </tr>\n",
              "  </thead>\n",
              "  <tbody>\n",
              "    <tr>\n",
              "      <th>0</th>\n",
              "      <td>4b9c5ab1f964a5201d6236e3</td>\n",
              "      <td>Makapu‘u Lighthouse</td>\n",
              "      <td>[{'id': '4bf58dd8d48988d15d941735', 'name': 'L...</td>\n",
              "      <td>Makapuu Lighthouse Rd</td>\n",
              "      <td>21.309218</td>\n",
              "      <td>-157.651105</td>\n",
              "      <td>[{'label': 'display', 'lat': 21.30921836573366...</td>\n",
              "      <td>7123</td>\n",
              "      <td>96825</td>\n",
              "      <td>US</td>\n",
              "      <td>Honolulu</td>\n",
              "      <td>HI</td>\n",
              "      <td>United States</td>\n",
              "      <td>[Makapuu Lighthouse Rd, Honolulu, HI 96825, Un...</td>\n",
              "      <td>NaN</td>\n",
              "      <td>NaN</td>\n",
              "      <td>Oahu</td>\n",
              "      <td>Honolulu</td>\n",
              "    </tr>\n",
              "    <tr>\n",
              "      <th>1</th>\n",
              "      <td>4e5135f26284416669a6dd71</td>\n",
              "      <td>Makapu'u Point Lighthouse Trail</td>\n",
              "      <td>[{'id': '4bf58dd8d48988d159941735', 'name': 'T...</td>\n",
              "      <td>NaN</td>\n",
              "      <td>21.305453</td>\n",
              "      <td>-157.655084</td>\n",
              "      <td>[{'label': 'display', 'lat': 21.30545310149249...</td>\n",
              "      <td>7321</td>\n",
              "      <td>96825</td>\n",
              "      <td>US</td>\n",
              "      <td>Honolulu</td>\n",
              "      <td>HI</td>\n",
              "      <td>United States</td>\n",
              "      <td>[Honolulu, HI 96825, United States]</td>\n",
              "      <td>within Ka Iwi State Scenic Shoreline</td>\n",
              "      <td>NaN</td>\n",
              "      <td>Oahu</td>\n",
              "      <td>Honolulu</td>\n",
              "    </tr>\n",
              "    <tr>\n",
              "      <th>2</th>\n",
              "      <td>4bf1ca3852bda5936efab1b7</td>\n",
              "      <td>Makapu‘u Beach Park (Makapuu Beach Park)</td>\n",
              "      <td>[{'id': '4bf58dd8d48988d1e3941735', 'name': 'S...</td>\n",
              "      <td>41-095 Kalanianaole Hwy</td>\n",
              "      <td>21.313181</td>\n",
              "      <td>-157.661057</td>\n",
              "      <td>[{'label': 'display', 'lat': 21.31318090753942...</td>\n",
              "      <td>8243</td>\n",
              "      <td>96795</td>\n",
              "      <td>US</td>\n",
              "      <td>Waimānalo</td>\n",
              "      <td>HI</td>\n",
              "      <td>United States</td>\n",
              "      <td>[41-095 Kalanianaole Hwy, Waimānalo, HI 96795,...</td>\n",
              "      <td>NaN</td>\n",
              "      <td>NaN</td>\n",
              "      <td>Oahu</td>\n",
              "      <td>Honolulu</td>\n",
              "    </tr>\n",
              "    <tr>\n",
              "      <th>3</th>\n",
              "      <td>4b367db6f964a520a33625e3</td>\n",
              "      <td>Makapu‘u Lookout</td>\n",
              "      <td>[{'id': '4bf58dd8d48988d165941735', 'name': 'S...</td>\n",
              "      <td>41-10001 Hawaii 72</td>\n",
              "      <td>21.309118</td>\n",
              "      <td>-157.657171</td>\n",
              "      <td>[{'label': 'display', 'lat': 21.30911776117945...</td>\n",
              "      <td>7683</td>\n",
              "      <td>NaN</td>\n",
              "      <td>US</td>\n",
              "      <td>Waimānalo</td>\n",
              "      <td>HI</td>\n",
              "      <td>United States</td>\n",
              "      <td>[41-10001 Hawaii 72, Waimānalo, HI, United Sta...</td>\n",
              "      <td>NaN</td>\n",
              "      <td>NaN</td>\n",
              "      <td>Oahu</td>\n",
              "      <td>Honolulu</td>\n",
              "    </tr>\n",
              "    <tr>\n",
              "      <th>4</th>\n",
              "      <td>4b3675cff964a520f53525e3</td>\n",
              "      <td>Sandy Beach Park</td>\n",
              "      <td>[{'id': '4bf58dd8d48988d1e2941735', 'name': 'B...</td>\n",
              "      <td>8808 Kalanianaole Hwy</td>\n",
              "      <td>21.286018</td>\n",
              "      <td>-157.672158</td>\n",
              "      <td>[{'label': 'display', 'lat': 21.28601791634979...</td>\n",
              "      <td>8548</td>\n",
              "      <td>96825</td>\n",
              "      <td>US</td>\n",
              "      <td>Honolulu</td>\n",
              "      <td>HI</td>\n",
              "      <td>United States</td>\n",
              "      <td>[8808 Kalanianaole Hwy, Honolulu, HI 96825, Un...</td>\n",
              "      <td>NaN</td>\n",
              "      <td>NaN</td>\n",
              "      <td>Oahu</td>\n",
              "      <td>Honolulu</td>\n",
              "    </tr>\n",
              "  </tbody>\n",
              "</table>\n",
              "</div>"
            ],
            "text/plain": [
              "                   venue.id  ... venue.county\n",
              "0  4b9c5ab1f964a5201d6236e3  ...     Honolulu\n",
              "1  4e5135f26284416669a6dd71  ...     Honolulu\n",
              "2  4bf1ca3852bda5936efab1b7  ...     Honolulu\n",
              "3  4b367db6f964a520a33625e3  ...     Honolulu\n",
              "4  4b3675cff964a520f53525e3  ...     Honolulu\n",
              "\n",
              "[5 rows x 18 columns]"
            ]
          },
          "metadata": {
            "tags": []
          },
          "execution_count": 104
        }
      ]
    },
    {
      "cell_type": "markdown",
      "metadata": {
        "id": "HoUxSxqBv57M"
      },
      "source": [
        "### Maui"
      ]
    },
    {
      "cell_type": "code",
      "metadata": {
        "id": "Xrq6Z6YZ4gi5"
      },
      "source": [
        "# fetch data from API\n",
        "venues_maui = get_nearby_venues(20.48, -156.20, 25000, 5000)"
      ],
      "execution_count": null,
      "outputs": []
    },
    {
      "cell_type": "code",
      "metadata": {
        "id": "60-NaKLq5FZ7",
        "colab": {
          "base_uri": "https://localhost:8080/"
        },
        "outputId": "9683343e-2308-45c1-8aea-5bbe7eecb8f9"
      },
      "source": [
        "venues_maui[0]"
      ],
      "execution_count": null,
      "outputs": [
        {
          "output_type": "execute_result",
          "data": {
            "text/plain": [
              "{'reasons': {'count': 0,\n",
              "  'items': [{'reasonName': 'globalInteractionReason',\n",
              "    'summary': 'This spot is popular',\n",
              "    'type': 'general'}]},\n",
              " 'referralId': 'e-0-4fc565dbe4b0829fe1507460-0',\n",
              " 'venue': {'categories': [{'icon': {'prefix': 'https://ss3.4sqi.net/img/categories_v2/parks_outdoors/beach_',\n",
              "     'suffix': '.png'},\n",
              "    'id': '4bf58dd8d48988d1e2941735',\n",
              "    'name': 'Beach',\n",
              "    'pluralName': 'Beaches',\n",
              "    'primary': True,\n",
              "    'shortName': 'Beach'}],\n",
              "  'id': '4fc565dbe4b0829fe1507460',\n",
              "  'location': {'cc': 'US',\n",
              "   'city': 'Hāna',\n",
              "   'country': 'United States',\n",
              "   'distance': 22815,\n",
              "   'formattedAddress': ['Hāna, HI 96713', 'United States'],\n",
              "   'labeledLatLngs': [{'label': 'display',\n",
              "     'lat': 20.651087,\n",
              "     'lng': -156.079459}],\n",
              "   'lat': 20.651087,\n",
              "   'lng': -156.079459,\n",
              "   'postalCode': '96713',\n",
              "   'state': 'HI'},\n",
              "  'name': 'Lelekea Beach',\n",
              "  'photos': {'count': 0, 'groups': []}}}"
            ]
          },
          "metadata": {
            "tags": []
          },
          "execution_count": 42
        }
      ]
    },
    {
      "cell_type": "code",
      "metadata": {
        "id": "8yVhYlw-5LrK",
        "colab": {
          "base_uri": "https://localhost:8080/"
        },
        "outputId": "81d39492-6b63-4134-b719-7f43baed6f95"
      },
      "source": [
        "# normalize JSON to dataframe\n",
        "nearby_maui0 = pd.json_normalize(venues_maui)\n",
        "nearby_maui0.info()"
      ],
      "execution_count": null,
      "outputs": [
        {
          "output_type": "stream",
          "text": [
            "<class 'pandas.core.frame.DataFrame'>\n",
            "RangeIndex: 14 entries, 0 to 13\n",
            "Data columns (total 20 columns):\n",
            " #   Column                           Non-Null Count  Dtype  \n",
            "---  ------                           --------------  -----  \n",
            " 0   referralId                       14 non-null     object \n",
            " 1   reasons.count                    14 non-null     int64  \n",
            " 2   reasons.items                    14 non-null     object \n",
            " 3   venue.id                         14 non-null     object \n",
            " 4   venue.name                       14 non-null     object \n",
            " 5   venue.location.lat               14 non-null     float64\n",
            " 6   venue.location.lng               14 non-null     float64\n",
            " 7   venue.location.labeledLatLngs    14 non-null     object \n",
            " 8   venue.location.distance          14 non-null     int64  \n",
            " 9   venue.location.postalCode        12 non-null     object \n",
            " 10  venue.location.cc                14 non-null     object \n",
            " 11  venue.location.city              12 non-null     object \n",
            " 12  venue.location.state             12 non-null     object \n",
            " 13  venue.location.country           14 non-null     object \n",
            " 14  venue.location.formattedAddress  14 non-null     object \n",
            " 15  venue.categories                 14 non-null     object \n",
            " 16  venue.photos.count               14 non-null     int64  \n",
            " 17  venue.photos.groups              14 non-null     object \n",
            " 18  venue.location.address           8 non-null      object \n",
            " 19  venue.location.crossStreet       5 non-null      object \n",
            "dtypes: float64(2), int64(3), object(15)\n",
            "memory usage: 2.3+ KB\n"
          ],
          "name": "stdout"
        }
      ]
    },
    {
      "cell_type": "code",
      "metadata": {
        "id": "lJsmYyLKQUdv",
        "colab": {
          "base_uri": "https://localhost:8080/",
          "height": 394
        },
        "outputId": "86309db4-1ccb-4350-9fc8-3ca3e07f0ad2"
      },
      "source": [
        "nearby_maui0.head()"
      ],
      "execution_count": null,
      "outputs": [
        {
          "output_type": "execute_result",
          "data": {
            "text/html": [
              "<div>\n",
              "<style scoped>\n",
              "    .dataframe tbody tr th:only-of-type {\n",
              "        vertical-align: middle;\n",
              "    }\n",
              "\n",
              "    .dataframe tbody tr th {\n",
              "        vertical-align: top;\n",
              "    }\n",
              "\n",
              "    .dataframe thead th {\n",
              "        text-align: right;\n",
              "    }\n",
              "</style>\n",
              "<table border=\"1\" class=\"dataframe\">\n",
              "  <thead>\n",
              "    <tr style=\"text-align: right;\">\n",
              "      <th></th>\n",
              "      <th>referralId</th>\n",
              "      <th>reasons.count</th>\n",
              "      <th>reasons.items</th>\n",
              "      <th>venue.id</th>\n",
              "      <th>venue.name</th>\n",
              "      <th>venue.location.lat</th>\n",
              "      <th>venue.location.lng</th>\n",
              "      <th>venue.location.labeledLatLngs</th>\n",
              "      <th>venue.location.distance</th>\n",
              "      <th>venue.location.postalCode</th>\n",
              "      <th>venue.location.cc</th>\n",
              "      <th>venue.location.city</th>\n",
              "      <th>venue.location.state</th>\n",
              "      <th>venue.location.country</th>\n",
              "      <th>venue.location.formattedAddress</th>\n",
              "      <th>venue.categories</th>\n",
              "      <th>venue.photos.count</th>\n",
              "      <th>venue.photos.groups</th>\n",
              "      <th>venue.location.address</th>\n",
              "      <th>venue.location.crossStreet</th>\n",
              "    </tr>\n",
              "  </thead>\n",
              "  <tbody>\n",
              "    <tr>\n",
              "      <th>0</th>\n",
              "      <td>e-0-4fc565dbe4b0829fe1507460-0</td>\n",
              "      <td>0</td>\n",
              "      <td>[{'summary': 'This spot is popular', 'type': '...</td>\n",
              "      <td>4fc565dbe4b0829fe1507460</td>\n",
              "      <td>Lelekea Beach</td>\n",
              "      <td>20.651087</td>\n",
              "      <td>-156.079459</td>\n",
              "      <td>[{'label': 'display', 'lat': 20.651087, 'lng':...</td>\n",
              "      <td>22815</td>\n",
              "      <td>96713</td>\n",
              "      <td>US</td>\n",
              "      <td>Hāna</td>\n",
              "      <td>HI</td>\n",
              "      <td>United States</td>\n",
              "      <td>[Hāna, HI 96713, United States]</td>\n",
              "      <td>[{'id': '4bf58dd8d48988d1e2941735', 'name': 'B...</td>\n",
              "      <td>0</td>\n",
              "      <td>[]</td>\n",
              "      <td>NaN</td>\n",
              "      <td>NaN</td>\n",
              "    </tr>\n",
              "    <tr>\n",
              "      <th>1</th>\n",
              "      <td>e-0-50f5e39ee4b0255d39ffc198-1</td>\n",
              "      <td>0</td>\n",
              "      <td>[{'summary': 'This spot is popular', 'type': '...</td>\n",
              "      <td>50f5e39ee4b0255d39ffc198</td>\n",
              "      <td>Haukini Bay</td>\n",
              "      <td>20.624844</td>\n",
              "      <td>-156.210364</td>\n",
              "      <td>[{'label': 'display', 'lat': 20.62484351951365...</td>\n",
              "      <td>16159</td>\n",
              "      <td>96790</td>\n",
              "      <td>US</td>\n",
              "      <td>Kula</td>\n",
              "      <td>HI</td>\n",
              "      <td>United States</td>\n",
              "      <td>[Kula, HI 96790, United States]</td>\n",
              "      <td>[{'id': '4bf58dd8d48988d1e2941735', 'name': 'B...</td>\n",
              "      <td>0</td>\n",
              "      <td>[]</td>\n",
              "      <td>NaN</td>\n",
              "      <td>NaN</td>\n",
              "    </tr>\n",
              "    <tr>\n",
              "      <th>2</th>\n",
              "      <td>e-0-4e4e09abbd4101d0d7a0c8b7-2</td>\n",
              "      <td>0</td>\n",
              "      <td>[{'summary': 'This spot is popular', 'type': '...</td>\n",
              "      <td>4e4e09abbd4101d0d7a0c8b7</td>\n",
              "      <td>Cold Stone Creamery</td>\n",
              "      <td>20.444210</td>\n",
              "      <td>-156.163382</td>\n",
              "      <td>[{'label': 'display', 'lat': 20.44421, 'lng': ...</td>\n",
              "      <td>5518</td>\n",
              "      <td>96740</td>\n",
              "      <td>US</td>\n",
              "      <td>Kailua-Kona</td>\n",
              "      <td>HI</td>\n",
              "      <td>United States</td>\n",
              "      <td>[75-1027 Henry St, Kailua-Kona, HI 96740, Unit...</td>\n",
              "      <td>[{'id': '4bf58dd8d48988d1c9941735', 'name': 'I...</td>\n",
              "      <td>0</td>\n",
              "      <td>[]</td>\n",
              "      <td>75-1027 Henry St</td>\n",
              "      <td>NaN</td>\n",
              "    </tr>\n",
              "    <tr>\n",
              "      <th>3</th>\n",
              "      <td>e-0-501a833fe4b0a724be572f34-3</td>\n",
              "      <td>0</td>\n",
              "      <td>[{'summary': 'This spot is popular', 'type': '...</td>\n",
              "      <td>501a833fe4b0a724be572f34</td>\n",
              "      <td>Alenuihaha Channel</td>\n",
              "      <td>20.390015</td>\n",
              "      <td>-156.246970</td>\n",
              "      <td>[{'label': 'display', 'lat': 20.39001493552374...</td>\n",
              "      <td>11151</td>\n",
              "      <td>NaN</td>\n",
              "      <td>US</td>\n",
              "      <td>NaN</td>\n",
              "      <td>NaN</td>\n",
              "      <td>United States</td>\n",
              "      <td>[United States]</td>\n",
              "      <td>[{'id': '4bf58dd8d48988d12d951735', 'name': 'B...</td>\n",
              "      <td>0</td>\n",
              "      <td>[]</td>\n",
              "      <td>NaN</td>\n",
              "      <td>NaN</td>\n",
              "    </tr>\n",
              "    <tr>\n",
              "      <th>4</th>\n",
              "      <td>e-0-57eb1a3d498e11e2a0e8c6a4-4</td>\n",
              "      <td>0</td>\n",
              "      <td>[{'summary': 'This spot is popular', 'type': '...</td>\n",
              "      <td>57eb1a3d498e11e2a0e8c6a4</td>\n",
              "      <td>Pokowai Sea Arch</td>\n",
              "      <td>20.622090</td>\n",
              "      <td>-156.213070</td>\n",
              "      <td>[{'label': 'display', 'lat': 20.62209, 'lng': ...</td>\n",
              "      <td>15875</td>\n",
              "      <td>96790</td>\n",
              "      <td>US</td>\n",
              "      <td>Kula</td>\n",
              "      <td>HI</td>\n",
              "      <td>United States</td>\n",
              "      <td>[Kula, HI 96790, United States]</td>\n",
              "      <td>[{'id': '4bf58dd8d48988d165941735', 'name': 'S...</td>\n",
              "      <td>0</td>\n",
              "      <td>[]</td>\n",
              "      <td>NaN</td>\n",
              "      <td>NaN</td>\n",
              "    </tr>\n",
              "  </tbody>\n",
              "</table>\n",
              "</div>"
            ],
            "text/plain": [
              "                       referralId  ...  venue.location.crossStreet\n",
              "0  e-0-4fc565dbe4b0829fe1507460-0  ...                         NaN\n",
              "1  e-0-50f5e39ee4b0255d39ffc198-1  ...                         NaN\n",
              "2  e-0-4e4e09abbd4101d0d7a0c8b7-2  ...                         NaN\n",
              "3  e-0-501a833fe4b0a724be572f34-3  ...                         NaN\n",
              "4  e-0-57eb1a3d498e11e2a0e8c6a4-4  ...                         NaN\n",
              "\n",
              "[5 rows x 20 columns]"
            ]
          },
          "metadata": {
            "tags": []
          },
          "execution_count": 80
        }
      ]
    },
    {
      "cell_type": "code",
      "metadata": {
        "id": "tHD_jniDNvaZ"
      },
      "source": [
        "# duplicate dataframe\n",
        "nearby_maui1 = nearby_maui0.copy()"
      ],
      "execution_count": null,
      "outputs": []
    },
    {
      "cell_type": "code",
      "metadata": {
        "id": "np_41YdON2Fn",
        "colab": {
          "base_uri": "https://localhost:8080/"
        },
        "outputId": "af4afdae-850f-416c-8eeb-f7f9b81be9f7"
      },
      "source": [
        "# filter columns,consider only required columns\n",
        "filtered_columns = ['venue.id', 'venue.name', 'venue.categories'] + [col for col in nearby_maui1.columns if col.startswith('venue.location.')]\n",
        "nearby_maui2 = nearby_maui1.loc[:, filtered_columns]\n",
        "nearby_maui2.info()"
      ],
      "execution_count": null,
      "outputs": [
        {
          "output_type": "stream",
          "text": [
            "<class 'pandas.core.frame.DataFrame'>\n",
            "RangeIndex: 14 entries, 0 to 13\n",
            "Data columns (total 15 columns):\n",
            " #   Column                           Non-Null Count  Dtype  \n",
            "---  ------                           --------------  -----  \n",
            " 0   venue.id                         14 non-null     object \n",
            " 1   venue.name                       14 non-null     object \n",
            " 2   venue.categories                 14 non-null     object \n",
            " 3   venue.location.lat               14 non-null     float64\n",
            " 4   venue.location.lng               14 non-null     float64\n",
            " 5   venue.location.labeledLatLngs    14 non-null     object \n",
            " 6   venue.location.distance          14 non-null     int64  \n",
            " 7   venue.location.postalCode        12 non-null     object \n",
            " 8   venue.location.cc                14 non-null     object \n",
            " 9   venue.location.city              12 non-null     object \n",
            " 10  venue.location.state             12 non-null     object \n",
            " 11  venue.location.country           14 non-null     object \n",
            " 12  venue.location.formattedAddress  14 non-null     object \n",
            " 13  venue.location.address           8 non-null      object \n",
            " 14  venue.location.crossStreet       5 non-null      object \n",
            "dtypes: float64(2), int64(1), object(12)\n",
            "memory usage: 1.8+ KB\n"
          ],
          "name": "stdout"
        }
      ]
    },
    {
      "cell_type": "code",
      "metadata": {
        "id": "hjeysC9pcUZE",
        "colab": {
          "base_uri": "https://localhost:8080/",
          "height": 394
        },
        "outputId": "fddb4c10-1404-4fe5-c43c-321cb26f9f7e"
      },
      "source": [
        "# add an island column\n",
        "nearby_maui2['venue.island'] = 'Maui'\n",
        "nearby_maui2['venue.county'] = 'Maui'\n",
        "nearby_maui2.head()"
      ],
      "execution_count": null,
      "outputs": [
        {
          "output_type": "execute_result",
          "data": {
            "text/html": [
              "<div>\n",
              "<style scoped>\n",
              "    .dataframe tbody tr th:only-of-type {\n",
              "        vertical-align: middle;\n",
              "    }\n",
              "\n",
              "    .dataframe tbody tr th {\n",
              "        vertical-align: top;\n",
              "    }\n",
              "\n",
              "    .dataframe thead th {\n",
              "        text-align: right;\n",
              "    }\n",
              "</style>\n",
              "<table border=\"1\" class=\"dataframe\">\n",
              "  <thead>\n",
              "    <tr style=\"text-align: right;\">\n",
              "      <th></th>\n",
              "      <th>venue.id</th>\n",
              "      <th>venue.name</th>\n",
              "      <th>venue.categories</th>\n",
              "      <th>venue.location.lat</th>\n",
              "      <th>venue.location.lng</th>\n",
              "      <th>venue.location.labeledLatLngs</th>\n",
              "      <th>venue.location.distance</th>\n",
              "      <th>venue.location.postalCode</th>\n",
              "      <th>venue.location.cc</th>\n",
              "      <th>venue.location.city</th>\n",
              "      <th>venue.location.state</th>\n",
              "      <th>venue.location.country</th>\n",
              "      <th>venue.location.formattedAddress</th>\n",
              "      <th>venue.location.address</th>\n",
              "      <th>venue.location.crossStreet</th>\n",
              "      <th>venue.island</th>\n",
              "      <th>venue.county</th>\n",
              "    </tr>\n",
              "  </thead>\n",
              "  <tbody>\n",
              "    <tr>\n",
              "      <th>0</th>\n",
              "      <td>4fc565dbe4b0829fe1507460</td>\n",
              "      <td>Lelekea Beach</td>\n",
              "      <td>[{'id': '4bf58dd8d48988d1e2941735', 'name': 'B...</td>\n",
              "      <td>20.651087</td>\n",
              "      <td>-156.079459</td>\n",
              "      <td>[{'label': 'display', 'lat': 20.651087, 'lng':...</td>\n",
              "      <td>22815</td>\n",
              "      <td>96713</td>\n",
              "      <td>US</td>\n",
              "      <td>Hāna</td>\n",
              "      <td>HI</td>\n",
              "      <td>United States</td>\n",
              "      <td>[Hāna, HI 96713, United States]</td>\n",
              "      <td>NaN</td>\n",
              "      <td>NaN</td>\n",
              "      <td>Maui</td>\n",
              "      <td>Maui</td>\n",
              "    </tr>\n",
              "    <tr>\n",
              "      <th>1</th>\n",
              "      <td>50f5e39ee4b0255d39ffc198</td>\n",
              "      <td>Haukini Bay</td>\n",
              "      <td>[{'id': '4bf58dd8d48988d1e2941735', 'name': 'B...</td>\n",
              "      <td>20.624844</td>\n",
              "      <td>-156.210364</td>\n",
              "      <td>[{'label': 'display', 'lat': 20.62484351951365...</td>\n",
              "      <td>16159</td>\n",
              "      <td>96790</td>\n",
              "      <td>US</td>\n",
              "      <td>Kula</td>\n",
              "      <td>HI</td>\n",
              "      <td>United States</td>\n",
              "      <td>[Kula, HI 96790, United States]</td>\n",
              "      <td>NaN</td>\n",
              "      <td>NaN</td>\n",
              "      <td>Maui</td>\n",
              "      <td>Maui</td>\n",
              "    </tr>\n",
              "    <tr>\n",
              "      <th>2</th>\n",
              "      <td>4e4e09abbd4101d0d7a0c8b7</td>\n",
              "      <td>Cold Stone Creamery</td>\n",
              "      <td>[{'id': '4bf58dd8d48988d1c9941735', 'name': 'I...</td>\n",
              "      <td>20.444210</td>\n",
              "      <td>-156.163382</td>\n",
              "      <td>[{'label': 'display', 'lat': 20.44421, 'lng': ...</td>\n",
              "      <td>5518</td>\n",
              "      <td>96740</td>\n",
              "      <td>US</td>\n",
              "      <td>Kailua-Kona</td>\n",
              "      <td>HI</td>\n",
              "      <td>United States</td>\n",
              "      <td>[75-1027 Henry St, Kailua-Kona, HI 96740, Unit...</td>\n",
              "      <td>75-1027 Henry St</td>\n",
              "      <td>NaN</td>\n",
              "      <td>Maui</td>\n",
              "      <td>Maui</td>\n",
              "    </tr>\n",
              "    <tr>\n",
              "      <th>3</th>\n",
              "      <td>501a833fe4b0a724be572f34</td>\n",
              "      <td>Alenuihaha Channel</td>\n",
              "      <td>[{'id': '4bf58dd8d48988d12d951735', 'name': 'B...</td>\n",
              "      <td>20.390015</td>\n",
              "      <td>-156.246970</td>\n",
              "      <td>[{'label': 'display', 'lat': 20.39001493552374...</td>\n",
              "      <td>11151</td>\n",
              "      <td>NaN</td>\n",
              "      <td>US</td>\n",
              "      <td>NaN</td>\n",
              "      <td>NaN</td>\n",
              "      <td>United States</td>\n",
              "      <td>[United States]</td>\n",
              "      <td>NaN</td>\n",
              "      <td>NaN</td>\n",
              "      <td>Maui</td>\n",
              "      <td>Maui</td>\n",
              "    </tr>\n",
              "    <tr>\n",
              "      <th>4</th>\n",
              "      <td>57eb1a3d498e11e2a0e8c6a4</td>\n",
              "      <td>Pokowai Sea Arch</td>\n",
              "      <td>[{'id': '4bf58dd8d48988d165941735', 'name': 'S...</td>\n",
              "      <td>20.622090</td>\n",
              "      <td>-156.213070</td>\n",
              "      <td>[{'label': 'display', 'lat': 20.62209, 'lng': ...</td>\n",
              "      <td>15875</td>\n",
              "      <td>96790</td>\n",
              "      <td>US</td>\n",
              "      <td>Kula</td>\n",
              "      <td>HI</td>\n",
              "      <td>United States</td>\n",
              "      <td>[Kula, HI 96790, United States]</td>\n",
              "      <td>NaN</td>\n",
              "      <td>NaN</td>\n",
              "      <td>Maui</td>\n",
              "      <td>Maui</td>\n",
              "    </tr>\n",
              "  </tbody>\n",
              "</table>\n",
              "</div>"
            ],
            "text/plain": [
              "                   venue.id           venue.name  ... venue.island  venue.county\n",
              "0  4fc565dbe4b0829fe1507460        Lelekea Beach  ...         Maui          Maui\n",
              "1  50f5e39ee4b0255d39ffc198          Haukini Bay  ...         Maui          Maui\n",
              "2  4e4e09abbd4101d0d7a0c8b7  Cold Stone Creamery  ...         Maui          Maui\n",
              "3  501a833fe4b0a724be572f34   Alenuihaha Channel  ...         Maui          Maui\n",
              "4  57eb1a3d498e11e2a0e8c6a4     Pokowai Sea Arch  ...         Maui          Maui\n",
              "\n",
              "[5 rows x 17 columns]"
            ]
          },
          "metadata": {
            "tags": []
          },
          "execution_count": 102
        }
      ]
    },
    {
      "cell_type": "markdown",
      "metadata": {
        "id": "PtK0EmlcAAlj"
      },
      "source": [
        "### Molokai"
      ]
    },
    {
      "cell_type": "code",
      "metadata": {
        "id": "_kEgTwJoAHA0"
      },
      "source": [
        "# fetch data from API\n",
        "venues_molokai = get_nearby_venues(21.08, -157.02, 20000, 5000)"
      ],
      "execution_count": null,
      "outputs": []
    },
    {
      "cell_type": "code",
      "metadata": {
        "id": "DqAxb6zCA1rg",
        "colab": {
          "base_uri": "https://localhost:8080/"
        },
        "outputId": "b9c50623-45f1-4e8d-8d2c-b27bfb7a5147"
      },
      "source": [
        "venues_molokai[0]"
      ],
      "execution_count": null,
      "outputs": [
        {
          "output_type": "execute_result",
          "data": {
            "text/plain": [
              "{'reasons': {'count': 0,\n",
              "  'items': [{'reasonName': 'globalInteractionReason',\n",
              "    'summary': 'This spot is popular',\n",
              "    'type': 'general'}]},\n",
              " 'referralId': 'e-0-4b848120f964a520343931e3-0',\n",
              " 'venue': {'categories': [{'icon': {'prefix': 'https://ss3.4sqi.net/img/categories_v2/food/icecream_',\n",
              "     'suffix': '.png'},\n",
              "    'id': '4bf58dd8d48988d1c9941735',\n",
              "    'name': 'Ice Cream Shop',\n",
              "    'pluralName': 'Ice Cream Shops',\n",
              "    'primary': True,\n",
              "    'shortName': 'Ice Cream'}],\n",
              "  'id': '4b848120f964a520343931e3',\n",
              "  'location': {'cc': 'US',\n",
              "   'city': 'Kaunakakai',\n",
              "   'country': 'United States',\n",
              "   'distance': 1086,\n",
              "   'formattedAddress': ['Kaunakakai, HI 96748', 'United States'],\n",
              "   'labeledLatLngs': [{'label': 'display',\n",
              "     'lat': 21.089757251262945,\n",
              "     'lng': -157.0196646186083}],\n",
              "   'lat': 21.089757251262945,\n",
              "   'lng': -157.0196646186083,\n",
              "   'postalCode': '96748',\n",
              "   'state': 'HI'},\n",
              "  'name': \"Dave's Hawaiian Ice Cream\",\n",
              "  'photos': {'count': 0, 'groups': []}}}"
            ]
          },
          "metadata": {
            "tags": []
          },
          "execution_count": 55
        }
      ]
    },
    {
      "cell_type": "code",
      "metadata": {
        "id": "RM4DtBO_A7Wz",
        "colab": {
          "base_uri": "https://localhost:8080/"
        },
        "outputId": "7feaccda-3272-437f-dc99-a25d6cc9e4c0"
      },
      "source": [
        "# normalize JSON to dataframe\n",
        "nearby_molokai0 = pd.json_normalize(venues_molokai)\n",
        "nearby_molokai0.info()"
      ],
      "execution_count": null,
      "outputs": [
        {
          "output_type": "stream",
          "text": [
            "<class 'pandas.core.frame.DataFrame'>\n",
            "RangeIndex: 27 entries, 0 to 26\n",
            "Data columns (total 21 columns):\n",
            " #   Column                           Non-Null Count  Dtype  \n",
            "---  ------                           --------------  -----  \n",
            " 0   referralId                       27 non-null     object \n",
            " 1   reasons.count                    27 non-null     int64  \n",
            " 2   reasons.items                    27 non-null     object \n",
            " 3   venue.id                         27 non-null     object \n",
            " 4   venue.name                       27 non-null     object \n",
            " 5   venue.location.lat               27 non-null     float64\n",
            " 6   venue.location.lng               27 non-null     float64\n",
            " 7   venue.location.labeledLatLngs    26 non-null     object \n",
            " 8   venue.location.distance          27 non-null     int64  \n",
            " 9   venue.location.postalCode        22 non-null     object \n",
            " 10  venue.location.cc                27 non-null     object \n",
            " 11  venue.location.city              26 non-null     object \n",
            " 12  venue.location.state             27 non-null     object \n",
            " 13  venue.location.country           27 non-null     object \n",
            " 14  venue.location.formattedAddress  27 non-null     object \n",
            " 15  venue.categories                 27 non-null     object \n",
            " 16  venue.photos.count               27 non-null     int64  \n",
            " 17  venue.photos.groups              27 non-null     object \n",
            " 18  venue.location.address           17 non-null     object \n",
            " 19  venue.location.crossStreet       6 non-null      object \n",
            " 20  venue.venuePage.id               2 non-null      object \n",
            "dtypes: float64(2), int64(3), object(16)\n",
            "memory usage: 4.6+ KB\n"
          ],
          "name": "stdout"
        }
      ]
    },
    {
      "cell_type": "code",
      "metadata": {
        "id": "sHiqzNjjQd5r",
        "colab": {
          "base_uri": "https://localhost:8080/",
          "height": 394
        },
        "outputId": "6ad31668-61bb-4a87-b250-159f435399e2"
      },
      "source": [
        "nearby_molokai0.head()"
      ],
      "execution_count": null,
      "outputs": [
        {
          "output_type": "execute_result",
          "data": {
            "text/html": [
              "<div>\n",
              "<style scoped>\n",
              "    .dataframe tbody tr th:only-of-type {\n",
              "        vertical-align: middle;\n",
              "    }\n",
              "\n",
              "    .dataframe tbody tr th {\n",
              "        vertical-align: top;\n",
              "    }\n",
              "\n",
              "    .dataframe thead th {\n",
              "        text-align: right;\n",
              "    }\n",
              "</style>\n",
              "<table border=\"1\" class=\"dataframe\">\n",
              "  <thead>\n",
              "    <tr style=\"text-align: right;\">\n",
              "      <th></th>\n",
              "      <th>referralId</th>\n",
              "      <th>reasons.count</th>\n",
              "      <th>reasons.items</th>\n",
              "      <th>venue.id</th>\n",
              "      <th>venue.name</th>\n",
              "      <th>venue.location.lat</th>\n",
              "      <th>venue.location.lng</th>\n",
              "      <th>venue.location.labeledLatLngs</th>\n",
              "      <th>venue.location.distance</th>\n",
              "      <th>venue.location.postalCode</th>\n",
              "      <th>venue.location.cc</th>\n",
              "      <th>venue.location.city</th>\n",
              "      <th>venue.location.state</th>\n",
              "      <th>venue.location.country</th>\n",
              "      <th>venue.location.formattedAddress</th>\n",
              "      <th>venue.categories</th>\n",
              "      <th>venue.photos.count</th>\n",
              "      <th>venue.photos.groups</th>\n",
              "      <th>venue.location.address</th>\n",
              "      <th>venue.location.crossStreet</th>\n",
              "      <th>venue.venuePage.id</th>\n",
              "    </tr>\n",
              "  </thead>\n",
              "  <tbody>\n",
              "    <tr>\n",
              "      <th>0</th>\n",
              "      <td>e-0-4b848120f964a520343931e3-0</td>\n",
              "      <td>0</td>\n",
              "      <td>[{'summary': 'This spot is popular', 'type': '...</td>\n",
              "      <td>4b848120f964a520343931e3</td>\n",
              "      <td>Dave's Hawaiian Ice Cream</td>\n",
              "      <td>21.089757</td>\n",
              "      <td>-157.019665</td>\n",
              "      <td>[{'label': 'display', 'lat': 21.08975725126294...</td>\n",
              "      <td>1086</td>\n",
              "      <td>96748</td>\n",
              "      <td>US</td>\n",
              "      <td>Kaunakakai</td>\n",
              "      <td>HI</td>\n",
              "      <td>United States</td>\n",
              "      <td>[Kaunakakai, HI 96748, United States]</td>\n",
              "      <td>[{'id': '4bf58dd8d48988d1c9941735', 'name': 'I...</td>\n",
              "      <td>0</td>\n",
              "      <td>[]</td>\n",
              "      <td>NaN</td>\n",
              "      <td>NaN</td>\n",
              "      <td>NaN</td>\n",
              "    </tr>\n",
              "    <tr>\n",
              "      <th>1</th>\n",
              "      <td>e-0-4b915333f964a5203cb333e3-1</td>\n",
              "      <td>0</td>\n",
              "      <td>[{'summary': 'This spot is popular', 'type': '...</td>\n",
              "      <td>4b915333f964a5203cb333e3</td>\n",
              "      <td>Kanemitsu Bakery</td>\n",
              "      <td>21.090829</td>\n",
              "      <td>-157.020902</td>\n",
              "      <td>[{'label': 'display', 'lat': 21.09082868301856...</td>\n",
              "      <td>1209</td>\n",
              "      <td>96748</td>\n",
              "      <td>US</td>\n",
              "      <td>Kaunakakai</td>\n",
              "      <td>HI</td>\n",
              "      <td>United States</td>\n",
              "      <td>[79 Ala Malama St., Kaunakakai, HI 96748, Unit...</td>\n",
              "      <td>[{'id': '4bf58dd8d48988d16a941735', 'name': 'B...</td>\n",
              "      <td>0</td>\n",
              "      <td>[]</td>\n",
              "      <td>79 Ala Malama St.</td>\n",
              "      <td>NaN</td>\n",
              "      <td>NaN</td>\n",
              "    </tr>\n",
              "    <tr>\n",
              "      <th>2</th>\n",
              "      <td>e-0-4b537d0cf964a5207d9f27e3-2</td>\n",
              "      <td>0</td>\n",
              "      <td>[{'summary': 'This spot is popular', 'type': '...</td>\n",
              "      <td>4b537d0cf964a5207d9f27e3</td>\n",
              "      <td>Kualapuu Cookhouse</td>\n",
              "      <td>21.154996</td>\n",
              "      <td>-157.038020</td>\n",
              "      <td>[{'label': 'display', 'lat': 21.15499562889081...</td>\n",
              "      <td>8555</td>\n",
              "      <td>96757</td>\n",
              "      <td>US</td>\n",
              "      <td>Kualapu‘u</td>\n",
              "      <td>HI</td>\n",
              "      <td>United States</td>\n",
              "      <td>[Kualapu‘u, HI 96757, United States]</td>\n",
              "      <td>[{'id': '4bf58dd8d48988d1df931735', 'name': 'B...</td>\n",
              "      <td>0</td>\n",
              "      <td>[]</td>\n",
              "      <td>NaN</td>\n",
              "      <td>NaN</td>\n",
              "      <td>NaN</td>\n",
              "    </tr>\n",
              "    <tr>\n",
              "      <th>3</th>\n",
              "      <td>e-0-4bfb1e3ed2b720a12fa2326a-3</td>\n",
              "      <td>0</td>\n",
              "      <td>[{'summary': 'This spot is popular', 'type': '...</td>\n",
              "      <td>4bfb1e3ed2b720a12fa2326a</td>\n",
              "      <td>Hotel Moloka'i</td>\n",
              "      <td>21.078730</td>\n",
              "      <td>-156.996023</td>\n",
              "      <td>[{'label': 'display', 'lat': 21.07873031325953...</td>\n",
              "      <td>2494</td>\n",
              "      <td>96748</td>\n",
              "      <td>US</td>\n",
              "      <td>Kaunakakai</td>\n",
              "      <td>HI</td>\n",
              "      <td>United States</td>\n",
              "      <td>[1300 Kamehameha V Highway, #1020 (Near Mile M...</td>\n",
              "      <td>[{'id': '4bf58dd8d48988d1fa931735', 'name': 'H...</td>\n",
              "      <td>0</td>\n",
              "      <td>[]</td>\n",
              "      <td>1300 Kamehameha V Highway, #1020</td>\n",
              "      <td>Near Mile Marker 2</td>\n",
              "      <td>NaN</td>\n",
              "    </tr>\n",
              "    <tr>\n",
              "      <th>4</th>\n",
              "      <td>e-0-4bc2a5ce4cdfc9b6fb709621-4</td>\n",
              "      <td>0</td>\n",
              "      <td>[{'summary': 'This spot is popular', 'type': '...</td>\n",
              "      <td>4bc2a5ce4cdfc9b6fb709621</td>\n",
              "      <td>Molokai Burger</td>\n",
              "      <td>21.089247</td>\n",
              "      <td>-157.022309</td>\n",
              "      <td>[{'label': 'display', 'lat': 21.08924731929179...</td>\n",
              "      <td>1056</td>\n",
              "      <td>96748</td>\n",
              "      <td>US</td>\n",
              "      <td>Kaunakakai</td>\n",
              "      <td>HI</td>\n",
              "      <td>United States</td>\n",
              "      <td>[20 W. Kamehameha V Highway (Kaunakakai Place)...</td>\n",
              "      <td>[{'id': '4bf58dd8d48988d16c941735', 'name': 'B...</td>\n",
              "      <td>0</td>\n",
              "      <td>[]</td>\n",
              "      <td>20 W. Kamehameha V Highway</td>\n",
              "      <td>Kaunakakai Place</td>\n",
              "      <td>NaN</td>\n",
              "    </tr>\n",
              "  </tbody>\n",
              "</table>\n",
              "</div>"
            ],
            "text/plain": [
              "                       referralId  ...  venue.venuePage.id\n",
              "0  e-0-4b848120f964a520343931e3-0  ...                 NaN\n",
              "1  e-0-4b915333f964a5203cb333e3-1  ...                 NaN\n",
              "2  e-0-4b537d0cf964a5207d9f27e3-2  ...                 NaN\n",
              "3  e-0-4bfb1e3ed2b720a12fa2326a-3  ...                 NaN\n",
              "4  e-0-4bc2a5ce4cdfc9b6fb709621-4  ...                 NaN\n",
              "\n",
              "[5 rows x 21 columns]"
            ]
          },
          "metadata": {
            "tags": []
          },
          "execution_count": 81
        }
      ]
    },
    {
      "cell_type": "code",
      "metadata": {
        "id": "IWH78AK7OQs0"
      },
      "source": [
        "# duplicate dataframe\n",
        "nearby_molokai1 = nearby_molokai0.copy()"
      ],
      "execution_count": null,
      "outputs": []
    },
    {
      "cell_type": "code",
      "metadata": {
        "id": "2LzF-GCNOkvG",
        "colab": {
          "base_uri": "https://localhost:8080/"
        },
        "outputId": "05277cc1-68fb-41ba-83cc-5c6e0cfab713"
      },
      "source": [
        "# filter columns,consider only required columns\n",
        "filtered_columns = ['venue.id', 'venue.name', 'venue.categories'] + [col for col in nearby_molokai1.columns if col.startswith('venue.location.')]\n",
        "nearby_molokai2 = nearby_molokai1.loc[:, filtered_columns]\n",
        "nearby_molokai2.info()"
      ],
      "execution_count": null,
      "outputs": [
        {
          "output_type": "stream",
          "text": [
            "<class 'pandas.core.frame.DataFrame'>\n",
            "RangeIndex: 27 entries, 0 to 26\n",
            "Data columns (total 15 columns):\n",
            " #   Column                           Non-Null Count  Dtype  \n",
            "---  ------                           --------------  -----  \n",
            " 0   venue.id                         27 non-null     object \n",
            " 1   venue.name                       27 non-null     object \n",
            " 2   venue.categories                 27 non-null     object \n",
            " 3   venue.location.lat               27 non-null     float64\n",
            " 4   venue.location.lng               27 non-null     float64\n",
            " 5   venue.location.labeledLatLngs    26 non-null     object \n",
            " 6   venue.location.distance          27 non-null     int64  \n",
            " 7   venue.location.postalCode        22 non-null     object \n",
            " 8   venue.location.cc                27 non-null     object \n",
            " 9   venue.location.city              26 non-null     object \n",
            " 10  venue.location.state             27 non-null     object \n",
            " 11  venue.location.country           27 non-null     object \n",
            " 12  venue.location.formattedAddress  27 non-null     object \n",
            " 13  venue.location.address           17 non-null     object \n",
            " 14  venue.location.crossStreet       6 non-null      object \n",
            "dtypes: float64(2), int64(1), object(12)\n",
            "memory usage: 3.3+ KB\n"
          ],
          "name": "stdout"
        }
      ]
    },
    {
      "cell_type": "code",
      "metadata": {
        "id": "MQBHjOiucv5l",
        "colab": {
          "base_uri": "https://localhost:8080/",
          "height": 394
        },
        "outputId": "bda02281-c9db-4f83-d9d5-ba4b046ae298"
      },
      "source": [
        "# add an island column\n",
        "nearby_molokai2['venue.island'] = 'Molokai'\n",
        "nearby_molokai2['venue.county'] = 'Maui'\n",
        "nearby_molokai2.head()"
      ],
      "execution_count": null,
      "outputs": [
        {
          "output_type": "execute_result",
          "data": {
            "text/html": [
              "<div>\n",
              "<style scoped>\n",
              "    .dataframe tbody tr th:only-of-type {\n",
              "        vertical-align: middle;\n",
              "    }\n",
              "\n",
              "    .dataframe tbody tr th {\n",
              "        vertical-align: top;\n",
              "    }\n",
              "\n",
              "    .dataframe thead th {\n",
              "        text-align: right;\n",
              "    }\n",
              "</style>\n",
              "<table border=\"1\" class=\"dataframe\">\n",
              "  <thead>\n",
              "    <tr style=\"text-align: right;\">\n",
              "      <th></th>\n",
              "      <th>venue.id</th>\n",
              "      <th>venue.name</th>\n",
              "      <th>venue.categories</th>\n",
              "      <th>venue.location.lat</th>\n",
              "      <th>venue.location.lng</th>\n",
              "      <th>venue.location.labeledLatLngs</th>\n",
              "      <th>venue.location.distance</th>\n",
              "      <th>venue.location.postalCode</th>\n",
              "      <th>venue.location.cc</th>\n",
              "      <th>venue.location.city</th>\n",
              "      <th>venue.location.state</th>\n",
              "      <th>venue.location.country</th>\n",
              "      <th>venue.location.formattedAddress</th>\n",
              "      <th>venue.location.address</th>\n",
              "      <th>venue.location.crossStreet</th>\n",
              "      <th>venue.island</th>\n",
              "      <th>venue.county</th>\n",
              "    </tr>\n",
              "  </thead>\n",
              "  <tbody>\n",
              "    <tr>\n",
              "      <th>0</th>\n",
              "      <td>4b848120f964a520343931e3</td>\n",
              "      <td>Dave's Hawaiian Ice Cream</td>\n",
              "      <td>[{'id': '4bf58dd8d48988d1c9941735', 'name': 'I...</td>\n",
              "      <td>21.089757</td>\n",
              "      <td>-157.019665</td>\n",
              "      <td>[{'label': 'display', 'lat': 21.08975725126294...</td>\n",
              "      <td>1086</td>\n",
              "      <td>96748</td>\n",
              "      <td>US</td>\n",
              "      <td>Kaunakakai</td>\n",
              "      <td>HI</td>\n",
              "      <td>United States</td>\n",
              "      <td>[Kaunakakai, HI 96748, United States]</td>\n",
              "      <td>NaN</td>\n",
              "      <td>NaN</td>\n",
              "      <td>Molokai</td>\n",
              "      <td>Maui</td>\n",
              "    </tr>\n",
              "    <tr>\n",
              "      <th>1</th>\n",
              "      <td>4b915333f964a5203cb333e3</td>\n",
              "      <td>Kanemitsu Bakery</td>\n",
              "      <td>[{'id': '4bf58dd8d48988d16a941735', 'name': 'B...</td>\n",
              "      <td>21.090829</td>\n",
              "      <td>-157.020902</td>\n",
              "      <td>[{'label': 'display', 'lat': 21.09082868301856...</td>\n",
              "      <td>1209</td>\n",
              "      <td>96748</td>\n",
              "      <td>US</td>\n",
              "      <td>Kaunakakai</td>\n",
              "      <td>HI</td>\n",
              "      <td>United States</td>\n",
              "      <td>[79 Ala Malama St., Kaunakakai, HI 96748, Unit...</td>\n",
              "      <td>79 Ala Malama St.</td>\n",
              "      <td>NaN</td>\n",
              "      <td>Molokai</td>\n",
              "      <td>Maui</td>\n",
              "    </tr>\n",
              "    <tr>\n",
              "      <th>2</th>\n",
              "      <td>4b537d0cf964a5207d9f27e3</td>\n",
              "      <td>Kualapuu Cookhouse</td>\n",
              "      <td>[{'id': '4bf58dd8d48988d1df931735', 'name': 'B...</td>\n",
              "      <td>21.154996</td>\n",
              "      <td>-157.038020</td>\n",
              "      <td>[{'label': 'display', 'lat': 21.15499562889081...</td>\n",
              "      <td>8555</td>\n",
              "      <td>96757</td>\n",
              "      <td>US</td>\n",
              "      <td>Kualapu‘u</td>\n",
              "      <td>HI</td>\n",
              "      <td>United States</td>\n",
              "      <td>[Kualapu‘u, HI 96757, United States]</td>\n",
              "      <td>NaN</td>\n",
              "      <td>NaN</td>\n",
              "      <td>Molokai</td>\n",
              "      <td>Maui</td>\n",
              "    </tr>\n",
              "    <tr>\n",
              "      <th>3</th>\n",
              "      <td>4bfb1e3ed2b720a12fa2326a</td>\n",
              "      <td>Hotel Moloka'i</td>\n",
              "      <td>[{'id': '4bf58dd8d48988d1fa931735', 'name': 'H...</td>\n",
              "      <td>21.078730</td>\n",
              "      <td>-156.996023</td>\n",
              "      <td>[{'label': 'display', 'lat': 21.07873031325953...</td>\n",
              "      <td>2494</td>\n",
              "      <td>96748</td>\n",
              "      <td>US</td>\n",
              "      <td>Kaunakakai</td>\n",
              "      <td>HI</td>\n",
              "      <td>United States</td>\n",
              "      <td>[1300 Kamehameha V Highway, #1020 (Near Mile M...</td>\n",
              "      <td>1300 Kamehameha V Highway, #1020</td>\n",
              "      <td>Near Mile Marker 2</td>\n",
              "      <td>Molokai</td>\n",
              "      <td>Maui</td>\n",
              "    </tr>\n",
              "    <tr>\n",
              "      <th>4</th>\n",
              "      <td>4bc2a5ce4cdfc9b6fb709621</td>\n",
              "      <td>Molokai Burger</td>\n",
              "      <td>[{'id': '4bf58dd8d48988d16c941735', 'name': 'B...</td>\n",
              "      <td>21.089247</td>\n",
              "      <td>-157.022309</td>\n",
              "      <td>[{'label': 'display', 'lat': 21.08924731929179...</td>\n",
              "      <td>1056</td>\n",
              "      <td>96748</td>\n",
              "      <td>US</td>\n",
              "      <td>Kaunakakai</td>\n",
              "      <td>HI</td>\n",
              "      <td>United States</td>\n",
              "      <td>[20 W. Kamehameha V Highway (Kaunakakai Place)...</td>\n",
              "      <td>20 W. Kamehameha V Highway</td>\n",
              "      <td>Kaunakakai Place</td>\n",
              "      <td>Molokai</td>\n",
              "      <td>Maui</td>\n",
              "    </tr>\n",
              "  </tbody>\n",
              "</table>\n",
              "</div>"
            ],
            "text/plain": [
              "                   venue.id  ... venue.county\n",
              "0  4b848120f964a520343931e3  ...         Maui\n",
              "1  4b915333f964a5203cb333e3  ...         Maui\n",
              "2  4b537d0cf964a5207d9f27e3  ...         Maui\n",
              "3  4bfb1e3ed2b720a12fa2326a  ...         Maui\n",
              "4  4bc2a5ce4cdfc9b6fb709621  ...         Maui\n",
              "\n",
              "[5 rows x 17 columns]"
            ]
          },
          "metadata": {
            "tags": []
          },
          "execution_count": 99
        }
      ]
    },
    {
      "cell_type": "markdown",
      "metadata": {
        "id": "FYKFPwbzB_Ro"
      },
      "source": [
        "### Lanai"
      ]
    },
    {
      "cell_type": "code",
      "metadata": {
        "id": "Dtpq5XWtCCwq"
      },
      "source": [
        "# fetch data from API\n",
        "venues_lanai = get_nearby_venues(20.50, -156.56, 15000, 5000)"
      ],
      "execution_count": null,
      "outputs": []
    },
    {
      "cell_type": "code",
      "metadata": {
        "id": "hOIrSS7bCdLa",
        "colab": {
          "base_uri": "https://localhost:8080/"
        },
        "outputId": "96561844-6adb-4eda-b375-52a823b49f24"
      },
      "source": [
        "venues_lanai[0]"
      ],
      "execution_count": null,
      "outputs": [
        {
          "output_type": "execute_result",
          "data": {
            "text/plain": [
              "{'reasons': {'count': 0,\n",
              "  'items': [{'reasonName': 'globalInteractionReason',\n",
              "    'summary': 'This spot is popular',\n",
              "    'type': 'general'}]},\n",
              " 'referralId': 'e-0-5640a4d4cd10c8b4e41fce79-0',\n",
              " 'venue': {'categories': [{'icon': {'prefix': 'https://ss3.4sqi.net/img/categories_v2/nightlife/nightclub_',\n",
              "     'suffix': '.png'},\n",
              "    'id': '4bf58dd8d48988d11f941735',\n",
              "    'name': 'Nightclub',\n",
              "    'pluralName': 'Nightclubs',\n",
              "    'primary': True,\n",
              "    'shortName': 'Nightclub'}],\n",
              "  'id': '5640a4d4cd10c8b4e41fce79',\n",
              "  'location': {'cc': 'US',\n",
              "   'city': 'Kula',\n",
              "   'country': 'United States',\n",
              "   'distance': 5986,\n",
              "   'formattedAddress': ['Kula, HI', 'United States'],\n",
              "   'labeledLatLngs': [{'label': 'display',\n",
              "     'lat': 20.538158416748047,\n",
              "     'lng': -156.6004638671875}],\n",
              "   'lat': 20.538158416748047,\n",
              "   'lng': -156.6004638671875,\n",
              "   'state': 'HI'},\n",
              "  'name': \"Ner'de\",\n",
              "  'photos': {'count': 0, 'groups': []}}}"
            ]
          },
          "metadata": {
            "tags": []
          },
          "execution_count": 58
        }
      ]
    },
    {
      "cell_type": "code",
      "metadata": {
        "id": "zcyB1HPoCinC",
        "colab": {
          "base_uri": "https://localhost:8080/"
        },
        "outputId": "dd69e93c-f79b-47d6-ed51-b02cd935bd6e"
      },
      "source": [
        "# normalize JSON to dataframe\n",
        "nearby_lanai0 = pd.json_normalize(venues_lanai)\n",
        "nearby_lanai0.info()"
      ],
      "execution_count": null,
      "outputs": [
        {
          "output_type": "stream",
          "text": [
            "<class 'pandas.core.frame.DataFrame'>\n",
            "RangeIndex: 4 entries, 0 to 3\n",
            "Data columns (total 18 columns):\n",
            " #   Column                           Non-Null Count  Dtype  \n",
            "---  ------                           --------------  -----  \n",
            " 0   referralId                       4 non-null      object \n",
            " 1   reasons.count                    4 non-null      int64  \n",
            " 2   reasons.items                    4 non-null      object \n",
            " 3   venue.id                         4 non-null      object \n",
            " 4   venue.name                       4 non-null      object \n",
            " 5   venue.location.lat               4 non-null      float64\n",
            " 6   venue.location.lng               4 non-null      float64\n",
            " 7   venue.location.labeledLatLngs    4 non-null      object \n",
            " 8   venue.location.distance          4 non-null      int64  \n",
            " 9   venue.location.cc                4 non-null      object \n",
            " 10  venue.location.city              3 non-null      object \n",
            " 11  venue.location.state             3 non-null      object \n",
            " 12  venue.location.country           4 non-null      object \n",
            " 13  venue.location.formattedAddress  4 non-null      object \n",
            " 14  venue.categories                 4 non-null      object \n",
            " 15  venue.photos.count               4 non-null      int64  \n",
            " 16  venue.photos.groups              4 non-null      object \n",
            " 17  venue.location.address           1 non-null      object \n",
            "dtypes: float64(2), int64(3), object(13)\n",
            "memory usage: 704.0+ bytes\n"
          ],
          "name": "stdout"
        }
      ]
    },
    {
      "cell_type": "code",
      "metadata": {
        "id": "46zUWnWlQoIe",
        "colab": {
          "base_uri": "https://localhost:8080/",
          "height": 329
        },
        "outputId": "aa59de19-04b5-4af6-a08a-b134209f2f1c"
      },
      "source": [
        "nearby_lanai0.head()"
      ],
      "execution_count": null,
      "outputs": [
        {
          "output_type": "execute_result",
          "data": {
            "text/html": [
              "<div>\n",
              "<style scoped>\n",
              "    .dataframe tbody tr th:only-of-type {\n",
              "        vertical-align: middle;\n",
              "    }\n",
              "\n",
              "    .dataframe tbody tr th {\n",
              "        vertical-align: top;\n",
              "    }\n",
              "\n",
              "    .dataframe thead th {\n",
              "        text-align: right;\n",
              "    }\n",
              "</style>\n",
              "<table border=\"1\" class=\"dataframe\">\n",
              "  <thead>\n",
              "    <tr style=\"text-align: right;\">\n",
              "      <th></th>\n",
              "      <th>referralId</th>\n",
              "      <th>reasons.count</th>\n",
              "      <th>reasons.items</th>\n",
              "      <th>venue.id</th>\n",
              "      <th>venue.name</th>\n",
              "      <th>venue.location.lat</th>\n",
              "      <th>venue.location.lng</th>\n",
              "      <th>venue.location.labeledLatLngs</th>\n",
              "      <th>venue.location.distance</th>\n",
              "      <th>venue.location.cc</th>\n",
              "      <th>venue.location.city</th>\n",
              "      <th>venue.location.state</th>\n",
              "      <th>venue.location.country</th>\n",
              "      <th>venue.location.formattedAddress</th>\n",
              "      <th>venue.categories</th>\n",
              "      <th>venue.photos.count</th>\n",
              "      <th>venue.photos.groups</th>\n",
              "      <th>venue.location.address</th>\n",
              "    </tr>\n",
              "  </thead>\n",
              "  <tbody>\n",
              "    <tr>\n",
              "      <th>0</th>\n",
              "      <td>e-0-5640a4d4cd10c8b4e41fce79-0</td>\n",
              "      <td>0</td>\n",
              "      <td>[{'summary': 'This spot is popular', 'type': '...</td>\n",
              "      <td>5640a4d4cd10c8b4e41fce79</td>\n",
              "      <td>Ner'de</td>\n",
              "      <td>20.538158</td>\n",
              "      <td>-156.600464</td>\n",
              "      <td>[{'label': 'display', 'lat': 20.53815841674804...</td>\n",
              "      <td>5986</td>\n",
              "      <td>US</td>\n",
              "      <td>Kula</td>\n",
              "      <td>HI</td>\n",
              "      <td>United States</td>\n",
              "      <td>[Kula, HI, United States]</td>\n",
              "      <td>[{'id': '4bf58dd8d48988d11f941735', 'name': 'N...</td>\n",
              "      <td>0</td>\n",
              "      <td>[]</td>\n",
              "      <td>NaN</td>\n",
              "    </tr>\n",
              "    <tr>\n",
              "      <th>1</th>\n",
              "      <td>e-0-567f4d6e498e44dfa296a880-1</td>\n",
              "      <td>0</td>\n",
              "      <td>[{'summary': 'This spot is popular', 'type': '...</td>\n",
              "      <td>567f4d6e498e44dfa296a880</td>\n",
              "      <td>Whatever u want</td>\n",
              "      <td>20.553896</td>\n",
              "      <td>-156.588600</td>\n",
              "      <td>[{'label': 'display', 'lat': 20.553896, 'lng':...</td>\n",
              "      <td>6699</td>\n",
              "      <td>US</td>\n",
              "      <td>Kula</td>\n",
              "      <td>HI</td>\n",
              "      <td>United States</td>\n",
              "      <td>[Somewhere Over The Rainbow, Kula, HI, United ...</td>\n",
              "      <td>[{'id': '4bf58dd8d48988d1f2931735', 'name': 'P...</td>\n",
              "      <td>0</td>\n",
              "      <td>[]</td>\n",
              "      <td>Somewhere Over The Rainbow</td>\n",
              "    </tr>\n",
              "    <tr>\n",
              "      <th>2</th>\n",
              "      <td>e-0-5640a46fcd10e06a4187cb35-2</td>\n",
              "      <td>0</td>\n",
              "      <td>[{'summary': 'This spot is popular', 'type': '...</td>\n",
              "      <td>5640a46fcd10e06a4187cb35</td>\n",
              "      <td>Ner'de</td>\n",
              "      <td>20.553667</td>\n",
              "      <td>-156.603470</td>\n",
              "      <td>[{'label': 'display', 'lat': 20.55366706848144...</td>\n",
              "      <td>7498</td>\n",
              "      <td>US</td>\n",
              "      <td>Kula</td>\n",
              "      <td>HI</td>\n",
              "      <td>United States</td>\n",
              "      <td>[Kula, HI, United States]</td>\n",
              "      <td>[{'id': '4bf58dd8d48988d11f941735', 'name': 'N...</td>\n",
              "      <td>0</td>\n",
              "      <td>[]</td>\n",
              "      <td>NaN</td>\n",
              "    </tr>\n",
              "    <tr>\n",
              "      <th>3</th>\n",
              "      <td>e-0-4f6c4eb8e4b07a4bc3461d71-3</td>\n",
              "      <td>0</td>\n",
              "      <td>[{'summary': 'This spot is popular', 'type': '...</td>\n",
              "      <td>4f6c4eb8e4b07a4bc3461d71</td>\n",
              "      <td>Kapolei HI</td>\n",
              "      <td>20.483599</td>\n",
              "      <td>-156.417175</td>\n",
              "      <td>[{'label': 'display', 'lat': 20.48359870910644...</td>\n",
              "      <td>15004</td>\n",
              "      <td>US</td>\n",
              "      <td>NaN</td>\n",
              "      <td>NaN</td>\n",
              "      <td>United States</td>\n",
              "      <td>[United States]</td>\n",
              "      <td>[{'id': '4bf58dd8d48988d1e2941735', 'name': 'B...</td>\n",
              "      <td>0</td>\n",
              "      <td>[]</td>\n",
              "      <td>NaN</td>\n",
              "    </tr>\n",
              "  </tbody>\n",
              "</table>\n",
              "</div>"
            ],
            "text/plain": [
              "                       referralId  ...      venue.location.address\n",
              "0  e-0-5640a4d4cd10c8b4e41fce79-0  ...                         NaN\n",
              "1  e-0-567f4d6e498e44dfa296a880-1  ...  Somewhere Over The Rainbow\n",
              "2  e-0-5640a46fcd10e06a4187cb35-2  ...                         NaN\n",
              "3  e-0-4f6c4eb8e4b07a4bc3461d71-3  ...                         NaN\n",
              "\n",
              "[4 rows x 18 columns]"
            ]
          },
          "metadata": {
            "tags": []
          },
          "execution_count": 82
        }
      ]
    },
    {
      "cell_type": "code",
      "metadata": {
        "id": "4vC3BmUGO0h7"
      },
      "source": [
        "# duplicate dataframe\n",
        "nearby_lanai1 = nearby_lanai0.copy()"
      ],
      "execution_count": null,
      "outputs": []
    },
    {
      "cell_type": "code",
      "metadata": {
        "id": "1JBYg3qiO7aP",
        "colab": {
          "base_uri": "https://localhost:8080/"
        },
        "outputId": "4329e9a3-b7c1-4843-c8e8-b770f74c5a05"
      },
      "source": [
        "# filter columns,consider only required columns\n",
        "filtered_columns = ['venue.id', 'venue.name', 'venue.categories'] + [col for col in nearby_lanai1.columns if col.startswith('venue.location.')]\n",
        "nearby_lanai2 = nearby_lanai1.loc[:, filtered_columns]\n",
        "nearby_lanai2.info()"
      ],
      "execution_count": null,
      "outputs": [
        {
          "output_type": "stream",
          "text": [
            "<class 'pandas.core.frame.DataFrame'>\n",
            "RangeIndex: 4 entries, 0 to 3\n",
            "Data columns (total 13 columns):\n",
            " #   Column                           Non-Null Count  Dtype  \n",
            "---  ------                           --------------  -----  \n",
            " 0   venue.id                         4 non-null      object \n",
            " 1   venue.name                       4 non-null      object \n",
            " 2   venue.categories                 4 non-null      object \n",
            " 3   venue.location.lat               4 non-null      float64\n",
            " 4   venue.location.lng               4 non-null      float64\n",
            " 5   venue.location.labeledLatLngs    4 non-null      object \n",
            " 6   venue.location.distance          4 non-null      int64  \n",
            " 7   venue.location.cc                4 non-null      object \n",
            " 8   venue.location.city              3 non-null      object \n",
            " 9   venue.location.state             3 non-null      object \n",
            " 10  venue.location.country           4 non-null      object \n",
            " 11  venue.location.formattedAddress  4 non-null      object \n",
            " 12  venue.location.address           1 non-null      object \n",
            "dtypes: float64(2), int64(1), object(10)\n",
            "memory usage: 544.0+ bytes\n"
          ],
          "name": "stdout"
        }
      ]
    },
    {
      "cell_type": "code",
      "metadata": {
        "id": "2D3VZD9pdimA",
        "colab": {
          "base_uri": "https://localhost:8080/",
          "height": 329
        },
        "outputId": "df8d4c3c-02d5-4ebd-d9c8-d99438a1105f"
      },
      "source": [
        "# add an island column\n",
        "nearby_lanai2['venue.island'] = 'Lanai'\n",
        "nearby_lanai2['venue.county'] = 'Maui'\n",
        "nearby_lanai2.head()"
      ],
      "execution_count": null,
      "outputs": [
        {
          "output_type": "execute_result",
          "data": {
            "text/html": [
              "<div>\n",
              "<style scoped>\n",
              "    .dataframe tbody tr th:only-of-type {\n",
              "        vertical-align: middle;\n",
              "    }\n",
              "\n",
              "    .dataframe tbody tr th {\n",
              "        vertical-align: top;\n",
              "    }\n",
              "\n",
              "    .dataframe thead th {\n",
              "        text-align: right;\n",
              "    }\n",
              "</style>\n",
              "<table border=\"1\" class=\"dataframe\">\n",
              "  <thead>\n",
              "    <tr style=\"text-align: right;\">\n",
              "      <th></th>\n",
              "      <th>venue.id</th>\n",
              "      <th>venue.name</th>\n",
              "      <th>venue.categories</th>\n",
              "      <th>venue.location.lat</th>\n",
              "      <th>venue.location.lng</th>\n",
              "      <th>venue.location.labeledLatLngs</th>\n",
              "      <th>venue.location.distance</th>\n",
              "      <th>venue.location.cc</th>\n",
              "      <th>venue.location.city</th>\n",
              "      <th>venue.location.state</th>\n",
              "      <th>venue.location.country</th>\n",
              "      <th>venue.location.formattedAddress</th>\n",
              "      <th>venue.location.address</th>\n",
              "      <th>venue.island</th>\n",
              "      <th>venue.county</th>\n",
              "    </tr>\n",
              "  </thead>\n",
              "  <tbody>\n",
              "    <tr>\n",
              "      <th>0</th>\n",
              "      <td>5640a4d4cd10c8b4e41fce79</td>\n",
              "      <td>Ner'de</td>\n",
              "      <td>[{'id': '4bf58dd8d48988d11f941735', 'name': 'N...</td>\n",
              "      <td>20.538158</td>\n",
              "      <td>-156.600464</td>\n",
              "      <td>[{'label': 'display', 'lat': 20.53815841674804...</td>\n",
              "      <td>5986</td>\n",
              "      <td>US</td>\n",
              "      <td>Kula</td>\n",
              "      <td>HI</td>\n",
              "      <td>United States</td>\n",
              "      <td>[Kula, HI, United States]</td>\n",
              "      <td>NaN</td>\n",
              "      <td>Lanai</td>\n",
              "      <td>Maui</td>\n",
              "    </tr>\n",
              "    <tr>\n",
              "      <th>1</th>\n",
              "      <td>567f4d6e498e44dfa296a880</td>\n",
              "      <td>Whatever u want</td>\n",
              "      <td>[{'id': '4bf58dd8d48988d1f2931735', 'name': 'P...</td>\n",
              "      <td>20.553896</td>\n",
              "      <td>-156.588600</td>\n",
              "      <td>[{'label': 'display', 'lat': 20.553896, 'lng':...</td>\n",
              "      <td>6699</td>\n",
              "      <td>US</td>\n",
              "      <td>Kula</td>\n",
              "      <td>HI</td>\n",
              "      <td>United States</td>\n",
              "      <td>[Somewhere Over The Rainbow, Kula, HI, United ...</td>\n",
              "      <td>Somewhere Over The Rainbow</td>\n",
              "      <td>Lanai</td>\n",
              "      <td>Maui</td>\n",
              "    </tr>\n",
              "    <tr>\n",
              "      <th>2</th>\n",
              "      <td>5640a46fcd10e06a4187cb35</td>\n",
              "      <td>Ner'de</td>\n",
              "      <td>[{'id': '4bf58dd8d48988d11f941735', 'name': 'N...</td>\n",
              "      <td>20.553667</td>\n",
              "      <td>-156.603470</td>\n",
              "      <td>[{'label': 'display', 'lat': 20.55366706848144...</td>\n",
              "      <td>7498</td>\n",
              "      <td>US</td>\n",
              "      <td>Kula</td>\n",
              "      <td>HI</td>\n",
              "      <td>United States</td>\n",
              "      <td>[Kula, HI, United States]</td>\n",
              "      <td>NaN</td>\n",
              "      <td>Lanai</td>\n",
              "      <td>Maui</td>\n",
              "    </tr>\n",
              "    <tr>\n",
              "      <th>3</th>\n",
              "      <td>4f6c4eb8e4b07a4bc3461d71</td>\n",
              "      <td>Kapolei HI</td>\n",
              "      <td>[{'id': '4bf58dd8d48988d1e2941735', 'name': 'B...</td>\n",
              "      <td>20.483599</td>\n",
              "      <td>-156.417175</td>\n",
              "      <td>[{'label': 'display', 'lat': 20.48359870910644...</td>\n",
              "      <td>15004</td>\n",
              "      <td>US</td>\n",
              "      <td>NaN</td>\n",
              "      <td>NaN</td>\n",
              "      <td>United States</td>\n",
              "      <td>[United States]</td>\n",
              "      <td>NaN</td>\n",
              "      <td>Lanai</td>\n",
              "      <td>Maui</td>\n",
              "    </tr>\n",
              "  </tbody>\n",
              "</table>\n",
              "</div>"
            ],
            "text/plain": [
              "                   venue.id       venue.name  ... venue.island  venue.county\n",
              "0  5640a4d4cd10c8b4e41fce79           Ner'de  ...        Lanai          Maui\n",
              "1  567f4d6e498e44dfa296a880  Whatever u want  ...        Lanai          Maui\n",
              "2  5640a46fcd10e06a4187cb35           Ner'de  ...        Lanai          Maui\n",
              "3  4f6c4eb8e4b07a4bc3461d71       Kapolei HI  ...        Lanai          Maui\n",
              "\n",
              "[4 rows x 15 columns]"
            ]
          },
          "metadata": {
            "tags": []
          },
          "execution_count": 100
        }
      ]
    },
    {
      "cell_type": "markdown",
      "metadata": {
        "id": "Bwz7P1ditBf3"
      },
      "source": [
        "### Kauai"
      ]
    },
    {
      "cell_type": "code",
      "metadata": {
        "id": "TS3kezvJ8aY1"
      },
      "source": [
        "# fetch data from API\n",
        "venues_kauai = get_nearby_venues(22.05, -159.30, 25000, 5000)"
      ],
      "execution_count": null,
      "outputs": []
    },
    {
      "cell_type": "code",
      "metadata": {
        "id": "SzQWQ5U3C0sL",
        "colab": {
          "base_uri": "https://localhost:8080/"
        },
        "outputId": "1036bbad-6efb-4ffc-bf44-0be8a5b292d8"
      },
      "source": [
        "venues_kauai[0]"
      ],
      "execution_count": null,
      "outputs": [
        {
          "output_type": "execute_result",
          "data": {
            "text/plain": [
              "{'reasons': {'count': 0,\n",
              "  'items': [{'reasonName': 'globalInteractionReason',\n",
              "    'summary': 'This spot is popular',\n",
              "    'type': 'general'}]},\n",
              " 'referralId': 'e-0-5591de2d498e50e3a5fb42a7-0',\n",
              " 'venue': {'categories': [{'icon': {'prefix': 'https://ss3.4sqi.net/img/categories_v2/food/streetfood_',\n",
              "     'suffix': '.png'},\n",
              "    'id': '4bf58dd8d48988d1cb941735',\n",
              "    'name': 'Food Truck',\n",
              "    'pluralName': 'Food Trucks',\n",
              "    'primary': True,\n",
              "    'shortName': 'Food Truck'}],\n",
              "  'id': '5591de2d498e50e3a5fb42a7',\n",
              "  'location': {'address': '4-1306 Kuhio Hwy',\n",
              "   'cc': 'US',\n",
              "   'city': 'Kapa‘a',\n",
              "   'country': 'United States',\n",
              "   'distance': 2620,\n",
              "   'formattedAddress': ['4-1306 Kuhio Hwy',\n",
              "    'Kapa‘a, HI 96746',\n",
              "    'United States'],\n",
              "   'labeledLatLngs': [{'label': 'display',\n",
              "     'lat': 22.062575900926912,\n",
              "     'lng': -159.3214723718646}],\n",
              "   'lat': 22.062575900926912,\n",
              "   'lng': -159.3214723718646,\n",
              "   'postalCode': '96746',\n",
              "   'state': 'HI'},\n",
              "  'name': 'Wailua Shave Ice Kauai',\n",
              "  'photos': {'count': 0, 'groups': []}}}"
            ]
          },
          "metadata": {
            "tags": []
          },
          "execution_count": 49
        }
      ]
    },
    {
      "cell_type": "code",
      "metadata": {
        "id": "R9oQ6N33DjUi",
        "colab": {
          "base_uri": "https://localhost:8080/"
        },
        "outputId": "8cbf64b1-191e-41d2-a8fe-6132311378d6"
      },
      "source": [
        "# normalize JSON to dataframe\n",
        "nearby_kauai0 = pd.json_normalize(venues_kauai)\n",
        "nearby_kauai0.info()"
      ],
      "execution_count": null,
      "outputs": [
        {
          "output_type": "stream",
          "text": [
            "<class 'pandas.core.frame.DataFrame'>\n",
            "RangeIndex: 96 entries, 0 to 95\n",
            "Data columns (total 27 columns):\n",
            " #   Column                               Non-Null Count  Dtype  \n",
            "---  ------                               --------------  -----  \n",
            " 0   referralId                           96 non-null     object \n",
            " 1   reasons.count                        96 non-null     int64  \n",
            " 2   reasons.items                        96 non-null     object \n",
            " 3   venue.id                             96 non-null     object \n",
            " 4   venue.name                           96 non-null     object \n",
            " 5   venue.location.address               64 non-null     object \n",
            " 6   venue.location.lat                   96 non-null     float64\n",
            " 7   venue.location.lng                   96 non-null     float64\n",
            " 8   venue.location.labeledLatLngs        96 non-null     object \n",
            " 9   venue.location.distance              96 non-null     int64  \n",
            " 10  venue.location.postalCode            74 non-null     object \n",
            " 11  venue.location.cc                    96 non-null     object \n",
            " 12  venue.location.city                  85 non-null     object \n",
            " 13  venue.location.state                 96 non-null     object \n",
            " 14  venue.location.country               96 non-null     object \n",
            " 15  venue.location.formattedAddress      96 non-null     object \n",
            " 16  venue.categories                     96 non-null     object \n",
            " 17  venue.photos.count                   96 non-null     int64  \n",
            " 18  venue.photos.groups                  96 non-null     object \n",
            " 19  venue.location.crossStreet           10 non-null     object \n",
            " 20  venue.venuePage.id                   8 non-null      object \n",
            " 21  venue.delivery.id                    1 non-null      object \n",
            " 22  venue.delivery.url                   1 non-null      object \n",
            " 23  venue.delivery.provider.name         1 non-null      object \n",
            " 24  venue.delivery.provider.icon.prefix  1 non-null      object \n",
            " 25  venue.delivery.provider.icon.sizes   1 non-null      object \n",
            " 26  venue.delivery.provider.icon.name    1 non-null      object \n",
            "dtypes: float64(2), int64(3), object(22)\n",
            "memory usage: 20.4+ KB\n"
          ],
          "name": "stdout"
        }
      ]
    },
    {
      "cell_type": "code",
      "metadata": {
        "id": "GCx5_0D3Q38V",
        "colab": {
          "base_uri": "https://localhost:8080/",
          "height": 394
        },
        "outputId": "e655e5f5-69f9-447e-cefc-f9dffb43ff43"
      },
      "source": [
        "nearby_kauai0.head()"
      ],
      "execution_count": null,
      "outputs": [
        {
          "output_type": "execute_result",
          "data": {
            "text/html": [
              "<div>\n",
              "<style scoped>\n",
              "    .dataframe tbody tr th:only-of-type {\n",
              "        vertical-align: middle;\n",
              "    }\n",
              "\n",
              "    .dataframe tbody tr th {\n",
              "        vertical-align: top;\n",
              "    }\n",
              "\n",
              "    .dataframe thead th {\n",
              "        text-align: right;\n",
              "    }\n",
              "</style>\n",
              "<table border=\"1\" class=\"dataframe\">\n",
              "  <thead>\n",
              "    <tr style=\"text-align: right;\">\n",
              "      <th></th>\n",
              "      <th>referralId</th>\n",
              "      <th>reasons.count</th>\n",
              "      <th>reasons.items</th>\n",
              "      <th>venue.id</th>\n",
              "      <th>venue.name</th>\n",
              "      <th>venue.location.address</th>\n",
              "      <th>venue.location.lat</th>\n",
              "      <th>venue.location.lng</th>\n",
              "      <th>venue.location.labeledLatLngs</th>\n",
              "      <th>venue.location.distance</th>\n",
              "      <th>venue.location.postalCode</th>\n",
              "      <th>venue.location.cc</th>\n",
              "      <th>venue.location.city</th>\n",
              "      <th>venue.location.state</th>\n",
              "      <th>venue.location.country</th>\n",
              "      <th>venue.location.formattedAddress</th>\n",
              "      <th>venue.categories</th>\n",
              "      <th>venue.photos.count</th>\n",
              "      <th>venue.photos.groups</th>\n",
              "      <th>venue.location.crossStreet</th>\n",
              "      <th>venue.venuePage.id</th>\n",
              "      <th>venue.delivery.id</th>\n",
              "      <th>venue.delivery.url</th>\n",
              "      <th>venue.delivery.provider.name</th>\n",
              "      <th>venue.delivery.provider.icon.prefix</th>\n",
              "      <th>venue.delivery.provider.icon.sizes</th>\n",
              "      <th>venue.delivery.provider.icon.name</th>\n",
              "    </tr>\n",
              "  </thead>\n",
              "  <tbody>\n",
              "    <tr>\n",
              "      <th>0</th>\n",
              "      <td>e-0-5591de2d498e50e3a5fb42a7-0</td>\n",
              "      <td>0</td>\n",
              "      <td>[{'summary': 'This spot is popular', 'type': '...</td>\n",
              "      <td>5591de2d498e50e3a5fb42a7</td>\n",
              "      <td>Wailua Shave Ice Kauai</td>\n",
              "      <td>4-1306 Kuhio Hwy</td>\n",
              "      <td>22.062576</td>\n",
              "      <td>-159.321472</td>\n",
              "      <td>[{'label': 'display', 'lat': 22.06257590092691...</td>\n",
              "      <td>2620</td>\n",
              "      <td>96746</td>\n",
              "      <td>US</td>\n",
              "      <td>Kapa‘a</td>\n",
              "      <td>HI</td>\n",
              "      <td>United States</td>\n",
              "      <td>[4-1306 Kuhio Hwy, Kapa‘a, HI 96746, United St...</td>\n",
              "      <td>[{'id': '4bf58dd8d48988d1cb941735', 'name': 'F...</td>\n",
              "      <td>0</td>\n",
              "      <td>[]</td>\n",
              "      <td>NaN</td>\n",
              "      <td>NaN</td>\n",
              "      <td>NaN</td>\n",
              "      <td>NaN</td>\n",
              "      <td>NaN</td>\n",
              "      <td>NaN</td>\n",
              "      <td>NaN</td>\n",
              "      <td>NaN</td>\n",
              "    </tr>\n",
              "    <tr>\n",
              "      <th>1</th>\n",
              "      <td>e-0-560afea3498e26781b3d9bf6-1</td>\n",
              "      <td>0</td>\n",
              "      <td>[{'summary': 'This spot is popular', 'type': '...</td>\n",
              "      <td>560afea3498e26781b3d9bf6</td>\n",
              "      <td>Nom Kauai</td>\n",
              "      <td>4-1620 Kuhio Highway</td>\n",
              "      <td>22.069152</td>\n",
              "      <td>-159.320067</td>\n",
              "      <td>[{'label': 'display', 'lat': 22.0691518818603,...</td>\n",
              "      <td>2971</td>\n",
              "      <td>96746</td>\n",
              "      <td>US</td>\n",
              "      <td>Kapa‘a</td>\n",
              "      <td>HI</td>\n",
              "      <td>United States</td>\n",
              "      <td>[4-1620 Kuhio Highway, Kapa‘a, HI 96746, Unite...</td>\n",
              "      <td>[{'id': '4bf58dd8d48988d16c941735', 'name': 'B...</td>\n",
              "      <td>0</td>\n",
              "      <td>[]</td>\n",
              "      <td>NaN</td>\n",
              "      <td>NaN</td>\n",
              "      <td>NaN</td>\n",
              "      <td>NaN</td>\n",
              "      <td>NaN</td>\n",
              "      <td>NaN</td>\n",
              "      <td>NaN</td>\n",
              "      <td>NaN</td>\n",
              "    </tr>\n",
              "    <tr>\n",
              "      <th>2</th>\n",
              "      <td>e-0-4b732119f964a5200f9d2de3-2</td>\n",
              "      <td>0</td>\n",
              "      <td>[{'summary': 'This spot is popular', 'type': '...</td>\n",
              "      <td>4b732119f964a5200f9d2de3</td>\n",
              "      <td>Pono Market</td>\n",
              "      <td>4-1300 Kuhio Hwy</td>\n",
              "      <td>22.074320</td>\n",
              "      <td>-159.318922</td>\n",
              "      <td>[{'label': 'display', 'lat': 22.07431990494844...</td>\n",
              "      <td>3337</td>\n",
              "      <td>96746</td>\n",
              "      <td>US</td>\n",
              "      <td>Kapa‘a</td>\n",
              "      <td>HI</td>\n",
              "      <td>United States</td>\n",
              "      <td>[4-1300 Kuhio Hwy, Kapa‘a, HI 96746, United St...</td>\n",
              "      <td>[{'id': '4bf58dd8d48988d146941735', 'name': 'D...</td>\n",
              "      <td>0</td>\n",
              "      <td>[]</td>\n",
              "      <td>NaN</td>\n",
              "      <td>NaN</td>\n",
              "      <td>NaN</td>\n",
              "      <td>NaN</td>\n",
              "      <td>NaN</td>\n",
              "      <td>NaN</td>\n",
              "      <td>NaN</td>\n",
              "      <td>NaN</td>\n",
              "    </tr>\n",
              "    <tr>\n",
              "      <th>3</th>\n",
              "      <td>e-0-52cda830498e6ac9b2ab9ed1-3</td>\n",
              "      <td>0</td>\n",
              "      <td>[{'summary': 'This spot is popular', 'type': '...</td>\n",
              "      <td>52cda830498e6ac9b2ab9ed1</td>\n",
              "      <td>Kauai Juice Co</td>\n",
              "      <td>4-1384 Kuhio Highway</td>\n",
              "      <td>22.076290</td>\n",
              "      <td>-159.317842</td>\n",
              "      <td>[{'label': 'display', 'lat': 22.07628963149579...</td>\n",
              "      <td>3457</td>\n",
              "      <td>96746</td>\n",
              "      <td>US</td>\n",
              "      <td>Kapa‘a</td>\n",
              "      <td>HI</td>\n",
              "      <td>United States</td>\n",
              "      <td>[4-1384 Kuhio Highway, Kapa‘a, HI 96746, Unite...</td>\n",
              "      <td>[{'id': '4bf58dd8d48988d112941735', 'name': 'J...</td>\n",
              "      <td>0</td>\n",
              "      <td>[]</td>\n",
              "      <td>NaN</td>\n",
              "      <td>NaN</td>\n",
              "      <td>NaN</td>\n",
              "      <td>NaN</td>\n",
              "      <td>NaN</td>\n",
              "      <td>NaN</td>\n",
              "      <td>NaN</td>\n",
              "      <td>NaN</td>\n",
              "    </tr>\n",
              "    <tr>\n",
              "      <th>4</th>\n",
              "      <td>e-0-5802f71538fa5e47444b5aa0-4</td>\n",
              "      <td>0</td>\n",
              "      <td>[{'summary': 'This spot is popular', 'type': '...</td>\n",
              "      <td>5802f71538fa5e47444b5aa0</td>\n",
              "      <td>Kenji Burger</td>\n",
              "      <td>NaN</td>\n",
              "      <td>22.060731</td>\n",
              "      <td>-159.321456</td>\n",
              "      <td>[{'label': 'display', 'lat': 22.06073068598406...</td>\n",
              "      <td>2515</td>\n",
              "      <td>96746</td>\n",
              "      <td>US</td>\n",
              "      <td>Kapa‘a</td>\n",
              "      <td>HI</td>\n",
              "      <td>United States</td>\n",
              "      <td>[Kapa‘a, HI 96746, United States]</td>\n",
              "      <td>[{'id': '4bf58dd8d48988d16c941735', 'name': 'B...</td>\n",
              "      <td>0</td>\n",
              "      <td>[]</td>\n",
              "      <td>NaN</td>\n",
              "      <td>NaN</td>\n",
              "      <td>NaN</td>\n",
              "      <td>NaN</td>\n",
              "      <td>NaN</td>\n",
              "      <td>NaN</td>\n",
              "      <td>NaN</td>\n",
              "      <td>NaN</td>\n",
              "    </tr>\n",
              "  </tbody>\n",
              "</table>\n",
              "</div>"
            ],
            "text/plain": [
              "                       referralId  ...  venue.delivery.provider.icon.name\n",
              "0  e-0-5591de2d498e50e3a5fb42a7-0  ...                                NaN\n",
              "1  e-0-560afea3498e26781b3d9bf6-1  ...                                NaN\n",
              "2  e-0-4b732119f964a5200f9d2de3-2  ...                                NaN\n",
              "3  e-0-52cda830498e6ac9b2ab9ed1-3  ...                                NaN\n",
              "4  e-0-5802f71538fa5e47444b5aa0-4  ...                                NaN\n",
              "\n",
              "[5 rows x 27 columns]"
            ]
          },
          "metadata": {
            "tags": []
          },
          "execution_count": 83
        }
      ]
    },
    {
      "cell_type": "code",
      "metadata": {
        "id": "-3Zh36UtRH2Y"
      },
      "source": [
        "# duplicate dataframe\n",
        "nearby_kauai1 = nearby_kauai0.copy()"
      ],
      "execution_count": null,
      "outputs": []
    },
    {
      "cell_type": "code",
      "metadata": {
        "id": "xZRdtq6lRPhr",
        "colab": {
          "base_uri": "https://localhost:8080/"
        },
        "outputId": "b5c7e35b-e284-4f00-a7b2-03f0e509b270"
      },
      "source": [
        "# filter columns,consider only required columns\n",
        "filtered_columns = ['venue.id', 'venue.name', 'venue.categories'] + [col for col in nearby_kauai1.columns if col.startswith('venue.location.')]\n",
        "nearby_kauai2 = nearby_kauai1.loc[:, filtered_columns]\n",
        "nearby_kauai2.info()"
      ],
      "execution_count": null,
      "outputs": [
        {
          "output_type": "stream",
          "text": [
            "<class 'pandas.core.frame.DataFrame'>\n",
            "RangeIndex: 96 entries, 0 to 95\n",
            "Data columns (total 15 columns):\n",
            " #   Column                           Non-Null Count  Dtype  \n",
            "---  ------                           --------------  -----  \n",
            " 0   venue.id                         96 non-null     object \n",
            " 1   venue.name                       96 non-null     object \n",
            " 2   venue.categories                 96 non-null     object \n",
            " 3   venue.location.address           64 non-null     object \n",
            " 4   venue.location.lat               96 non-null     float64\n",
            " 5   venue.location.lng               96 non-null     float64\n",
            " 6   venue.location.labeledLatLngs    96 non-null     object \n",
            " 7   venue.location.distance          96 non-null     int64  \n",
            " 8   venue.location.postalCode        74 non-null     object \n",
            " 9   venue.location.cc                96 non-null     object \n",
            " 10  venue.location.city              85 non-null     object \n",
            " 11  venue.location.state             96 non-null     object \n",
            " 12  venue.location.country           96 non-null     object \n",
            " 13  venue.location.formattedAddress  96 non-null     object \n",
            " 14  venue.location.crossStreet       10 non-null     object \n",
            "dtypes: float64(2), int64(1), object(12)\n",
            "memory usage: 11.4+ KB\n"
          ],
          "name": "stdout"
        }
      ]
    },
    {
      "cell_type": "code",
      "metadata": {
        "id": "dIe7tV3eeOVb",
        "colab": {
          "base_uri": "https://localhost:8080/",
          "height": 394
        },
        "outputId": "db3442e3-022e-44fc-fb43-e5c9bd49b7b7"
      },
      "source": [
        "# add an island column\n",
        "nearby_kauai2['venue.island'] = 'Kauai'\n",
        "nearby_kauai2['venue.county'] = 'Kauai'\n",
        "nearby_kauai2.head()"
      ],
      "execution_count": null,
      "outputs": [
        {
          "output_type": "execute_result",
          "data": {
            "text/html": [
              "<div>\n",
              "<style scoped>\n",
              "    .dataframe tbody tr th:only-of-type {\n",
              "        vertical-align: middle;\n",
              "    }\n",
              "\n",
              "    .dataframe tbody tr th {\n",
              "        vertical-align: top;\n",
              "    }\n",
              "\n",
              "    .dataframe thead th {\n",
              "        text-align: right;\n",
              "    }\n",
              "</style>\n",
              "<table border=\"1\" class=\"dataframe\">\n",
              "  <thead>\n",
              "    <tr style=\"text-align: right;\">\n",
              "      <th></th>\n",
              "      <th>venue.id</th>\n",
              "      <th>venue.name</th>\n",
              "      <th>venue.categories</th>\n",
              "      <th>venue.location.address</th>\n",
              "      <th>venue.location.lat</th>\n",
              "      <th>venue.location.lng</th>\n",
              "      <th>venue.location.labeledLatLngs</th>\n",
              "      <th>venue.location.distance</th>\n",
              "      <th>venue.location.postalCode</th>\n",
              "      <th>venue.location.cc</th>\n",
              "      <th>venue.location.city</th>\n",
              "      <th>venue.location.state</th>\n",
              "      <th>venue.location.country</th>\n",
              "      <th>venue.location.formattedAddress</th>\n",
              "      <th>venue.location.crossStreet</th>\n",
              "      <th>venue.island</th>\n",
              "      <th>venue.county</th>\n",
              "    </tr>\n",
              "  </thead>\n",
              "  <tbody>\n",
              "    <tr>\n",
              "      <th>0</th>\n",
              "      <td>5591de2d498e50e3a5fb42a7</td>\n",
              "      <td>Wailua Shave Ice Kauai</td>\n",
              "      <td>[{'id': '4bf58dd8d48988d1cb941735', 'name': 'F...</td>\n",
              "      <td>4-1306 Kuhio Hwy</td>\n",
              "      <td>22.062576</td>\n",
              "      <td>-159.321472</td>\n",
              "      <td>[{'label': 'display', 'lat': 22.06257590092691...</td>\n",
              "      <td>2620</td>\n",
              "      <td>96746</td>\n",
              "      <td>US</td>\n",
              "      <td>Kapa‘a</td>\n",
              "      <td>HI</td>\n",
              "      <td>United States</td>\n",
              "      <td>[4-1306 Kuhio Hwy, Kapa‘a, HI 96746, United St...</td>\n",
              "      <td>NaN</td>\n",
              "      <td>Kauai</td>\n",
              "      <td>Kauai</td>\n",
              "    </tr>\n",
              "    <tr>\n",
              "      <th>1</th>\n",
              "      <td>560afea3498e26781b3d9bf6</td>\n",
              "      <td>Nom Kauai</td>\n",
              "      <td>[{'id': '4bf58dd8d48988d16c941735', 'name': 'B...</td>\n",
              "      <td>4-1620 Kuhio Highway</td>\n",
              "      <td>22.069152</td>\n",
              "      <td>-159.320067</td>\n",
              "      <td>[{'label': 'display', 'lat': 22.0691518818603,...</td>\n",
              "      <td>2971</td>\n",
              "      <td>96746</td>\n",
              "      <td>US</td>\n",
              "      <td>Kapa‘a</td>\n",
              "      <td>HI</td>\n",
              "      <td>United States</td>\n",
              "      <td>[4-1620 Kuhio Highway, Kapa‘a, HI 96746, Unite...</td>\n",
              "      <td>NaN</td>\n",
              "      <td>Kauai</td>\n",
              "      <td>Kauai</td>\n",
              "    </tr>\n",
              "    <tr>\n",
              "      <th>2</th>\n",
              "      <td>4b732119f964a5200f9d2de3</td>\n",
              "      <td>Pono Market</td>\n",
              "      <td>[{'id': '4bf58dd8d48988d146941735', 'name': 'D...</td>\n",
              "      <td>4-1300 Kuhio Hwy</td>\n",
              "      <td>22.074320</td>\n",
              "      <td>-159.318922</td>\n",
              "      <td>[{'label': 'display', 'lat': 22.07431990494844...</td>\n",
              "      <td>3337</td>\n",
              "      <td>96746</td>\n",
              "      <td>US</td>\n",
              "      <td>Kapa‘a</td>\n",
              "      <td>HI</td>\n",
              "      <td>United States</td>\n",
              "      <td>[4-1300 Kuhio Hwy, Kapa‘a, HI 96746, United St...</td>\n",
              "      <td>NaN</td>\n",
              "      <td>Kauai</td>\n",
              "      <td>Kauai</td>\n",
              "    </tr>\n",
              "    <tr>\n",
              "      <th>3</th>\n",
              "      <td>52cda830498e6ac9b2ab9ed1</td>\n",
              "      <td>Kauai Juice Co</td>\n",
              "      <td>[{'id': '4bf58dd8d48988d112941735', 'name': 'J...</td>\n",
              "      <td>4-1384 Kuhio Highway</td>\n",
              "      <td>22.076290</td>\n",
              "      <td>-159.317842</td>\n",
              "      <td>[{'label': 'display', 'lat': 22.07628963149579...</td>\n",
              "      <td>3457</td>\n",
              "      <td>96746</td>\n",
              "      <td>US</td>\n",
              "      <td>Kapa‘a</td>\n",
              "      <td>HI</td>\n",
              "      <td>United States</td>\n",
              "      <td>[4-1384 Kuhio Highway, Kapa‘a, HI 96746, Unite...</td>\n",
              "      <td>NaN</td>\n",
              "      <td>Kauai</td>\n",
              "      <td>Kauai</td>\n",
              "    </tr>\n",
              "    <tr>\n",
              "      <th>4</th>\n",
              "      <td>5802f71538fa5e47444b5aa0</td>\n",
              "      <td>Kenji Burger</td>\n",
              "      <td>[{'id': '4bf58dd8d48988d16c941735', 'name': 'B...</td>\n",
              "      <td>NaN</td>\n",
              "      <td>22.060731</td>\n",
              "      <td>-159.321456</td>\n",
              "      <td>[{'label': 'display', 'lat': 22.06073068598406...</td>\n",
              "      <td>2515</td>\n",
              "      <td>96746</td>\n",
              "      <td>US</td>\n",
              "      <td>Kapa‘a</td>\n",
              "      <td>HI</td>\n",
              "      <td>United States</td>\n",
              "      <td>[Kapa‘a, HI 96746, United States]</td>\n",
              "      <td>NaN</td>\n",
              "      <td>Kauai</td>\n",
              "      <td>Kauai</td>\n",
              "    </tr>\n",
              "  </tbody>\n",
              "</table>\n",
              "</div>"
            ],
            "text/plain": [
              "                   venue.id              venue.name  ... venue.island venue.county\n",
              "0  5591de2d498e50e3a5fb42a7  Wailua Shave Ice Kauai  ...        Kauai        Kauai\n",
              "1  560afea3498e26781b3d9bf6               Nom Kauai  ...        Kauai        Kauai\n",
              "2  4b732119f964a5200f9d2de3             Pono Market  ...        Kauai        Kauai\n",
              "3  52cda830498e6ac9b2ab9ed1          Kauai Juice Co  ...        Kauai        Kauai\n",
              "4  5802f71538fa5e47444b5aa0            Kenji Burger  ...        Kauai        Kauai\n",
              "\n",
              "[5 rows x 17 columns]"
            ]
          },
          "metadata": {
            "tags": []
          },
          "execution_count": 106
        }
      ]
    },
    {
      "cell_type": "markdown",
      "metadata": {
        "id": "p5pKpDQ4C93M"
      },
      "source": [
        "### Niihau"
      ]
    },
    {
      "cell_type": "code",
      "metadata": {
        "id": "AGFPEXyNDDZM"
      },
      "source": [
        "# fetch data from API\n",
        "venues_niihau = get_nearby_venues(21.54, -160.10, 10000, 5000)"
      ],
      "execution_count": null,
      "outputs": []
    },
    {
      "cell_type": "code",
      "metadata": {
        "id": "c5wZw-XZDWfM",
        "colab": {
          "base_uri": "https://localhost:8080/"
        },
        "outputId": "42db5300-52cb-4386-917d-26dab0be6a08"
      },
      "source": [
        "venues_niihau"
      ],
      "execution_count": null,
      "outputs": [
        {
          "output_type": "execute_result",
          "data": {
            "text/plain": [
              "[]"
            ]
          },
          "metadata": {
            "tags": []
          },
          "execution_count": 65
        }
      ]
    },
    {
      "cell_type": "markdown",
      "metadata": {
        "id": "EKNd6h_cDmqa"
      },
      "source": [
        "### Kahoolawe"
      ]
    },
    {
      "cell_type": "code",
      "metadata": {
        "id": "3bpB6Oh9DscI"
      },
      "source": [
        "# fetch data from API\n",
        "venues_kahoolawe = get_nearby_venues(20.33, -156.36, 10000, 5000)"
      ],
      "execution_count": null,
      "outputs": []
    },
    {
      "cell_type": "code",
      "metadata": {
        "id": "ZtMVwHqmEFRn",
        "colab": {
          "base_uri": "https://localhost:8080/"
        },
        "outputId": "9886d04a-c5d4-4562-a937-d5f12d68b51a"
      },
      "source": [
        "venues_kahoolawe"
      ],
      "execution_count": null,
      "outputs": [
        {
          "output_type": "execute_result",
          "data": {
            "text/plain": [
              "[]"
            ]
          },
          "metadata": {
            "tags": []
          },
          "execution_count": 67
        }
      ]
    },
    {
      "cell_type": "markdown",
      "metadata": {
        "id": "B1bPEX5kb4wq"
      },
      "source": [
        "# Data Wrangling"
      ]
    },
    {
      "cell_type": "code",
      "metadata": {
        "id": "S4F91IAXkxMZ",
        "colab": {
          "base_uri": "https://localhost:8080/"
        },
        "outputId": "e5325d53-5d7f-4e1d-80d0-ddf0ab4cf0e1"
      },
      "source": [
        "# Concatenate dataframes\n",
        "nearby_venues0 = pd.concat([nearby_hawaii2, nearby_oahu2, nearby_maui2, nearby_molokai2, nearby_lanai2, nearby_kauai2], axis=0, ignore_index=True)\n",
        "nearby_venues0.info()"
      ],
      "execution_count": null,
      "outputs": [
        {
          "output_type": "stream",
          "text": [
            "<class 'pandas.core.frame.DataFrame'>\n",
            "RangeIndex: 255 entries, 0 to 254\n",
            "Data columns (total 18 columns):\n",
            " #   Column                           Non-Null Count  Dtype  \n",
            "---  ------                           --------------  -----  \n",
            " 0   venue.id                         255 non-null    object \n",
            " 1   venue.name                       255 non-null    object \n",
            " 2   venue.categories                 255 non-null    object \n",
            " 3   venue.location.lat               255 non-null    float64\n",
            " 4   venue.location.lng               255 non-null    float64\n",
            " 5   venue.location.labeledLatLngs    253 non-null    object \n",
            " 6   venue.location.distance          255 non-null    int64  \n",
            " 7   venue.location.postalCode        211 non-null    object \n",
            " 8   venue.location.cc                255 non-null    object \n",
            " 9   venue.location.city              236 non-null    object \n",
            " 10  venue.location.state             250 non-null    object \n",
            " 11  venue.location.country           255 non-null    object \n",
            " 12  venue.location.formattedAddress  255 non-null    object \n",
            " 13  venue.location.address           186 non-null    object \n",
            " 14  venue.location.crossStreet       61 non-null     object \n",
            " 15  venue.island                     255 non-null    object \n",
            " 16  venue.county                     255 non-null    object \n",
            " 17  venue.location.neighborhood      12 non-null     object \n",
            "dtypes: float64(2), int64(1), object(15)\n",
            "memory usage: 36.0+ KB\n"
          ],
          "name": "stdout"
        }
      ]
    },
    {
      "cell_type": "code",
      "metadata": {
        "id": "EyEHVhu7ieRg",
        "colab": {
          "base_uri": "https://localhost:8080/",
          "height": 394
        },
        "outputId": "dd3068df-75e0-4a18-d155-47a3e9e09d71"
      },
      "source": [
        "nearby_venues0.head()"
      ],
      "execution_count": null,
      "outputs": [
        {
          "output_type": "execute_result",
          "data": {
            "text/html": [
              "<div>\n",
              "<style scoped>\n",
              "    .dataframe tbody tr th:only-of-type {\n",
              "        vertical-align: middle;\n",
              "    }\n",
              "\n",
              "    .dataframe tbody tr th {\n",
              "        vertical-align: top;\n",
              "    }\n",
              "\n",
              "    .dataframe thead th {\n",
              "        text-align: right;\n",
              "    }\n",
              "</style>\n",
              "<table border=\"1\" class=\"dataframe\">\n",
              "  <thead>\n",
              "    <tr style=\"text-align: right;\">\n",
              "      <th></th>\n",
              "      <th>venue.id</th>\n",
              "      <th>venue.name</th>\n",
              "      <th>venue.categories</th>\n",
              "      <th>venue.location.lat</th>\n",
              "      <th>venue.location.lng</th>\n",
              "      <th>venue.location.labeledLatLngs</th>\n",
              "      <th>venue.location.distance</th>\n",
              "      <th>venue.location.postalCode</th>\n",
              "      <th>venue.location.cc</th>\n",
              "      <th>venue.location.city</th>\n",
              "      <th>venue.location.state</th>\n",
              "      <th>venue.location.country</th>\n",
              "      <th>venue.location.formattedAddress</th>\n",
              "      <th>venue.location.address</th>\n",
              "      <th>venue.location.crossStreet</th>\n",
              "      <th>venue.island</th>\n",
              "      <th>venue.county</th>\n",
              "      <th>venue.location.neighborhood</th>\n",
              "    </tr>\n",
              "  </thead>\n",
              "  <tbody>\n",
              "    <tr>\n",
              "      <th>0</th>\n",
              "      <td>4fc565dbe4b0829fe1507460</td>\n",
              "      <td>Lelekea Beach</td>\n",
              "      <td>[{'id': '4bf58dd8d48988d1e2941735', 'name': 'B...</td>\n",
              "      <td>20.651087</td>\n",
              "      <td>-156.079459</td>\n",
              "      <td>[{'label': 'display', 'lat': 20.651087, 'lng':...</td>\n",
              "      <td>22815</td>\n",
              "      <td>96713</td>\n",
              "      <td>US</td>\n",
              "      <td>Hāna</td>\n",
              "      <td>HI</td>\n",
              "      <td>United States</td>\n",
              "      <td>[Hāna, HI 96713, United States]</td>\n",
              "      <td>NaN</td>\n",
              "      <td>NaN</td>\n",
              "      <td>Hawaii</td>\n",
              "      <td>Hawaii</td>\n",
              "      <td>NaN</td>\n",
              "    </tr>\n",
              "    <tr>\n",
              "      <th>1</th>\n",
              "      <td>50f5e39ee4b0255d39ffc198</td>\n",
              "      <td>Haukini Bay</td>\n",
              "      <td>[{'id': '4bf58dd8d48988d1e2941735', 'name': 'B...</td>\n",
              "      <td>20.624844</td>\n",
              "      <td>-156.210364</td>\n",
              "      <td>[{'label': 'display', 'lat': 20.62484351951365...</td>\n",
              "      <td>16159</td>\n",
              "      <td>96790</td>\n",
              "      <td>US</td>\n",
              "      <td>Kula</td>\n",
              "      <td>HI</td>\n",
              "      <td>United States</td>\n",
              "      <td>[Kula, HI 96790, United States]</td>\n",
              "      <td>NaN</td>\n",
              "      <td>NaN</td>\n",
              "      <td>Hawaii</td>\n",
              "      <td>Hawaii</td>\n",
              "      <td>NaN</td>\n",
              "    </tr>\n",
              "    <tr>\n",
              "      <th>2</th>\n",
              "      <td>4e4e09abbd4101d0d7a0c8b7</td>\n",
              "      <td>Cold Stone Creamery</td>\n",
              "      <td>[{'id': '4bf58dd8d48988d1c9941735', 'name': 'I...</td>\n",
              "      <td>20.444210</td>\n",
              "      <td>-156.163382</td>\n",
              "      <td>[{'label': 'display', 'lat': 20.44421, 'lng': ...</td>\n",
              "      <td>5518</td>\n",
              "      <td>96740</td>\n",
              "      <td>US</td>\n",
              "      <td>Kailua-Kona</td>\n",
              "      <td>HI</td>\n",
              "      <td>United States</td>\n",
              "      <td>[75-1027 Henry St, Kailua-Kona, HI 96740, Unit...</td>\n",
              "      <td>75-1027 Henry St</td>\n",
              "      <td>NaN</td>\n",
              "      <td>Hawaii</td>\n",
              "      <td>Hawaii</td>\n",
              "      <td>NaN</td>\n",
              "    </tr>\n",
              "    <tr>\n",
              "      <th>3</th>\n",
              "      <td>501a833fe4b0a724be572f34</td>\n",
              "      <td>Alenuihaha Channel</td>\n",
              "      <td>[{'id': '4bf58dd8d48988d12d951735', 'name': 'B...</td>\n",
              "      <td>20.390015</td>\n",
              "      <td>-156.246970</td>\n",
              "      <td>[{'label': 'display', 'lat': 20.39001493552374...</td>\n",
              "      <td>11151</td>\n",
              "      <td>NaN</td>\n",
              "      <td>US</td>\n",
              "      <td>NaN</td>\n",
              "      <td>NaN</td>\n",
              "      <td>United States</td>\n",
              "      <td>[United States]</td>\n",
              "      <td>NaN</td>\n",
              "      <td>NaN</td>\n",
              "      <td>Hawaii</td>\n",
              "      <td>Hawaii</td>\n",
              "      <td>NaN</td>\n",
              "    </tr>\n",
              "    <tr>\n",
              "      <th>4</th>\n",
              "      <td>57eb1a3d498e11e2a0e8c6a4</td>\n",
              "      <td>Pokowai Sea Arch</td>\n",
              "      <td>[{'id': '4bf58dd8d48988d165941735', 'name': 'S...</td>\n",
              "      <td>20.622090</td>\n",
              "      <td>-156.213070</td>\n",
              "      <td>[{'label': 'display', 'lat': 20.62209, 'lng': ...</td>\n",
              "      <td>15875</td>\n",
              "      <td>96790</td>\n",
              "      <td>US</td>\n",
              "      <td>Kula</td>\n",
              "      <td>HI</td>\n",
              "      <td>United States</td>\n",
              "      <td>[Kula, HI 96790, United States]</td>\n",
              "      <td>NaN</td>\n",
              "      <td>NaN</td>\n",
              "      <td>Hawaii</td>\n",
              "      <td>Hawaii</td>\n",
              "      <td>NaN</td>\n",
              "    </tr>\n",
              "  </tbody>\n",
              "</table>\n",
              "</div>"
            ],
            "text/plain": [
              "                   venue.id  ... venue.location.neighborhood\n",
              "0  4fc565dbe4b0829fe1507460  ...                         NaN\n",
              "1  50f5e39ee4b0255d39ffc198  ...                         NaN\n",
              "2  4e4e09abbd4101d0d7a0c8b7  ...                         NaN\n",
              "3  501a833fe4b0a724be572f34  ...                         NaN\n",
              "4  57eb1a3d498e11e2a0e8c6a4  ...                         NaN\n",
              "\n",
              "[5 rows x 18 columns]"
            ]
          },
          "metadata": {
            "tags": []
          },
          "execution_count": 108
        }
      ]
    },
    {
      "cell_type": "code",
      "metadata": {
        "id": "Wbt4IHYCRqto"
      },
      "source": [
        "# filter the category for each row\n",
        "nearby_venues0['venue.categories'] = nearby_venues0.apply(get_category_type, axis=1)"
      ],
      "execution_count": null,
      "outputs": []
    },
    {
      "cell_type": "code",
      "metadata": {
        "id": "mcHTTqhJjMi1",
        "colab": {
          "base_uri": "https://localhost:8080/"
        },
        "outputId": "a4b12372-ff70-47f4-a8a4-5cb765fc9f87"
      },
      "source": [
        "# clean columns\n",
        "nearby_venues0.columns = [col.split('.')[-1] for col in nearby_venues0.columns]\n",
        "nearby_venues0.info()"
      ],
      "execution_count": null,
      "outputs": [
        {
          "output_type": "stream",
          "text": [
            "<class 'pandas.core.frame.DataFrame'>\n",
            "RangeIndex: 255 entries, 0 to 254\n",
            "Data columns (total 18 columns):\n",
            " #   Column            Non-Null Count  Dtype  \n",
            "---  ------            --------------  -----  \n",
            " 0   id                255 non-null    object \n",
            " 1   name              255 non-null    object \n",
            " 2   categories        255 non-null    object \n",
            " 3   lat               255 non-null    float64\n",
            " 4   lng               255 non-null    float64\n",
            " 5   labeledLatLngs    253 non-null    object \n",
            " 6   distance          255 non-null    int64  \n",
            " 7   postalCode        211 non-null    object \n",
            " 8   cc                255 non-null    object \n",
            " 9   city              236 non-null    object \n",
            " 10  state             250 non-null    object \n",
            " 11  country           255 non-null    object \n",
            " 12  formattedAddress  255 non-null    object \n",
            " 13  address           186 non-null    object \n",
            " 14  crossStreet       61 non-null     object \n",
            " 15  island            255 non-null    object \n",
            " 16  county            255 non-null    object \n",
            " 17  neighborhood      12 non-null     object \n",
            "dtypes: float64(2), int64(1), object(15)\n",
            "memory usage: 36.0+ KB\n"
          ],
          "name": "stdout"
        }
      ]
    },
    {
      "cell_type": "code",
      "metadata": {
        "id": "GEgAPBbBRoS1",
        "colab": {
          "base_uri": "https://localhost:8080/",
          "height": 326
        },
        "outputId": "7cf6e6cf-c856-4c81-bebf-09c10916f784"
      },
      "source": [
        "nearby_venues0.head()"
      ],
      "execution_count": null,
      "outputs": [
        {
          "output_type": "execute_result",
          "data": {
            "text/html": [
              "<div>\n",
              "<style scoped>\n",
              "    .dataframe tbody tr th:only-of-type {\n",
              "        vertical-align: middle;\n",
              "    }\n",
              "\n",
              "    .dataframe tbody tr th {\n",
              "        vertical-align: top;\n",
              "    }\n",
              "\n",
              "    .dataframe thead th {\n",
              "        text-align: right;\n",
              "    }\n",
              "</style>\n",
              "<table border=\"1\" class=\"dataframe\">\n",
              "  <thead>\n",
              "    <tr style=\"text-align: right;\">\n",
              "      <th></th>\n",
              "      <th>id</th>\n",
              "      <th>name</th>\n",
              "      <th>categories</th>\n",
              "      <th>lat</th>\n",
              "      <th>lng</th>\n",
              "      <th>labeledLatLngs</th>\n",
              "      <th>distance</th>\n",
              "      <th>postalCode</th>\n",
              "      <th>cc</th>\n",
              "      <th>city</th>\n",
              "      <th>state</th>\n",
              "      <th>country</th>\n",
              "      <th>formattedAddress</th>\n",
              "      <th>address</th>\n",
              "      <th>crossStreet</th>\n",
              "      <th>island</th>\n",
              "      <th>county</th>\n",
              "      <th>neighborhood</th>\n",
              "    </tr>\n",
              "  </thead>\n",
              "  <tbody>\n",
              "    <tr>\n",
              "      <th>0</th>\n",
              "      <td>4fc565dbe4b0829fe1507460</td>\n",
              "      <td>Lelekea Beach</td>\n",
              "      <td>Beach</td>\n",
              "      <td>20.651087</td>\n",
              "      <td>-156.079459</td>\n",
              "      <td>[{'label': 'display', 'lat': 20.651087, 'lng':...</td>\n",
              "      <td>22815</td>\n",
              "      <td>96713</td>\n",
              "      <td>US</td>\n",
              "      <td>Hāna</td>\n",
              "      <td>HI</td>\n",
              "      <td>United States</td>\n",
              "      <td>[Hāna, HI 96713, United States]</td>\n",
              "      <td>NaN</td>\n",
              "      <td>NaN</td>\n",
              "      <td>Hawaii</td>\n",
              "      <td>Hawaii</td>\n",
              "      <td>NaN</td>\n",
              "    </tr>\n",
              "    <tr>\n",
              "      <th>1</th>\n",
              "      <td>50f5e39ee4b0255d39ffc198</td>\n",
              "      <td>Haukini Bay</td>\n",
              "      <td>Beach</td>\n",
              "      <td>20.624844</td>\n",
              "      <td>-156.210364</td>\n",
              "      <td>[{'label': 'display', 'lat': 20.62484351951365...</td>\n",
              "      <td>16159</td>\n",
              "      <td>96790</td>\n",
              "      <td>US</td>\n",
              "      <td>Kula</td>\n",
              "      <td>HI</td>\n",
              "      <td>United States</td>\n",
              "      <td>[Kula, HI 96790, United States]</td>\n",
              "      <td>NaN</td>\n",
              "      <td>NaN</td>\n",
              "      <td>Hawaii</td>\n",
              "      <td>Hawaii</td>\n",
              "      <td>NaN</td>\n",
              "    </tr>\n",
              "    <tr>\n",
              "      <th>2</th>\n",
              "      <td>4e4e09abbd4101d0d7a0c8b7</td>\n",
              "      <td>Cold Stone Creamery</td>\n",
              "      <td>Ice Cream Shop</td>\n",
              "      <td>20.444210</td>\n",
              "      <td>-156.163382</td>\n",
              "      <td>[{'label': 'display', 'lat': 20.44421, 'lng': ...</td>\n",
              "      <td>5518</td>\n",
              "      <td>96740</td>\n",
              "      <td>US</td>\n",
              "      <td>Kailua-Kona</td>\n",
              "      <td>HI</td>\n",
              "      <td>United States</td>\n",
              "      <td>[75-1027 Henry St, Kailua-Kona, HI 96740, Unit...</td>\n",
              "      <td>75-1027 Henry St</td>\n",
              "      <td>NaN</td>\n",
              "      <td>Hawaii</td>\n",
              "      <td>Hawaii</td>\n",
              "      <td>NaN</td>\n",
              "    </tr>\n",
              "    <tr>\n",
              "      <th>3</th>\n",
              "      <td>501a833fe4b0a724be572f34</td>\n",
              "      <td>Alenuihaha Channel</td>\n",
              "      <td>Boat or Ferry</td>\n",
              "      <td>20.390015</td>\n",
              "      <td>-156.246970</td>\n",
              "      <td>[{'label': 'display', 'lat': 20.39001493552374...</td>\n",
              "      <td>11151</td>\n",
              "      <td>NaN</td>\n",
              "      <td>US</td>\n",
              "      <td>NaN</td>\n",
              "      <td>NaN</td>\n",
              "      <td>United States</td>\n",
              "      <td>[United States]</td>\n",
              "      <td>NaN</td>\n",
              "      <td>NaN</td>\n",
              "      <td>Hawaii</td>\n",
              "      <td>Hawaii</td>\n",
              "      <td>NaN</td>\n",
              "    </tr>\n",
              "    <tr>\n",
              "      <th>4</th>\n",
              "      <td>57eb1a3d498e11e2a0e8c6a4</td>\n",
              "      <td>Pokowai Sea Arch</td>\n",
              "      <td>Scenic Lookout</td>\n",
              "      <td>20.622090</td>\n",
              "      <td>-156.213070</td>\n",
              "      <td>[{'label': 'display', 'lat': 20.62209, 'lng': ...</td>\n",
              "      <td>15875</td>\n",
              "      <td>96790</td>\n",
              "      <td>US</td>\n",
              "      <td>Kula</td>\n",
              "      <td>HI</td>\n",
              "      <td>United States</td>\n",
              "      <td>[Kula, HI 96790, United States]</td>\n",
              "      <td>NaN</td>\n",
              "      <td>NaN</td>\n",
              "      <td>Hawaii</td>\n",
              "      <td>Hawaii</td>\n",
              "      <td>NaN</td>\n",
              "    </tr>\n",
              "  </tbody>\n",
              "</table>\n",
              "</div>"
            ],
            "text/plain": [
              "                         id                 name  ...  county  neighborhood\n",
              "0  4fc565dbe4b0829fe1507460        Lelekea Beach  ...  Hawaii           NaN\n",
              "1  50f5e39ee4b0255d39ffc198          Haukini Bay  ...  Hawaii           NaN\n",
              "2  4e4e09abbd4101d0d7a0c8b7  Cold Stone Creamery  ...  Hawaii           NaN\n",
              "3  501a833fe4b0a724be572f34   Alenuihaha Channel  ...  Hawaii           NaN\n",
              "4  57eb1a3d498e11e2a0e8c6a4     Pokowai Sea Arch  ...  Hawaii           NaN\n",
              "\n",
              "[5 rows x 18 columns]"
            ]
          },
          "metadata": {
            "tags": []
          },
          "execution_count": 111
        }
      ]
    },
    {
      "cell_type": "code",
      "metadata": {
        "id": "xhrGGIYnkhui"
      },
      "source": [
        "# export reviews dataset\n",
        "nearby_venues0.to_csv('/content/drive/My Drive/CIS550_Project/Data/nearby_venues0.csv', index=True, line_terminator='\\n')"
      ],
      "execution_count": null,
      "outputs": []
    },
    {
      "cell_type": "markdown",
      "metadata": {
        "id": "l3oSL8ITgslD"
      },
      "source": [
        "# Data Visualization"
      ]
    },
    {
      "cell_type": "code",
      "metadata": {
        "id": "I94JiE9qjQVz"
      },
      "source": [
        "# specify parameters\n",
        "latitude = 21.30\n",
        "longitude = -157.86"
      ],
      "execution_count": null,
      "outputs": []
    },
    {
      "cell_type": "code",
      "metadata": {
        "id": "uaooKuRBUzlm"
      },
      "source": [
        "# creating map zoom at present Location\n",
        "map = folium.Map(location=[latitude,longitude],zoom_start=14)"
      ],
      "execution_count": null,
      "outputs": []
    },
    {
      "cell_type": "code",
      "metadata": {
        "id": "kwZIzHrKiA0l",
        "colab": {
          "base_uri": "https://localhost:8080/"
        },
        "outputId": "c228129c-2bf4-4ee7-8a6a-11c2a5389545"
      },
      "source": [
        "# adding the current location to map\n",
        "folium.CircleMarker(location=[latitude,longitude],radius=5,color='red',fill=True,fill_color='red').add_to(map)\n",
        "folium.Marker(location=[latitude,longitude],popup=\"<strong> Current Location</strong>\",icon = folium.Icon(color='red')).add_to(map)"
      ],
      "execution_count": null,
      "outputs": [
        {
          "output_type": "execute_result",
          "data": {
            "text/plain": [
              "<folium.map.Marker at 0x7f563a60ba58>"
            ]
          },
          "metadata": {
            "tags": []
          },
          "execution_count": 114
        }
      ]
    },
    {
      "cell_type": "code",
      "metadata": {
        "id": "6GJM-ENkiQFT",
        "colab": {
          "base_uri": "https://localhost:8080/"
        },
        "outputId": "8c538d28-d202-4df0-b2d5-6e51672be918"
      },
      "source": [
        "# drawing radius of search\n",
        "folium.Circle(location=[latitude,longitude],radius=radius,color='blue',opacity=0.5,fill=True,fill_color='blue').add_to(map)"
      ],
      "execution_count": null,
      "outputs": [
        {
          "output_type": "execute_result",
          "data": {
            "text/plain": [
              "<folium.vector_layers.Circle at 0x7f563a60bfd0>"
            ]
          },
          "metadata": {
            "tags": []
          },
          "execution_count": 115
        }
      ]
    },
    {
      "cell_type": "code",
      "metadata": {
        "id": "6OzxL9DAie2a"
      },
      "source": [
        "# adding all the popular places around\n",
        "for lat,lon,name,cate,addr,dist in zip(nearby2.lat,nearby2.lng,nearby2.name,nearby2.categories,nearby2.address,nearby2.distance):\n",
        "  folium.CircleMarker(location=[lat,lon],radius=5,color=\"red\",fill=True,fill_color='red').add_to(map)\n",
        "  folium.Marker(location=[lat,lon],\n",
        "              popup= folium.Popup(('<strong><font color =\"red\">Name :     </font>'+name+'</strong><br>'+\n",
        "                                   '<strong><font color =\"red\">Categorie :    </font>'+cate+'</strong><br>'+\n",
        "                                   '<strong><font color =\"red\">Address :    </font>'+addr+'</strong><br>'+\n",
        "                                   '<strong><font color =\"red\">Distance :    </font>'+str(dist)+' mts</strong>'\n",
        "                                   ),max_width=250)).add_to(map)"
      ],
      "execution_count": null,
      "outputs": []
    },
    {
      "cell_type": "code",
      "metadata": {
        "id": "Fa6I0p3NiB3u",
        "colab": {
          "base_uri": "https://localhost:8080/",
          "height": 1000
        },
        "outputId": "85ed0e3c-232e-4eb3-d01c-6080829f804f"
      },
      "source": [
        "map"
      ],
      "execution_count": null,
      "outputs": [
        {
          "output_type": "execute_result",
          "data": {
            "text/html": [
              "<div style=\"width:100%;\"><div style=\"position:relative;width:100%;height:0;padding-bottom:60%;\"><span style=\"color:#565656\">Make this Notebook Trusted to load map: File -> Trust Notebook</span><iframe src=\"about:blank\" style=\"position:absolute;width:100%;height:100%;left:0;top:0;border:none !important;\" data-html=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 onload=\"this.contentDocument.open();this.contentDocument.write(atob(this.getAttribute('data-html')));this.contentDocument.close();\" allowfullscreen webkitallowfullscreen mozallowfullscreen></iframe></div></div>"
            ],
            "text/plain": [
              "<folium.folium.Map at 0x7fe92f591048>"
            ]
          },
          "metadata": {
            "tags": []
          },
          "execution_count": 77
        }
      ]
    }
  ]
}