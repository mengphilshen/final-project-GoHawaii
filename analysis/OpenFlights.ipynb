{
  "nbformat": 4,
  "nbformat_minor": 0,
  "metadata": {
    "colab": {
      "name": "OpenFlights.ipynb",
      "provenance": [],
      "toc_visible": true,
      "include_colab_link": true
    },
    "kernelspec": {
      "name": "python3",
      "display_name": "Python 3"
    }
  },
  "cells": [
    {
      "cell_type": "markdown",
      "metadata": {
        "id": "view-in-github",
        "colab_type": "text"
      },
      "source": [
        "<a href=\"https://colab.research.google.com/github/mengphilshen/final-project-GoHawaii/blob/main/OpenFlights.ipynb\" target=\"_parent\"><img src=\"https://colab.research.google.com/assets/colab-badge.svg\" alt=\"Open In Colab\"/></a>"
      ]
    },
    {
      "cell_type": "markdown",
      "metadata": {
        "id": "woTBfG4muNFa"
      },
      "source": [
        "# Introduction"
      ]
    },
    {
      "cell_type": "markdown",
      "metadata": {
        "id": "B-Kx91XHuQ0g"
      },
      "source": [
        "# Data Import"
      ]
    },
    {
      "cell_type": "code",
      "metadata": {
        "id": "lC_m-wiDtvkC"
      },
      "source": [
        "# import modules\n",
        "import pandas as pd"
      ],
      "execution_count": null,
      "outputs": []
    },
    {
      "cell_type": "code",
      "metadata": {
        "id": "7W9c0zl2UZOZ",
        "colab": {
          "base_uri": "https://localhost:8080/"
        },
        "outputId": "c5eced22-20ea-4e3f-8156-2b30f7dbfd27"
      },
      "source": [
        "# mount Google drive\n",
        "from google.colab import drive\n",
        "drive.mount('/content/drive')"
      ],
      "execution_count": null,
      "outputs": [
        {
          "output_type": "stream",
          "text": [
            "Mounted at /content/drive\n"
          ],
          "name": "stdout"
        }
      ]
    },
    {
      "cell_type": "markdown",
      "metadata": {
        "id": "v4KQhDqdveP3"
      },
      "source": [
        "## Airports Dataset"
      ]
    },
    {
      "cell_type": "code",
      "metadata": {
        "id": "A6HA6HcdugGc"
      },
      "source": [
        "# load airports dataset\n",
        "airports0 = pd.read_csv(\"/content/drive/My Drive/CIS550_Project/Data/Flights/airports.txt\", na_values = \"\\\\N\", header = None)"
      ],
      "execution_count": null,
      "outputs": []
    },
    {
      "cell_type": "code",
      "metadata": {
        "id": "uRxI7Q7Ty2pB"
      },
      "source": [
        "airports0.rename(columns={0:'AirportID', 1:'Name', 2:'City', 3:'Country', 4:'IATA', 5:'ICAO', \n",
        "                          6:'Latitude', 7:'Longitude', 8:'Altitude', 9:'HoursFromUTC', 10:'DST',\n",
        "                         11:'Timezone', 12:'Type', 13:'Source'}, inplace=True)"
      ],
      "execution_count": null,
      "outputs": []
    },
    {
      "cell_type": "code",
      "metadata": {
        "id": "uwQtPdvAyz0G",
        "colab": {
          "base_uri": "https://localhost:8080/"
        },
        "outputId": "38c793da-00e9-4e35-9480-b9b506cddcc3"
      },
      "source": [
        "airports0.info()"
      ],
      "execution_count": null,
      "outputs": [
        {
          "output_type": "stream",
          "text": [
            "<class 'pandas.core.frame.DataFrame'>\n",
            "RangeIndex: 7698 entries, 0 to 7697\n",
            "Data columns (total 14 columns):\n",
            " #   Column        Non-Null Count  Dtype  \n",
            "---  ------        --------------  -----  \n",
            " 0   AirportID     7698 non-null   int64  \n",
            " 1   Name          7698 non-null   object \n",
            " 2   City          7649 non-null   object \n",
            " 3   Country       7698 non-null   object \n",
            " 4   IATA          6072 non-null   object \n",
            " 5   ICAO          7697 non-null   object \n",
            " 6   Latitude      7698 non-null   float64\n",
            " 7   Longitude     7698 non-null   float64\n",
            " 8   Altitude      7698 non-null   int64  \n",
            " 9   HoursFromUTC  7345 non-null   float64\n",
            " 10  DST           7345 non-null   object \n",
            " 11  Timezone      6677 non-null   object \n",
            " 12  Type          7698 non-null   object \n",
            " 13  Source        7698 non-null   object \n",
            "dtypes: float64(3), int64(2), object(9)\n",
            "memory usage: 842.1+ KB\n"
          ],
          "name": "stdout"
        }
      ]
    },
    {
      "cell_type": "code",
      "metadata": {
        "id": "xr9wZgoEOQMH",
        "colab": {
          "base_uri": "https://localhost:8080/",
          "height": 204
        },
        "outputId": "a06246a6-b45e-4173-ada4-ba3571e01c67"
      },
      "source": [
        "airports0.head()"
      ],
      "execution_count": null,
      "outputs": [
        {
          "output_type": "execute_result",
          "data": {
            "text/html": [
              "<div>\n",
              "<style scoped>\n",
              "    .dataframe tbody tr th:only-of-type {\n",
              "        vertical-align: middle;\n",
              "    }\n",
              "\n",
              "    .dataframe tbody tr th {\n",
              "        vertical-align: top;\n",
              "    }\n",
              "\n",
              "    .dataframe thead th {\n",
              "        text-align: right;\n",
              "    }\n",
              "</style>\n",
              "<table border=\"1\" class=\"dataframe\">\n",
              "  <thead>\n",
              "    <tr style=\"text-align: right;\">\n",
              "      <th></th>\n",
              "      <th>AirportID</th>\n",
              "      <th>Name</th>\n",
              "      <th>City</th>\n",
              "      <th>Country</th>\n",
              "      <th>IATA</th>\n",
              "      <th>ICAO</th>\n",
              "      <th>Latitude</th>\n",
              "      <th>Longitude</th>\n",
              "      <th>Altitude</th>\n",
              "      <th>HoursFromUTC</th>\n",
              "      <th>DST</th>\n",
              "      <th>Timezone</th>\n",
              "      <th>Type</th>\n",
              "      <th>Source</th>\n",
              "    </tr>\n",
              "  </thead>\n",
              "  <tbody>\n",
              "    <tr>\n",
              "      <th>0</th>\n",
              "      <td>1</td>\n",
              "      <td>Goroka Airport</td>\n",
              "      <td>Goroka</td>\n",
              "      <td>Papua New Guinea</td>\n",
              "      <td>GKA</td>\n",
              "      <td>AYGA</td>\n",
              "      <td>-6.081690</td>\n",
              "      <td>145.391998</td>\n",
              "      <td>5282</td>\n",
              "      <td>10.0</td>\n",
              "      <td>U</td>\n",
              "      <td>Pacific/Port_Moresby</td>\n",
              "      <td>airport</td>\n",
              "      <td>OurAirports</td>\n",
              "    </tr>\n",
              "    <tr>\n",
              "      <th>1</th>\n",
              "      <td>2</td>\n",
              "      <td>Madang Airport</td>\n",
              "      <td>Madang</td>\n",
              "      <td>Papua New Guinea</td>\n",
              "      <td>MAG</td>\n",
              "      <td>AYMD</td>\n",
              "      <td>-5.207080</td>\n",
              "      <td>145.789001</td>\n",
              "      <td>20</td>\n",
              "      <td>10.0</td>\n",
              "      <td>U</td>\n",
              "      <td>Pacific/Port_Moresby</td>\n",
              "      <td>airport</td>\n",
              "      <td>OurAirports</td>\n",
              "    </tr>\n",
              "    <tr>\n",
              "      <th>2</th>\n",
              "      <td>3</td>\n",
              "      <td>Mount Hagen Kagamuga Airport</td>\n",
              "      <td>Mount Hagen</td>\n",
              "      <td>Papua New Guinea</td>\n",
              "      <td>HGU</td>\n",
              "      <td>AYMH</td>\n",
              "      <td>-5.826790</td>\n",
              "      <td>144.296005</td>\n",
              "      <td>5388</td>\n",
              "      <td>10.0</td>\n",
              "      <td>U</td>\n",
              "      <td>Pacific/Port_Moresby</td>\n",
              "      <td>airport</td>\n",
              "      <td>OurAirports</td>\n",
              "    </tr>\n",
              "    <tr>\n",
              "      <th>3</th>\n",
              "      <td>4</td>\n",
              "      <td>Nadzab Airport</td>\n",
              "      <td>Nadzab</td>\n",
              "      <td>Papua New Guinea</td>\n",
              "      <td>LAE</td>\n",
              "      <td>AYNZ</td>\n",
              "      <td>-6.569803</td>\n",
              "      <td>146.725977</td>\n",
              "      <td>239</td>\n",
              "      <td>10.0</td>\n",
              "      <td>U</td>\n",
              "      <td>Pacific/Port_Moresby</td>\n",
              "      <td>airport</td>\n",
              "      <td>OurAirports</td>\n",
              "    </tr>\n",
              "    <tr>\n",
              "      <th>4</th>\n",
              "      <td>5</td>\n",
              "      <td>Port Moresby Jacksons International Airport</td>\n",
              "      <td>Port Moresby</td>\n",
              "      <td>Papua New Guinea</td>\n",
              "      <td>POM</td>\n",
              "      <td>AYPY</td>\n",
              "      <td>-9.443380</td>\n",
              "      <td>147.220001</td>\n",
              "      <td>146</td>\n",
              "      <td>10.0</td>\n",
              "      <td>U</td>\n",
              "      <td>Pacific/Port_Moresby</td>\n",
              "      <td>airport</td>\n",
              "      <td>OurAirports</td>\n",
              "    </tr>\n",
              "  </tbody>\n",
              "</table>\n",
              "</div>"
            ],
            "text/plain": [
              "   AirportID                                         Name  ...     Type       Source\n",
              "0          1                               Goroka Airport  ...  airport  OurAirports\n",
              "1          2                               Madang Airport  ...  airport  OurAirports\n",
              "2          3                 Mount Hagen Kagamuga Airport  ...  airport  OurAirports\n",
              "3          4                               Nadzab Airport  ...  airport  OurAirports\n",
              "4          5  Port Moresby Jacksons International Airport  ...  airport  OurAirports\n",
              "\n",
              "[5 rows x 14 columns]"
            ]
          },
          "metadata": {
            "tags": []
          },
          "execution_count": 6
        }
      ]
    },
    {
      "cell_type": "code",
      "metadata": {
        "id": "GRUEC2gHo3-d",
        "colab": {
          "base_uri": "https://localhost:8080/"
        },
        "outputId": "eed9c0a1-33ad-4bb6-b994-a5d8af0e308c"
      },
      "source": [
        "# check distict values\n",
        "airports0['AirportID'].nunique()"
      ],
      "execution_count": null,
      "outputs": [
        {
          "output_type": "execute_result",
          "data": {
            "text/plain": [
              "7698"
            ]
          },
          "metadata": {
            "tags": []
          },
          "execution_count": 12
        }
      ]
    },
    {
      "cell_type": "code",
      "metadata": {
        "id": "3xdkY5UJylD8",
        "colab": {
          "base_uri": "https://localhost:8080/",
          "height": 235
        },
        "outputId": "907bc013-1660-47a7-f3e8-ef8b2e439f65"
      },
      "source": [
        "# check missing values\n",
        "missing_airports = airports0.isnull().sum(axis = 0).reset_index()\n",
        "missing_airports.columns = ['variable', 'missing values']\n",
        "missing_airports['missing%'] = missing_airports['missing values'] / airports0.shape[0] * 100\n",
        "missing_airports_srt = missing_airports.sort_values('missing%', ascending = False).reset_index(drop = True)\n",
        "missing_airports_srt[missing_airports_srt['missing%'] > 0]"
      ],
      "execution_count": null,
      "outputs": [
        {
          "output_type": "execute_result",
          "data": {
            "text/html": [
              "<div>\n",
              "<style scoped>\n",
              "    .dataframe tbody tr th:only-of-type {\n",
              "        vertical-align: middle;\n",
              "    }\n",
              "\n",
              "    .dataframe tbody tr th {\n",
              "        vertical-align: top;\n",
              "    }\n",
              "\n",
              "    .dataframe thead th {\n",
              "        text-align: right;\n",
              "    }\n",
              "</style>\n",
              "<table border=\"1\" class=\"dataframe\">\n",
              "  <thead>\n",
              "    <tr style=\"text-align: right;\">\n",
              "      <th></th>\n",
              "      <th>variable</th>\n",
              "      <th>missing values</th>\n",
              "      <th>missing%</th>\n",
              "    </tr>\n",
              "  </thead>\n",
              "  <tbody>\n",
              "    <tr>\n",
              "      <th>0</th>\n",
              "      <td>IATA</td>\n",
              "      <td>1626</td>\n",
              "      <td>21.122369</td>\n",
              "    </tr>\n",
              "    <tr>\n",
              "      <th>1</th>\n",
              "      <td>Timezone</td>\n",
              "      <td>1021</td>\n",
              "      <td>13.263185</td>\n",
              "    </tr>\n",
              "    <tr>\n",
              "      <th>2</th>\n",
              "      <td>HoursFromUTC</td>\n",
              "      <td>353</td>\n",
              "      <td>4.585607</td>\n",
              "    </tr>\n",
              "    <tr>\n",
              "      <th>3</th>\n",
              "      <td>DST</td>\n",
              "      <td>353</td>\n",
              "      <td>4.585607</td>\n",
              "    </tr>\n",
              "    <tr>\n",
              "      <th>4</th>\n",
              "      <td>City</td>\n",
              "      <td>49</td>\n",
              "      <td>0.636529</td>\n",
              "    </tr>\n",
              "    <tr>\n",
              "      <th>5</th>\n",
              "      <td>ICAO</td>\n",
              "      <td>1</td>\n",
              "      <td>0.012990</td>\n",
              "    </tr>\n",
              "  </tbody>\n",
              "</table>\n",
              "</div>"
            ],
            "text/plain": [
              "       variable  missing values   missing%\n",
              "0          IATA            1626  21.122369\n",
              "1      Timezone            1021  13.263185\n",
              "2  HoursFromUTC             353   4.585607\n",
              "3           DST             353   4.585607\n",
              "4          City              49   0.636529\n",
              "5          ICAO               1   0.012990"
            ]
          },
          "metadata": {
            "tags": []
          },
          "execution_count": 7
        }
      ]
    },
    {
      "cell_type": "code",
      "metadata": {
        "id": "jAQJo_WCKem2",
        "colab": {
          "base_uri": "https://localhost:8080/"
        },
        "outputId": "d591ec94-3412-46ab-c8ab-1d4b60675e37"
      },
      "source": [
        "# check Type\n",
        "airports0['Type'].value_counts()"
      ],
      "execution_count": null,
      "outputs": [
        {
          "output_type": "execute_result",
          "data": {
            "text/plain": [
              "airport    7698\n",
              "Name: Type, dtype: int64"
            ]
          },
          "metadata": {
            "tags": []
          },
          "execution_count": 8
        }
      ]
    },
    {
      "cell_type": "code",
      "metadata": {
        "id": "XVOypmZbKyOX",
        "colab": {
          "base_uri": "https://localhost:8080/"
        },
        "outputId": "100bf1ab-d975-41ce-9a3c-2f33dbd05885"
      },
      "source": [
        "# check Source\n",
        "airports0['Source'].value_counts()"
      ],
      "execution_count": null,
      "outputs": [
        {
          "output_type": "execute_result",
          "data": {
            "text/plain": [
              "OurAirports    7698\n",
              "Name: Source, dtype: int64"
            ]
          },
          "metadata": {
            "tags": []
          },
          "execution_count": 10
        }
      ]
    },
    {
      "cell_type": "code",
      "metadata": {
        "id": "m7TyWFjFMj7J",
        "colab": {
          "base_uri": "https://localhost:8080/",
          "height": 204
        },
        "outputId": "02a3306e-925a-49c2-8089-92cb05bc3ba2"
      },
      "source": [
        "# drop variables\n",
        "var_to_drop = ['Type', 'Source']\n",
        "airports1 = airports0.drop(var_to_drop, axis = 1)\n",
        "airports1.head()"
      ],
      "execution_count": null,
      "outputs": [
        {
          "output_type": "execute_result",
          "data": {
            "text/html": [
              "<div>\n",
              "<style scoped>\n",
              "    .dataframe tbody tr th:only-of-type {\n",
              "        vertical-align: middle;\n",
              "    }\n",
              "\n",
              "    .dataframe tbody tr th {\n",
              "        vertical-align: top;\n",
              "    }\n",
              "\n",
              "    .dataframe thead th {\n",
              "        text-align: right;\n",
              "    }\n",
              "</style>\n",
              "<table border=\"1\" class=\"dataframe\">\n",
              "  <thead>\n",
              "    <tr style=\"text-align: right;\">\n",
              "      <th></th>\n",
              "      <th>AirportID</th>\n",
              "      <th>Name</th>\n",
              "      <th>City</th>\n",
              "      <th>Country</th>\n",
              "      <th>IATA</th>\n",
              "      <th>ICAO</th>\n",
              "      <th>Latitude</th>\n",
              "      <th>Longitude</th>\n",
              "      <th>Altitude</th>\n",
              "      <th>HoursFromUTC</th>\n",
              "      <th>DST</th>\n",
              "      <th>Timezone</th>\n",
              "    </tr>\n",
              "  </thead>\n",
              "  <tbody>\n",
              "    <tr>\n",
              "      <th>0</th>\n",
              "      <td>1</td>\n",
              "      <td>Goroka Airport</td>\n",
              "      <td>Goroka</td>\n",
              "      <td>Papua New Guinea</td>\n",
              "      <td>GKA</td>\n",
              "      <td>AYGA</td>\n",
              "      <td>-6.081690</td>\n",
              "      <td>145.391998</td>\n",
              "      <td>5282</td>\n",
              "      <td>10.0</td>\n",
              "      <td>U</td>\n",
              "      <td>Pacific/Port_Moresby</td>\n",
              "    </tr>\n",
              "    <tr>\n",
              "      <th>1</th>\n",
              "      <td>2</td>\n",
              "      <td>Madang Airport</td>\n",
              "      <td>Madang</td>\n",
              "      <td>Papua New Guinea</td>\n",
              "      <td>MAG</td>\n",
              "      <td>AYMD</td>\n",
              "      <td>-5.207080</td>\n",
              "      <td>145.789001</td>\n",
              "      <td>20</td>\n",
              "      <td>10.0</td>\n",
              "      <td>U</td>\n",
              "      <td>Pacific/Port_Moresby</td>\n",
              "    </tr>\n",
              "    <tr>\n",
              "      <th>2</th>\n",
              "      <td>3</td>\n",
              "      <td>Mount Hagen Kagamuga Airport</td>\n",
              "      <td>Mount Hagen</td>\n",
              "      <td>Papua New Guinea</td>\n",
              "      <td>HGU</td>\n",
              "      <td>AYMH</td>\n",
              "      <td>-5.826790</td>\n",
              "      <td>144.296005</td>\n",
              "      <td>5388</td>\n",
              "      <td>10.0</td>\n",
              "      <td>U</td>\n",
              "      <td>Pacific/Port_Moresby</td>\n",
              "    </tr>\n",
              "    <tr>\n",
              "      <th>3</th>\n",
              "      <td>4</td>\n",
              "      <td>Nadzab Airport</td>\n",
              "      <td>Nadzab</td>\n",
              "      <td>Papua New Guinea</td>\n",
              "      <td>LAE</td>\n",
              "      <td>AYNZ</td>\n",
              "      <td>-6.569803</td>\n",
              "      <td>146.725977</td>\n",
              "      <td>239</td>\n",
              "      <td>10.0</td>\n",
              "      <td>U</td>\n",
              "      <td>Pacific/Port_Moresby</td>\n",
              "    </tr>\n",
              "    <tr>\n",
              "      <th>4</th>\n",
              "      <td>5</td>\n",
              "      <td>Port Moresby Jacksons International Airport</td>\n",
              "      <td>Port Moresby</td>\n",
              "      <td>Papua New Guinea</td>\n",
              "      <td>POM</td>\n",
              "      <td>AYPY</td>\n",
              "      <td>-9.443380</td>\n",
              "      <td>147.220001</td>\n",
              "      <td>146</td>\n",
              "      <td>10.0</td>\n",
              "      <td>U</td>\n",
              "      <td>Pacific/Port_Moresby</td>\n",
              "    </tr>\n",
              "  </tbody>\n",
              "</table>\n",
              "</div>"
            ],
            "text/plain": [
              "   AirportID  ...              Timezone\n",
              "0          1  ...  Pacific/Port_Moresby\n",
              "1          2  ...  Pacific/Port_Moresby\n",
              "2          3  ...  Pacific/Port_Moresby\n",
              "3          4  ...  Pacific/Port_Moresby\n",
              "4          5  ...  Pacific/Port_Moresby\n",
              "\n",
              "[5 rows x 12 columns]"
            ]
          },
          "metadata": {
            "tags": []
          },
          "execution_count": 11
        }
      ]
    },
    {
      "cell_type": "code",
      "metadata": {
        "id": "JokbD_1cVN9P"
      },
      "source": [
        "# export airports dataset\n",
        "airports1.to_csv('/content/drive/My Drive/CIS550_Project/Data/airports1.csv', index=False)"
      ],
      "execution_count": null,
      "outputs": []
    },
    {
      "cell_type": "markdown",
      "metadata": {
        "id": "zhRSz_tGPRS7"
      },
      "source": [
        "## Airlines Dataset"
      ]
    },
    {
      "cell_type": "code",
      "metadata": {
        "id": "0HGkO-IrO7gh"
      },
      "source": [
        "# load airlines dataset\n",
        "airlines0 = pd.read_csv(\"/content/drive/My Drive/CIS550_Project/Data/Flights/airlines.txt\", na_values = \"\\\\N\", header = None)"
      ],
      "execution_count": null,
      "outputs": []
    },
    {
      "cell_type": "code",
      "metadata": {
        "id": "NDUcUnROSwVI"
      },
      "source": [
        "airlines0.rename(columns={0:'AirlineID', 1:'Name', 2:'Alias', 3:'IATA', 4:'ICAO', \n",
        "                          5:'Callsign', 6:'Country', 7:'Active'}, inplace=True)"
      ],
      "execution_count": null,
      "outputs": []
    },
    {
      "cell_type": "code",
      "metadata": {
        "id": "rvR5AKjNSCPr",
        "colab": {
          "base_uri": "https://localhost:8080/"
        },
        "outputId": "4de818eb-39eb-44ea-cd73-707f1609d2a2"
      },
      "source": [
        "airlines0.info()"
      ],
      "execution_count": null,
      "outputs": [
        {
          "output_type": "stream",
          "text": [
            "<class 'pandas.core.frame.DataFrame'>\n",
            "RangeIndex: 6162 entries, 0 to 6161\n",
            "Data columns (total 8 columns):\n",
            " #   Column     Non-Null Count  Dtype \n",
            "---  ------     --------------  ----- \n",
            " 0   AirlineID  6162 non-null   int64 \n",
            " 1   Name       6162 non-null   object\n",
            " 2   Alias      178 non-null    object\n",
            " 3   IATA       1534 non-null   object\n",
            " 4   ICAO       5887 non-null   object\n",
            " 5   Callsign   5351 non-null   object\n",
            " 6   Country    6144 non-null   object\n",
            " 7   Active     6162 non-null   object\n",
            "dtypes: int64(1), object(7)\n",
            "memory usage: 385.2+ KB\n"
          ],
          "name": "stdout"
        }
      ]
    },
    {
      "cell_type": "code",
      "metadata": {
        "id": "-0iBlfbXSF0K",
        "colab": {
          "base_uri": "https://localhost:8080/",
          "height": 204
        },
        "outputId": "d673134c-e275-482e-892a-30fd27290e81"
      },
      "source": [
        "airlines0.head()"
      ],
      "execution_count": null,
      "outputs": [
        {
          "output_type": "execute_result",
          "data": {
            "text/html": [
              "<div>\n",
              "<style scoped>\n",
              "    .dataframe tbody tr th:only-of-type {\n",
              "        vertical-align: middle;\n",
              "    }\n",
              "\n",
              "    .dataframe tbody tr th {\n",
              "        vertical-align: top;\n",
              "    }\n",
              "\n",
              "    .dataframe thead th {\n",
              "        text-align: right;\n",
              "    }\n",
              "</style>\n",
              "<table border=\"1\" class=\"dataframe\">\n",
              "  <thead>\n",
              "    <tr style=\"text-align: right;\">\n",
              "      <th></th>\n",
              "      <th>AirlineID</th>\n",
              "      <th>Name</th>\n",
              "      <th>Alias</th>\n",
              "      <th>IATA</th>\n",
              "      <th>ICAO</th>\n",
              "      <th>Callsign</th>\n",
              "      <th>Country</th>\n",
              "      <th>Active</th>\n",
              "    </tr>\n",
              "  </thead>\n",
              "  <tbody>\n",
              "    <tr>\n",
              "      <th>0</th>\n",
              "      <td>-1</td>\n",
              "      <td>Unknown</td>\n",
              "      <td>NaN</td>\n",
              "      <td>-</td>\n",
              "      <td>NaN</td>\n",
              "      <td>NaN</td>\n",
              "      <td>NaN</td>\n",
              "      <td>Y</td>\n",
              "    </tr>\n",
              "    <tr>\n",
              "      <th>1</th>\n",
              "      <td>1</td>\n",
              "      <td>Private flight</td>\n",
              "      <td>NaN</td>\n",
              "      <td>-</td>\n",
              "      <td>NaN</td>\n",
              "      <td>NaN</td>\n",
              "      <td>NaN</td>\n",
              "      <td>Y</td>\n",
              "    </tr>\n",
              "    <tr>\n",
              "      <th>2</th>\n",
              "      <td>2</td>\n",
              "      <td>135 Airways</td>\n",
              "      <td>NaN</td>\n",
              "      <td>NaN</td>\n",
              "      <td>GNL</td>\n",
              "      <td>GENERAL</td>\n",
              "      <td>United States</td>\n",
              "      <td>N</td>\n",
              "    </tr>\n",
              "    <tr>\n",
              "      <th>3</th>\n",
              "      <td>3</td>\n",
              "      <td>1Time Airline</td>\n",
              "      <td>NaN</td>\n",
              "      <td>1T</td>\n",
              "      <td>RNX</td>\n",
              "      <td>NEXTIME</td>\n",
              "      <td>South Africa</td>\n",
              "      <td>Y</td>\n",
              "    </tr>\n",
              "    <tr>\n",
              "      <th>4</th>\n",
              "      <td>4</td>\n",
              "      <td>2 Sqn No 1 Elementary Flying Training School</td>\n",
              "      <td>NaN</td>\n",
              "      <td>NaN</td>\n",
              "      <td>WYT</td>\n",
              "      <td>NaN</td>\n",
              "      <td>United Kingdom</td>\n",
              "      <td>N</td>\n",
              "    </tr>\n",
              "  </tbody>\n",
              "</table>\n",
              "</div>"
            ],
            "text/plain": [
              "   AirlineID  ... Active\n",
              "0         -1  ...      Y\n",
              "1          1  ...      Y\n",
              "2          2  ...      N\n",
              "3          3  ...      Y\n",
              "4          4  ...      N\n",
              "\n",
              "[5 rows x 8 columns]"
            ]
          },
          "metadata": {
            "tags": []
          },
          "execution_count": 16
        }
      ]
    },
    {
      "cell_type": "code",
      "metadata": {
        "id": "iBtH49kcpmHj",
        "colab": {
          "base_uri": "https://localhost:8080/"
        },
        "outputId": "43974560-4d0e-40e7-c571-0029d7658340"
      },
      "source": [
        "# check distict values\n",
        "airlines0['AirlineID'].nunique()"
      ],
      "execution_count": null,
      "outputs": [
        {
          "output_type": "execute_result",
          "data": {
            "text/plain": [
              "6162"
            ]
          },
          "metadata": {
            "tags": []
          },
          "execution_count": 18
        }
      ]
    },
    {
      "cell_type": "code",
      "metadata": {
        "id": "EHDRu2t6LMx2",
        "colab": {
          "base_uri": "https://localhost:8080/",
          "height": 204
        },
        "outputId": "0a254916-435d-46d6-c876-7f75fda09478"
      },
      "source": [
        "# check missing values\n",
        "missing_airlines = airlines0.isnull().sum(axis = 0).reset_index()\n",
        "missing_airlines.columns = ['variable', 'missing values']\n",
        "missing_airlines['missing%'] = missing_airlines['missing values'] / airlines0.shape[0] * 100\n",
        "missing_airlines_srt = missing_airlines.sort_values('missing%', ascending = False).reset_index(drop = True)\n",
        "missing_airlines_srt[missing_airlines_srt['missing%'] > 0]"
      ],
      "execution_count": null,
      "outputs": [
        {
          "output_type": "execute_result",
          "data": {
            "text/html": [
              "<div>\n",
              "<style scoped>\n",
              "    .dataframe tbody tr th:only-of-type {\n",
              "        vertical-align: middle;\n",
              "    }\n",
              "\n",
              "    .dataframe tbody tr th {\n",
              "        vertical-align: top;\n",
              "    }\n",
              "\n",
              "    .dataframe thead th {\n",
              "        text-align: right;\n",
              "    }\n",
              "</style>\n",
              "<table border=\"1\" class=\"dataframe\">\n",
              "  <thead>\n",
              "    <tr style=\"text-align: right;\">\n",
              "      <th></th>\n",
              "      <th>variable</th>\n",
              "      <th>missing values</th>\n",
              "      <th>missing%</th>\n",
              "    </tr>\n",
              "  </thead>\n",
              "  <tbody>\n",
              "    <tr>\n",
              "      <th>0</th>\n",
              "      <td>Alias</td>\n",
              "      <td>5984</td>\n",
              "      <td>97.111327</td>\n",
              "    </tr>\n",
              "    <tr>\n",
              "      <th>1</th>\n",
              "      <td>IATA</td>\n",
              "      <td>4628</td>\n",
              "      <td>75.105485</td>\n",
              "    </tr>\n",
              "    <tr>\n",
              "      <th>2</th>\n",
              "      <td>Callsign</td>\n",
              "      <td>811</td>\n",
              "      <td>13.161311</td>\n",
              "    </tr>\n",
              "    <tr>\n",
              "      <th>3</th>\n",
              "      <td>ICAO</td>\n",
              "      <td>275</td>\n",
              "      <td>4.462837</td>\n",
              "    </tr>\n",
              "    <tr>\n",
              "      <th>4</th>\n",
              "      <td>Country</td>\n",
              "      <td>18</td>\n",
              "      <td>0.292113</td>\n",
              "    </tr>\n",
              "  </tbody>\n",
              "</table>\n",
              "</div>"
            ],
            "text/plain": [
              "   variable  missing values   missing%\n",
              "0     Alias            5984  97.111327\n",
              "1      IATA            4628  75.105485\n",
              "2  Callsign             811  13.161311\n",
              "3      ICAO             275   4.462837\n",
              "4   Country              18   0.292113"
            ]
          },
          "metadata": {
            "tags": []
          },
          "execution_count": 23
        }
      ]
    },
    {
      "cell_type": "code",
      "metadata": {
        "id": "qaLVC_RdOJuh"
      },
      "source": [
        "# export airlines dataset\n",
        "airlines0.to_csv('/content/drive/My Drive/CIS550_Project/Data/airlines0.csv', index=False)"
      ],
      "execution_count": null,
      "outputs": []
    },
    {
      "cell_type": "markdown",
      "metadata": {
        "id": "LpA_3r0BUvja"
      },
      "source": [
        "## Routes Dataset"
      ]
    },
    {
      "cell_type": "code",
      "metadata": {
        "id": "Mkt59rUoUhgJ"
      },
      "source": [
        "# load routes dataset\n",
        "routes0 = pd.read_csv(\"/content/drive/My Drive/CIS550_Project/Data/Flights/routes.txt\", na_values = \"\\\\N\", header = None)"
      ],
      "execution_count": null,
      "outputs": []
    },
    {
      "cell_type": "code",
      "metadata": {
        "id": "QfEnJx1MVc-Z"
      },
      "source": [
        "routes0.rename(columns={0:'Airline', 1:'AirlineID', 2:'SourceAirport', 3:'SourceAirportID', 4:'DestinationAirport', 5:'DestinationAirportID', \n",
        "                        6:'Codeshare', 7:'Stops', 8:'Equipment'}, inplace=True)"
      ],
      "execution_count": null,
      "outputs": []
    },
    {
      "cell_type": "code",
      "metadata": {
        "id": "1U_PuaKKVZOU",
        "colab": {
          "base_uri": "https://localhost:8080/"
        },
        "outputId": "5fa248c9-9108-49ff-9bee-9a8a21b28ea4"
      },
      "source": [
        "routes0.info()"
      ],
      "execution_count": null,
      "outputs": [
        {
          "output_type": "stream",
          "text": [
            "<class 'pandas.core.frame.DataFrame'>\n",
            "RangeIndex: 67663 entries, 0 to 67662\n",
            "Data columns (total 9 columns):\n",
            " #   Column                Non-Null Count  Dtype  \n",
            "---  ------                --------------  -----  \n",
            " 0   Airline               67663 non-null  object \n",
            " 1   AirlineID             67184 non-null  float64\n",
            " 2   SourceAirport         67663 non-null  object \n",
            " 3   SourceAirportID       67443 non-null  float64\n",
            " 4   DestinationAirport    67663 non-null  object \n",
            " 5   DestinationAirportID  67442 non-null  float64\n",
            " 6   Codeshare             14597 non-null  object \n",
            " 7   Stops                 67663 non-null  int64  \n",
            " 8   Equipment             67645 non-null  object \n",
            "dtypes: float64(3), int64(1), object(5)\n",
            "memory usage: 4.6+ MB\n"
          ],
          "name": "stdout"
        }
      ]
    },
    {
      "cell_type": "code",
      "metadata": {
        "id": "o71t_ms-V_mp",
        "colab": {
          "base_uri": "https://localhost:8080/",
          "height": 204
        },
        "outputId": "9ef433a5-f5f1-410d-b4c1-5354eed25234"
      },
      "source": [
        "routes0.head()"
      ],
      "execution_count": null,
      "outputs": [
        {
          "output_type": "execute_result",
          "data": {
            "text/html": [
              "<div>\n",
              "<style scoped>\n",
              "    .dataframe tbody tr th:only-of-type {\n",
              "        vertical-align: middle;\n",
              "    }\n",
              "\n",
              "    .dataframe tbody tr th {\n",
              "        vertical-align: top;\n",
              "    }\n",
              "\n",
              "    .dataframe thead th {\n",
              "        text-align: right;\n",
              "    }\n",
              "</style>\n",
              "<table border=\"1\" class=\"dataframe\">\n",
              "  <thead>\n",
              "    <tr style=\"text-align: right;\">\n",
              "      <th></th>\n",
              "      <th>Airline</th>\n",
              "      <th>AirlineID</th>\n",
              "      <th>SourceAirport</th>\n",
              "      <th>SourceAirportID</th>\n",
              "      <th>DestinationAirport</th>\n",
              "      <th>DestinationAirportID</th>\n",
              "      <th>Codeshare</th>\n",
              "      <th>Stops</th>\n",
              "      <th>Equipment</th>\n",
              "    </tr>\n",
              "  </thead>\n",
              "  <tbody>\n",
              "    <tr>\n",
              "      <th>0</th>\n",
              "      <td>2B</td>\n",
              "      <td>410.0</td>\n",
              "      <td>AER</td>\n",
              "      <td>2965.0</td>\n",
              "      <td>KZN</td>\n",
              "      <td>2990.0</td>\n",
              "      <td>NaN</td>\n",
              "      <td>0</td>\n",
              "      <td>CR2</td>\n",
              "    </tr>\n",
              "    <tr>\n",
              "      <th>1</th>\n",
              "      <td>2B</td>\n",
              "      <td>410.0</td>\n",
              "      <td>ASF</td>\n",
              "      <td>2966.0</td>\n",
              "      <td>KZN</td>\n",
              "      <td>2990.0</td>\n",
              "      <td>NaN</td>\n",
              "      <td>0</td>\n",
              "      <td>CR2</td>\n",
              "    </tr>\n",
              "    <tr>\n",
              "      <th>2</th>\n",
              "      <td>2B</td>\n",
              "      <td>410.0</td>\n",
              "      <td>ASF</td>\n",
              "      <td>2966.0</td>\n",
              "      <td>MRV</td>\n",
              "      <td>2962.0</td>\n",
              "      <td>NaN</td>\n",
              "      <td>0</td>\n",
              "      <td>CR2</td>\n",
              "    </tr>\n",
              "    <tr>\n",
              "      <th>3</th>\n",
              "      <td>2B</td>\n",
              "      <td>410.0</td>\n",
              "      <td>CEK</td>\n",
              "      <td>2968.0</td>\n",
              "      <td>KZN</td>\n",
              "      <td>2990.0</td>\n",
              "      <td>NaN</td>\n",
              "      <td>0</td>\n",
              "      <td>CR2</td>\n",
              "    </tr>\n",
              "    <tr>\n",
              "      <th>4</th>\n",
              "      <td>2B</td>\n",
              "      <td>410.0</td>\n",
              "      <td>CEK</td>\n",
              "      <td>2968.0</td>\n",
              "      <td>OVB</td>\n",
              "      <td>4078.0</td>\n",
              "      <td>NaN</td>\n",
              "      <td>0</td>\n",
              "      <td>CR2</td>\n",
              "    </tr>\n",
              "  </tbody>\n",
              "</table>\n",
              "</div>"
            ],
            "text/plain": [
              "  Airline  AirlineID SourceAirport  ...  Codeshare Stops  Equipment\n",
              "0      2B      410.0           AER  ...        NaN     0        CR2\n",
              "1      2B      410.0           ASF  ...        NaN     0        CR2\n",
              "2      2B      410.0           ASF  ...        NaN     0        CR2\n",
              "3      2B      410.0           CEK  ...        NaN     0        CR2\n",
              "4      2B      410.0           CEK  ...        NaN     0        CR2\n",
              "\n",
              "[5 rows x 9 columns]"
            ]
          },
          "metadata": {
            "tags": []
          },
          "execution_count": 22
        }
      ]
    },
    {
      "cell_type": "code",
      "metadata": {
        "id": "u_o2RYPzqCQd",
        "colab": {
          "base_uri": "https://localhost:8080/"
        },
        "outputId": "c3dc9ff9-d73b-41fb-c917-b868580c4cbe"
      },
      "source": [
        "# check distict values\n",
        "routes0.groupby(['AirlineID', 'SourceAirportID', 'DestinationAirportID']).ngroups"
      ],
      "execution_count": null,
      "outputs": [
        {
          "output_type": "execute_result",
          "data": {
            "text/plain": [
              "66765"
            ]
          },
          "metadata": {
            "tags": []
          },
          "execution_count": 23
        }
      ]
    },
    {
      "cell_type": "code",
      "metadata": {
        "id": "asiv7iY7QAVy",
        "colab": {
          "base_uri": "https://localhost:8080/",
          "height": 204
        },
        "outputId": "b516631c-ece3-4a3a-f711-f5e035cdcd95"
      },
      "source": [
        "# check missing values\n",
        "missing_routes = routes0.isnull().sum(axis = 0).reset_index()\n",
        "missing_routes.columns = ['variable', 'missing values']\n",
        "missing_routes['missing%'] = missing_routes['missing values'] / routes0.shape[0] * 100\n",
        "missing_routes_srt = missing_routes.sort_values('missing%', ascending = False).reset_index(drop = True)\n",
        "missing_routes_srt[missing_routes_srt['missing%'] > 0]"
      ],
      "execution_count": null,
      "outputs": [
        {
          "output_type": "execute_result",
          "data": {
            "text/html": [
              "<div>\n",
              "<style scoped>\n",
              "    .dataframe tbody tr th:only-of-type {\n",
              "        vertical-align: middle;\n",
              "    }\n",
              "\n",
              "    .dataframe tbody tr th {\n",
              "        vertical-align: top;\n",
              "    }\n",
              "\n",
              "    .dataframe thead th {\n",
              "        text-align: right;\n",
              "    }\n",
              "</style>\n",
              "<table border=\"1\" class=\"dataframe\">\n",
              "  <thead>\n",
              "    <tr style=\"text-align: right;\">\n",
              "      <th></th>\n",
              "      <th>variable</th>\n",
              "      <th>missing values</th>\n",
              "      <th>missing%</th>\n",
              "    </tr>\n",
              "  </thead>\n",
              "  <tbody>\n",
              "    <tr>\n",
              "      <th>0</th>\n",
              "      <td>Codeshare</td>\n",
              "      <td>53066</td>\n",
              "      <td>78.426910</td>\n",
              "    </tr>\n",
              "    <tr>\n",
              "      <th>1</th>\n",
              "      <td>AirlineID</td>\n",
              "      <td>479</td>\n",
              "      <td>0.707920</td>\n",
              "    </tr>\n",
              "    <tr>\n",
              "      <th>2</th>\n",
              "      <td>DestinationAirportID</td>\n",
              "      <td>221</td>\n",
              "      <td>0.326619</td>\n",
              "    </tr>\n",
              "    <tr>\n",
              "      <th>3</th>\n",
              "      <td>SourceAirportID</td>\n",
              "      <td>220</td>\n",
              "      <td>0.325141</td>\n",
              "    </tr>\n",
              "    <tr>\n",
              "      <th>4</th>\n",
              "      <td>Equipment</td>\n",
              "      <td>18</td>\n",
              "      <td>0.026602</td>\n",
              "    </tr>\n",
              "  </tbody>\n",
              "</table>\n",
              "</div>"
            ],
            "text/plain": [
              "               variable  missing values   missing%\n",
              "0             Codeshare           53066  78.426910\n",
              "1             AirlineID             479   0.707920\n",
              "2  DestinationAirportID             221   0.326619\n",
              "3       SourceAirportID             220   0.325141\n",
              "4             Equipment              18   0.026602"
            ]
          },
          "metadata": {
            "tags": []
          },
          "execution_count": 36
        }
      ]
    },
    {
      "cell_type": "code",
      "metadata": {
        "id": "pHYlRUdJtmKj",
        "colab": {
          "base_uri": "https://localhost:8080/"
        },
        "outputId": "f61a7e20-a4f8-4562-f941-bff0cec026f3"
      },
      "source": [
        "# remove duplicate values\n",
        "routes1 = routes0.drop_duplicates(['AirlineID', 'SourceAirportID', 'DestinationAirportID'])\n",
        "routes1.info()"
      ],
      "execution_count": null,
      "outputs": [
        {
          "output_type": "stream",
          "text": [
            "<class 'pandas.core.frame.DataFrame'>\n",
            "Int64Index: 67579 entries, 0 to 67662\n",
            "Data columns (total 9 columns):\n",
            " #   Column                Non-Null Count  Dtype  \n",
            "---  ------                --------------  -----  \n",
            " 0   Airline               67579 non-null  object \n",
            " 1   AirlineID             67110 non-null  float64\n",
            " 2   SourceAirport         67579 non-null  object \n",
            " 3   SourceAirportID       67403 non-null  float64\n",
            " 4   DestinationAirport    67579 non-null  object \n",
            " 5   DestinationAirportID  67402 non-null  float64\n",
            " 6   Codeshare             14597 non-null  object \n",
            " 7   Stops                 67579 non-null  int64  \n",
            " 8   Equipment             67561 non-null  object \n",
            "dtypes: float64(3), int64(1), object(5)\n",
            "memory usage: 5.2+ MB\n"
          ],
          "name": "stdout"
        }
      ]
    },
    {
      "cell_type": "code",
      "metadata": {
        "id": "Y4qQNSu3uPPA"
      },
      "source": [
        "# export routes dataset\n",
        "routes1.to_csv('/content/drive/My Drive/CIS550_Project/Data/routes1.csv', index=False)"
      ],
      "execution_count": null,
      "outputs": []
    },
    {
      "cell_type": "markdown",
      "metadata": {
        "id": "Ry5S81OlWM42"
      },
      "source": [
        "# Data Wrangling"
      ]
    },
    {
      "cell_type": "markdown",
      "metadata": {
        "id": "a1lMpjDTWTzy"
      },
      "source": [
        "# Data Description"
      ]
    },
    {
      "cell_type": "markdown",
      "metadata": {
        "id": "rt7l6JKy3h2n"
      },
      "source": [
        "# Airports in Hawaii"
      ]
    },
    {
      "cell_type": "code",
      "metadata": {
        "id": "J9DVQeQ2WGok"
      },
      "source": [
        "# select airports in Hawaii\n",
        "IATA_list = ['ITO', 'HNL', 'OGG', 'KOA', 'MKK', 'LNY', 'LIH', 'HNM', 'LUP', 'MUE', 'JHM', 'JRF', 'PAK', 'UPP', 'HDH']"
      ],
      "execution_count": null,
      "outputs": []
    },
    {
      "cell_type": "markdown",
      "metadata": {
        "id": "b4ekvq7Td0cU"
      },
      "source": [
        "Soure: [List of airports in Hawaii](https://en.wikipedia.org/wiki/List_of_airports_in_Hawaii)"
      ]
    },
    {
      "cell_type": "code",
      "metadata": {
        "id": "vq5qPIzdcbQ-",
        "colab": {
          "base_uri": "https://localhost:8080/",
          "height": 483
        },
        "outputId": "fd1c9661-9e27-4b0b-bc1d-17f182a6cea1"
      },
      "source": [
        "airports0[airports0['IATA'].isin(IATA_list)]"
      ],
      "execution_count": null,
      "outputs": [
        {
          "output_type": "execute_result",
          "data": {
            "text/html": [
              "<div>\n",
              "<style scoped>\n",
              "    .dataframe tbody tr th:only-of-type {\n",
              "        vertical-align: middle;\n",
              "    }\n",
              "\n",
              "    .dataframe tbody tr th {\n",
              "        vertical-align: top;\n",
              "    }\n",
              "\n",
              "    .dataframe thead th {\n",
              "        text-align: right;\n",
              "    }\n",
              "</style>\n",
              "<table border=\"1\" class=\"dataframe\">\n",
              "  <thead>\n",
              "    <tr style=\"text-align: right;\">\n",
              "      <th></th>\n",
              "      <th>Airport ID</th>\n",
              "      <th>Name</th>\n",
              "      <th>City</th>\n",
              "      <th>Country</th>\n",
              "      <th>IATA</th>\n",
              "      <th>ICAO</th>\n",
              "      <th>Latitude</th>\n",
              "      <th>Longitude</th>\n",
              "      <th>Altitude</th>\n",
              "      <th>HoursFromUTC</th>\n",
              "      <th>DST</th>\n",
              "      <th>Timezone</th>\n",
              "      <th>Type</th>\n",
              "      <th>Source</th>\n",
              "    </tr>\n",
              "  </thead>\n",
              "  <tbody>\n",
              "    <tr>\n",
              "      <th>3216</th>\n",
              "      <td>3415</td>\n",
              "      <td>Hilo International Airport</td>\n",
              "      <td>Hilo</td>\n",
              "      <td>United States</td>\n",
              "      <td>ITO</td>\n",
              "      <td>PHTO</td>\n",
              "      <td>19.721399</td>\n",
              "      <td>-155.048004</td>\n",
              "      <td>38</td>\n",
              "      <td>-10.0</td>\n",
              "      <td>N</td>\n",
              "      <td>Pacific/Honolulu</td>\n",
              "      <td>airport</td>\n",
              "      <td>OurAirports</td>\n",
              "    </tr>\n",
              "    <tr>\n",
              "      <th>3246</th>\n",
              "      <td>3445</td>\n",
              "      <td>Hana Airport</td>\n",
              "      <td>Hana</td>\n",
              "      <td>United States</td>\n",
              "      <td>HNM</td>\n",
              "      <td>PHHN</td>\n",
              "      <td>20.795601</td>\n",
              "      <td>-156.014008</td>\n",
              "      <td>78</td>\n",
              "      <td>-10.0</td>\n",
              "      <td>A</td>\n",
              "      <td>Pacific/Honolulu</td>\n",
              "      <td>airport</td>\n",
              "      <td>OurAirports</td>\n",
              "    </tr>\n",
              "    <tr>\n",
              "      <th>3257</th>\n",
              "      <td>3456</td>\n",
              "      <td>Kahului Airport</td>\n",
              "      <td>Kahului</td>\n",
              "      <td>United States</td>\n",
              "      <td>OGG</td>\n",
              "      <td>PHOG</td>\n",
              "      <td>20.898600</td>\n",
              "      <td>-156.429993</td>\n",
              "      <td>54</td>\n",
              "      <td>-10.0</td>\n",
              "      <td>N</td>\n",
              "      <td>Pacific/Honolulu</td>\n",
              "      <td>airport</td>\n",
              "      <td>OurAirports</td>\n",
              "    </tr>\n",
              "    <tr>\n",
              "      <th>3315</th>\n",
              "      <td>3514</td>\n",
              "      <td>Ellison Onizuka Kona International At Keahole ...</td>\n",
              "      <td>Kona</td>\n",
              "      <td>United States</td>\n",
              "      <td>KOA</td>\n",
              "      <td>PHKO</td>\n",
              "      <td>19.738783</td>\n",
              "      <td>-156.045603</td>\n",
              "      <td>47</td>\n",
              "      <td>-10.0</td>\n",
              "      <td>N</td>\n",
              "      <td>Pacific/Honolulu</td>\n",
              "      <td>airport</td>\n",
              "      <td>OurAirports</td>\n",
              "    </tr>\n",
              "    <tr>\n",
              "      <th>3332</th>\n",
              "      <td>3532</td>\n",
              "      <td>Upolu Airport</td>\n",
              "      <td>Opolu</td>\n",
              "      <td>United States</td>\n",
              "      <td>UPP</td>\n",
              "      <td>PHUP</td>\n",
              "      <td>20.265301</td>\n",
              "      <td>-155.860001</td>\n",
              "      <td>96</td>\n",
              "      <td>-10.0</td>\n",
              "      <td>A</td>\n",
              "      <td>Pacific/Honolulu</td>\n",
              "      <td>airport</td>\n",
              "      <td>OurAirports</td>\n",
              "    </tr>\n",
              "    <tr>\n",
              "      <th>3345</th>\n",
              "      <td>3545</td>\n",
              "      <td>Waimea Kohala Airport</td>\n",
              "      <td>Kamuela</td>\n",
              "      <td>United States</td>\n",
              "      <td>MUE</td>\n",
              "      <td>PHMU</td>\n",
              "      <td>20.001301</td>\n",
              "      <td>-155.667999</td>\n",
              "      <td>2671</td>\n",
              "      <td>-10.0</td>\n",
              "      <td>A</td>\n",
              "      <td>Pacific/Honolulu</td>\n",
              "      <td>airport</td>\n",
              "      <td>OurAirports</td>\n",
              "    </tr>\n",
              "    <tr>\n",
              "      <th>3383</th>\n",
              "      <td>3583</td>\n",
              "      <td>Dillingham Airfield</td>\n",
              "      <td>Dillingham</td>\n",
              "      <td>United States</td>\n",
              "      <td>HDH</td>\n",
              "      <td>PHDH</td>\n",
              "      <td>21.579500</td>\n",
              "      <td>-158.197006</td>\n",
              "      <td>14</td>\n",
              "      <td>-10.0</td>\n",
              "      <td>A</td>\n",
              "      <td>Pacific/Honolulu</td>\n",
              "      <td>airport</td>\n",
              "      <td>OurAirports</td>\n",
              "    </tr>\n",
              "    <tr>\n",
              "      <th>3402</th>\n",
              "      <td>3602</td>\n",
              "      <td>Lihue Airport</td>\n",
              "      <td>Lihue</td>\n",
              "      <td>United States</td>\n",
              "      <td>LIH</td>\n",
              "      <td>PHLI</td>\n",
              "      <td>21.976000</td>\n",
              "      <td>-159.339005</td>\n",
              "      <td>153</td>\n",
              "      <td>-10.0</td>\n",
              "      <td>N</td>\n",
              "      <td>Pacific/Honolulu</td>\n",
              "      <td>airport</td>\n",
              "      <td>OurAirports</td>\n",
              "    </tr>\n",
              "    <tr>\n",
              "      <th>3505</th>\n",
              "      <td>3705</td>\n",
              "      <td>Molokai Airport</td>\n",
              "      <td>Molokai</td>\n",
              "      <td>United States</td>\n",
              "      <td>MKK</td>\n",
              "      <td>PHMK</td>\n",
              "      <td>21.152901</td>\n",
              "      <td>-157.095993</td>\n",
              "      <td>454</td>\n",
              "      <td>-10.0</td>\n",
              "      <td>N</td>\n",
              "      <td>Pacific/Honolulu</td>\n",
              "      <td>airport</td>\n",
              "      <td>OurAirports</td>\n",
              "    </tr>\n",
              "    <tr>\n",
              "      <th>3528</th>\n",
              "      <td>3728</td>\n",
              "      <td>Daniel K Inouye International Airport</td>\n",
              "      <td>Honolulu</td>\n",
              "      <td>United States</td>\n",
              "      <td>HNL</td>\n",
              "      <td>PHNL</td>\n",
              "      <td>21.320620</td>\n",
              "      <td>-157.924228</td>\n",
              "      <td>13</td>\n",
              "      <td>-10.0</td>\n",
              "      <td>N</td>\n",
              "      <td>Pacific/Honolulu</td>\n",
              "      <td>airport</td>\n",
              "      <td>OurAirports</td>\n",
              "    </tr>\n",
              "    <tr>\n",
              "      <th>3596</th>\n",
              "      <td>3796</td>\n",
              "      <td>Kapalua Airport</td>\n",
              "      <td>Lahania-kapalua</td>\n",
              "      <td>United States</td>\n",
              "      <td>JHM</td>\n",
              "      <td>PHJH</td>\n",
              "      <td>20.962900</td>\n",
              "      <td>-156.673004</td>\n",
              "      <td>256</td>\n",
              "      <td>-10.0</td>\n",
              "      <td>N</td>\n",
              "      <td>Pacific/Honolulu</td>\n",
              "      <td>airport</td>\n",
              "      <td>OurAirports</td>\n",
              "    </tr>\n",
              "    <tr>\n",
              "      <th>3651</th>\n",
              "      <td>3851</td>\n",
              "      <td>Lanai Airport</td>\n",
              "      <td>Lanai</td>\n",
              "      <td>United States</td>\n",
              "      <td>LNY</td>\n",
              "      <td>PHNY</td>\n",
              "      <td>20.785601</td>\n",
              "      <td>-156.951004</td>\n",
              "      <td>1308</td>\n",
              "      <td>-10.0</td>\n",
              "      <td>N</td>\n",
              "      <td>Pacific/Honolulu</td>\n",
              "      <td>airport</td>\n",
              "      <td>OurAirports</td>\n",
              "    </tr>\n",
              "    <tr>\n",
              "      <th>4634</th>\n",
              "      <td>5989</td>\n",
              "      <td>Kalaupapa Airport</td>\n",
              "      <td>Molokai</td>\n",
              "      <td>United States</td>\n",
              "      <td>LUP</td>\n",
              "      <td>PHLU</td>\n",
              "      <td>21.211000</td>\n",
              "      <td>-156.973999</td>\n",
              "      <td>24</td>\n",
              "      <td>-10.0</td>\n",
              "      <td>A</td>\n",
              "      <td>Pacific/Honolulu</td>\n",
              "      <td>airport</td>\n",
              "      <td>OurAirports</td>\n",
              "    </tr>\n",
              "    <tr>\n",
              "      <th>6347</th>\n",
              "      <td>8824</td>\n",
              "      <td>Kalaeloa Airport</td>\n",
              "      <td>Kapolei</td>\n",
              "      <td>United States</td>\n",
              "      <td>JRF</td>\n",
              "      <td>PHJR</td>\n",
              "      <td>21.307400</td>\n",
              "      <td>-158.070009</td>\n",
              "      <td>30</td>\n",
              "      <td>-10.0</td>\n",
              "      <td>U</td>\n",
              "      <td>Pacific/Honolulu</td>\n",
              "      <td>airport</td>\n",
              "      <td>OurAirports</td>\n",
              "    </tr>\n",
              "  </tbody>\n",
              "</table>\n",
              "</div>"
            ],
            "text/plain": [
              "      Airport ID  ...       Source\n",
              "3216        3415  ...  OurAirports\n",
              "3246        3445  ...  OurAirports\n",
              "3257        3456  ...  OurAirports\n",
              "3315        3514  ...  OurAirports\n",
              "3332        3532  ...  OurAirports\n",
              "3345        3545  ...  OurAirports\n",
              "3383        3583  ...  OurAirports\n",
              "3402        3602  ...  OurAirports\n",
              "3505        3705  ...  OurAirports\n",
              "3528        3728  ...  OurAirports\n",
              "3596        3796  ...  OurAirports\n",
              "3651        3851  ...  OurAirports\n",
              "4634        5989  ...  OurAirports\n",
              "6347        8824  ...  OurAirports\n",
              "\n",
              "[14 rows x 14 columns]"
            ]
          },
          "metadata": {
            "tags": []
          },
          "execution_count": 38
        }
      ]
    },
    {
      "cell_type": "code",
      "metadata": {
        "id": "dexl9E4Ac7K9"
      },
      "source": [
        ""
      ],
      "execution_count": null,
      "outputs": []
    }
  ]
}